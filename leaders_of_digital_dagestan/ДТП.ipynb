{
  "nbformat": 4,
  "nbformat_minor": 0,
  "metadata": {
    "colab": {
      "name": "ДТП.ipynb",
      "provenance": [],
      "collapsed_sections": [
        "FH0ZYdNyQzug",
        "Az0XsbtSepR2",
        "GywlangPRAEm",
        "kJ608gMEfpzB",
        "WwcSZ2XKJy2S",
        "a4QqxloFmn3d",
        "yRQbWtiLAd3l",
        "4R7NPJA5AHTH",
        "IGDduevdASuF",
        "ompLFwV5smBZ",
        "_FN6kSEnrmwm",
        "KrFEBB0cuefE",
        "lLhnuX23dNFD",
        "zwgVJeQHryE8",
        "HH17qrogAFYP",
        "tmYfuEAkEZ3l",
        "iUzt2gB_FVpG",
        "G0CrEFGwury9",
        "7YpSagKp-HYN",
        "7bHjIb2gpalu",
        "aEP5Br_d_K3r",
        "_r4X4GF3uyNj",
        "XFTvibdKmqkH",
        "870l_9AGdTvF",
        "Mq4JT_E6pUpQ",
        "-tMuH9N1pf7Q"
      ]
    },
    "kernelspec": {
      "name": "python3",
      "display_name": "Python 3"
    },
    "language_info": {
      "name": "python"
    },
    "widgets": {
      "application/vnd.jupyter.widget-state+json": {
        "9fe61ab1fb224d05b876e16259cdf158": {
          "model_module": "@jupyter-widgets/controls",
          "model_name": "HBoxModel",
          "model_module_version": "1.5.0",
          "state": {
            "_dom_classes": [],
            "_model_module": "@jupyter-widgets/controls",
            "_model_module_version": "1.5.0",
            "_model_name": "HBoxModel",
            "_view_count": null,
            "_view_module": "@jupyter-widgets/controls",
            "_view_module_version": "1.5.0",
            "_view_name": "HBoxView",
            "box_style": "",
            "children": [
              "IPY_MODEL_b301889f5d474985a4e6db98610b9c59",
              "IPY_MODEL_9c67323e07594d0e9bb3430a358f2aa3",
              "IPY_MODEL_40fe41a488c54412b620416bb1739e11"
            ],
            "layout": "IPY_MODEL_6b63211ccd084a86b03758ed7ed3cdfb"
          }
        },
        "b301889f5d474985a4e6db98610b9c59": {
          "model_module": "@jupyter-widgets/controls",
          "model_name": "HTMLModel",
          "model_module_version": "1.5.0",
          "state": {
            "_dom_classes": [],
            "_model_module": "@jupyter-widgets/controls",
            "_model_module_version": "1.5.0",
            "_model_name": "HTMLModel",
            "_view_count": null,
            "_view_module": "@jupyter-widgets/controls",
            "_view_module_version": "1.5.0",
            "_view_name": "HTMLView",
            "description": "",
            "description_tooltip": null,
            "layout": "IPY_MODEL_fe73fde1a1d44423aa07e1c3d5b3970b",
            "placeholder": "​",
            "style": "IPY_MODEL_b220400ea79e4e1d9fddbe3793f4247a",
            "value": "100%"
          }
        },
        "9c67323e07594d0e9bb3430a358f2aa3": {
          "model_module": "@jupyter-widgets/controls",
          "model_name": "FloatProgressModel",
          "model_module_version": "1.5.0",
          "state": {
            "_dom_classes": [],
            "_model_module": "@jupyter-widgets/controls",
            "_model_module_version": "1.5.0",
            "_model_name": "FloatProgressModel",
            "_view_count": null,
            "_view_module": "@jupyter-widgets/controls",
            "_view_module_version": "1.5.0",
            "_view_name": "ProgressView",
            "bar_style": "success",
            "description": "",
            "description_tooltip": null,
            "layout": "IPY_MODEL_3d0604f9b63d409584db696b63be6a9a",
            "max": 19996,
            "min": 0,
            "orientation": "horizontal",
            "style": "IPY_MODEL_484f5c44d3804b9ba667e5faefe9e617",
            "value": 19996
          }
        },
        "40fe41a488c54412b620416bb1739e11": {
          "model_module": "@jupyter-widgets/controls",
          "model_name": "HTMLModel",
          "model_module_version": "1.5.0",
          "state": {
            "_dom_classes": [],
            "_model_module": "@jupyter-widgets/controls",
            "_model_module_version": "1.5.0",
            "_model_name": "HTMLModel",
            "_view_count": null,
            "_view_module": "@jupyter-widgets/controls",
            "_view_module_version": "1.5.0",
            "_view_name": "HTMLView",
            "description": "",
            "description_tooltip": null,
            "layout": "IPY_MODEL_86a65679911d4bb9bdc9f5ffead1946a",
            "placeholder": "​",
            "style": "IPY_MODEL_df31500f520c467c94fb7fbdb932e799",
            "value": " 19996/19996 [08:39&lt;00:00, 40.15it/s]"
          }
        },
        "6b63211ccd084a86b03758ed7ed3cdfb": {
          "model_module": "@jupyter-widgets/base",
          "model_name": "LayoutModel",
          "model_module_version": "1.2.0",
          "state": {
            "_model_module": "@jupyter-widgets/base",
            "_model_module_version": "1.2.0",
            "_model_name": "LayoutModel",
            "_view_count": null,
            "_view_module": "@jupyter-widgets/base",
            "_view_module_version": "1.2.0",
            "_view_name": "LayoutView",
            "align_content": null,
            "align_items": null,
            "align_self": null,
            "border": null,
            "bottom": null,
            "display": null,
            "flex": null,
            "flex_flow": null,
            "grid_area": null,
            "grid_auto_columns": null,
            "grid_auto_flow": null,
            "grid_auto_rows": null,
            "grid_column": null,
            "grid_gap": null,
            "grid_row": null,
            "grid_template_areas": null,
            "grid_template_columns": null,
            "grid_template_rows": null,
            "height": null,
            "justify_content": null,
            "justify_items": null,
            "left": null,
            "margin": null,
            "max_height": null,
            "max_width": null,
            "min_height": null,
            "min_width": null,
            "object_fit": null,
            "object_position": null,
            "order": null,
            "overflow": null,
            "overflow_x": null,
            "overflow_y": null,
            "padding": null,
            "right": null,
            "top": null,
            "visibility": null,
            "width": null
          }
        },
        "fe73fde1a1d44423aa07e1c3d5b3970b": {
          "model_module": "@jupyter-widgets/base",
          "model_name": "LayoutModel",
          "model_module_version": "1.2.0",
          "state": {
            "_model_module": "@jupyter-widgets/base",
            "_model_module_version": "1.2.0",
            "_model_name": "LayoutModel",
            "_view_count": null,
            "_view_module": "@jupyter-widgets/base",
            "_view_module_version": "1.2.0",
            "_view_name": "LayoutView",
            "align_content": null,
            "align_items": null,
            "align_self": null,
            "border": null,
            "bottom": null,
            "display": null,
            "flex": null,
            "flex_flow": null,
            "grid_area": null,
            "grid_auto_columns": null,
            "grid_auto_flow": null,
            "grid_auto_rows": null,
            "grid_column": null,
            "grid_gap": null,
            "grid_row": null,
            "grid_template_areas": null,
            "grid_template_columns": null,
            "grid_template_rows": null,
            "height": null,
            "justify_content": null,
            "justify_items": null,
            "left": null,
            "margin": null,
            "max_height": null,
            "max_width": null,
            "min_height": null,
            "min_width": null,
            "object_fit": null,
            "object_position": null,
            "order": null,
            "overflow": null,
            "overflow_x": null,
            "overflow_y": null,
            "padding": null,
            "right": null,
            "top": null,
            "visibility": null,
            "width": null
          }
        },
        "b220400ea79e4e1d9fddbe3793f4247a": {
          "model_module": "@jupyter-widgets/controls",
          "model_name": "DescriptionStyleModel",
          "model_module_version": "1.5.0",
          "state": {
            "_model_module": "@jupyter-widgets/controls",
            "_model_module_version": "1.5.0",
            "_model_name": "DescriptionStyleModel",
            "_view_count": null,
            "_view_module": "@jupyter-widgets/base",
            "_view_module_version": "1.2.0",
            "_view_name": "StyleView",
            "description_width": ""
          }
        },
        "3d0604f9b63d409584db696b63be6a9a": {
          "model_module": "@jupyter-widgets/base",
          "model_name": "LayoutModel",
          "model_module_version": "1.2.0",
          "state": {
            "_model_module": "@jupyter-widgets/base",
            "_model_module_version": "1.2.0",
            "_model_name": "LayoutModel",
            "_view_count": null,
            "_view_module": "@jupyter-widgets/base",
            "_view_module_version": "1.2.0",
            "_view_name": "LayoutView",
            "align_content": null,
            "align_items": null,
            "align_self": null,
            "border": null,
            "bottom": null,
            "display": null,
            "flex": null,
            "flex_flow": null,
            "grid_area": null,
            "grid_auto_columns": null,
            "grid_auto_flow": null,
            "grid_auto_rows": null,
            "grid_column": null,
            "grid_gap": null,
            "grid_row": null,
            "grid_template_areas": null,
            "grid_template_columns": null,
            "grid_template_rows": null,
            "height": null,
            "justify_content": null,
            "justify_items": null,
            "left": null,
            "margin": null,
            "max_height": null,
            "max_width": null,
            "min_height": null,
            "min_width": null,
            "object_fit": null,
            "object_position": null,
            "order": null,
            "overflow": null,
            "overflow_x": null,
            "overflow_y": null,
            "padding": null,
            "right": null,
            "top": null,
            "visibility": null,
            "width": null
          }
        },
        "484f5c44d3804b9ba667e5faefe9e617": {
          "model_module": "@jupyter-widgets/controls",
          "model_name": "ProgressStyleModel",
          "model_module_version": "1.5.0",
          "state": {
            "_model_module": "@jupyter-widgets/controls",
            "_model_module_version": "1.5.0",
            "_model_name": "ProgressStyleModel",
            "_view_count": null,
            "_view_module": "@jupyter-widgets/base",
            "_view_module_version": "1.2.0",
            "_view_name": "StyleView",
            "bar_color": null,
            "description_width": ""
          }
        },
        "86a65679911d4bb9bdc9f5ffead1946a": {
          "model_module": "@jupyter-widgets/base",
          "model_name": "LayoutModel",
          "model_module_version": "1.2.0",
          "state": {
            "_model_module": "@jupyter-widgets/base",
            "_model_module_version": "1.2.0",
            "_model_name": "LayoutModel",
            "_view_count": null,
            "_view_module": "@jupyter-widgets/base",
            "_view_module_version": "1.2.0",
            "_view_name": "LayoutView",
            "align_content": null,
            "align_items": null,
            "align_self": null,
            "border": null,
            "bottom": null,
            "display": null,
            "flex": null,
            "flex_flow": null,
            "grid_area": null,
            "grid_auto_columns": null,
            "grid_auto_flow": null,
            "grid_auto_rows": null,
            "grid_column": null,
            "grid_gap": null,
            "grid_row": null,
            "grid_template_areas": null,
            "grid_template_columns": null,
            "grid_template_rows": null,
            "height": null,
            "justify_content": null,
            "justify_items": null,
            "left": null,
            "margin": null,
            "max_height": null,
            "max_width": null,
            "min_height": null,
            "min_width": null,
            "object_fit": null,
            "object_position": null,
            "order": null,
            "overflow": null,
            "overflow_x": null,
            "overflow_y": null,
            "padding": null,
            "right": null,
            "top": null,
            "visibility": null,
            "width": null
          }
        },
        "df31500f520c467c94fb7fbdb932e799": {
          "model_module": "@jupyter-widgets/controls",
          "model_name": "DescriptionStyleModel",
          "model_module_version": "1.5.0",
          "state": {
            "_model_module": "@jupyter-widgets/controls",
            "_model_module_version": "1.5.0",
            "_model_name": "DescriptionStyleModel",
            "_view_count": null,
            "_view_module": "@jupyter-widgets/base",
            "_view_module_version": "1.2.0",
            "_view_name": "StyleView",
            "description_width": ""
          }
        },
        "de53545ae30643b192ae5f1e618d418b": {
          "model_module": "@jupyter-widgets/controls",
          "model_name": "HBoxModel",
          "model_module_version": "1.5.0",
          "state": {
            "_dom_classes": [],
            "_model_module": "@jupyter-widgets/controls",
            "_model_module_version": "1.5.0",
            "_model_name": "HBoxModel",
            "_view_count": null,
            "_view_module": "@jupyter-widgets/controls",
            "_view_module_version": "1.5.0",
            "_view_name": "HBoxView",
            "box_style": "",
            "children": [
              "IPY_MODEL_389fbed0f65042cc9dfa8c1db64ba445",
              "IPY_MODEL_c2a06de5103d4b7c98cf020596b6a657",
              "IPY_MODEL_71406b53b99e41a291191370b0e19f76"
            ],
            "layout": "IPY_MODEL_a38e2af4776c4666a699fde27be55641"
          }
        },
        "389fbed0f65042cc9dfa8c1db64ba445": {
          "model_module": "@jupyter-widgets/controls",
          "model_name": "HTMLModel",
          "model_module_version": "1.5.0",
          "state": {
            "_dom_classes": [],
            "_model_module": "@jupyter-widgets/controls",
            "_model_module_version": "1.5.0",
            "_model_name": "HTMLModel",
            "_view_count": null,
            "_view_module": "@jupyter-widgets/controls",
            "_view_module_version": "1.5.0",
            "_view_name": "HTMLView",
            "description": "",
            "description_tooltip": null,
            "layout": "IPY_MODEL_4ece787c38e8430995fd82b687aec23a",
            "placeholder": "​",
            "style": "IPY_MODEL_f6ab1fbe52df417e93dc617b5871533e",
            "value": "100%"
          }
        },
        "c2a06de5103d4b7c98cf020596b6a657": {
          "model_module": "@jupyter-widgets/controls",
          "model_name": "FloatProgressModel",
          "model_module_version": "1.5.0",
          "state": {
            "_dom_classes": [],
            "_model_module": "@jupyter-widgets/controls",
            "_model_module_version": "1.5.0",
            "_model_name": "FloatProgressModel",
            "_view_count": null,
            "_view_module": "@jupyter-widgets/controls",
            "_view_module_version": "1.5.0",
            "_view_name": "ProgressView",
            "bar_style": "success",
            "description": "",
            "description_tooltip": null,
            "layout": "IPY_MODEL_98e33912ec304a51ab82efe61404440d",
            "max": 6788,
            "min": 0,
            "orientation": "horizontal",
            "style": "IPY_MODEL_1dd5342b45714d86adf0171231a6fd73",
            "value": 6788
          }
        },
        "71406b53b99e41a291191370b0e19f76": {
          "model_module": "@jupyter-widgets/controls",
          "model_name": "HTMLModel",
          "model_module_version": "1.5.0",
          "state": {
            "_dom_classes": [],
            "_model_module": "@jupyter-widgets/controls",
            "_model_module_version": "1.5.0",
            "_model_name": "HTMLModel",
            "_view_count": null,
            "_view_module": "@jupyter-widgets/controls",
            "_view_module_version": "1.5.0",
            "_view_name": "HTMLView",
            "description": "",
            "description_tooltip": null,
            "layout": "IPY_MODEL_54113242111c42238ba2fdb6114615b5",
            "placeholder": "​",
            "style": "IPY_MODEL_72d641e2310840d2b62dcecbdad39c61",
            "value": " 6788/6788 [02:55&lt;00:00, 40.53it/s]"
          }
        },
        "a38e2af4776c4666a699fde27be55641": {
          "model_module": "@jupyter-widgets/base",
          "model_name": "LayoutModel",
          "model_module_version": "1.2.0",
          "state": {
            "_model_module": "@jupyter-widgets/base",
            "_model_module_version": "1.2.0",
            "_model_name": "LayoutModel",
            "_view_count": null,
            "_view_module": "@jupyter-widgets/base",
            "_view_module_version": "1.2.0",
            "_view_name": "LayoutView",
            "align_content": null,
            "align_items": null,
            "align_self": null,
            "border": null,
            "bottom": null,
            "display": null,
            "flex": null,
            "flex_flow": null,
            "grid_area": null,
            "grid_auto_columns": null,
            "grid_auto_flow": null,
            "grid_auto_rows": null,
            "grid_column": null,
            "grid_gap": null,
            "grid_row": null,
            "grid_template_areas": null,
            "grid_template_columns": null,
            "grid_template_rows": null,
            "height": null,
            "justify_content": null,
            "justify_items": null,
            "left": null,
            "margin": null,
            "max_height": null,
            "max_width": null,
            "min_height": null,
            "min_width": null,
            "object_fit": null,
            "object_position": null,
            "order": null,
            "overflow": null,
            "overflow_x": null,
            "overflow_y": null,
            "padding": null,
            "right": null,
            "top": null,
            "visibility": null,
            "width": null
          }
        },
        "4ece787c38e8430995fd82b687aec23a": {
          "model_module": "@jupyter-widgets/base",
          "model_name": "LayoutModel",
          "model_module_version": "1.2.0",
          "state": {
            "_model_module": "@jupyter-widgets/base",
            "_model_module_version": "1.2.0",
            "_model_name": "LayoutModel",
            "_view_count": null,
            "_view_module": "@jupyter-widgets/base",
            "_view_module_version": "1.2.0",
            "_view_name": "LayoutView",
            "align_content": null,
            "align_items": null,
            "align_self": null,
            "border": null,
            "bottom": null,
            "display": null,
            "flex": null,
            "flex_flow": null,
            "grid_area": null,
            "grid_auto_columns": null,
            "grid_auto_flow": null,
            "grid_auto_rows": null,
            "grid_column": null,
            "grid_gap": null,
            "grid_row": null,
            "grid_template_areas": null,
            "grid_template_columns": null,
            "grid_template_rows": null,
            "height": null,
            "justify_content": null,
            "justify_items": null,
            "left": null,
            "margin": null,
            "max_height": null,
            "max_width": null,
            "min_height": null,
            "min_width": null,
            "object_fit": null,
            "object_position": null,
            "order": null,
            "overflow": null,
            "overflow_x": null,
            "overflow_y": null,
            "padding": null,
            "right": null,
            "top": null,
            "visibility": null,
            "width": null
          }
        },
        "f6ab1fbe52df417e93dc617b5871533e": {
          "model_module": "@jupyter-widgets/controls",
          "model_name": "DescriptionStyleModel",
          "model_module_version": "1.5.0",
          "state": {
            "_model_module": "@jupyter-widgets/controls",
            "_model_module_version": "1.5.0",
            "_model_name": "DescriptionStyleModel",
            "_view_count": null,
            "_view_module": "@jupyter-widgets/base",
            "_view_module_version": "1.2.0",
            "_view_name": "StyleView",
            "description_width": ""
          }
        },
        "98e33912ec304a51ab82efe61404440d": {
          "model_module": "@jupyter-widgets/base",
          "model_name": "LayoutModel",
          "model_module_version": "1.2.0",
          "state": {
            "_model_module": "@jupyter-widgets/base",
            "_model_module_version": "1.2.0",
            "_model_name": "LayoutModel",
            "_view_count": null,
            "_view_module": "@jupyter-widgets/base",
            "_view_module_version": "1.2.0",
            "_view_name": "LayoutView",
            "align_content": null,
            "align_items": null,
            "align_self": null,
            "border": null,
            "bottom": null,
            "display": null,
            "flex": null,
            "flex_flow": null,
            "grid_area": null,
            "grid_auto_columns": null,
            "grid_auto_flow": null,
            "grid_auto_rows": null,
            "grid_column": null,
            "grid_gap": null,
            "grid_row": null,
            "grid_template_areas": null,
            "grid_template_columns": null,
            "grid_template_rows": null,
            "height": null,
            "justify_content": null,
            "justify_items": null,
            "left": null,
            "margin": null,
            "max_height": null,
            "max_width": null,
            "min_height": null,
            "min_width": null,
            "object_fit": null,
            "object_position": null,
            "order": null,
            "overflow": null,
            "overflow_x": null,
            "overflow_y": null,
            "padding": null,
            "right": null,
            "top": null,
            "visibility": null,
            "width": null
          }
        },
        "1dd5342b45714d86adf0171231a6fd73": {
          "model_module": "@jupyter-widgets/controls",
          "model_name": "ProgressStyleModel",
          "model_module_version": "1.5.0",
          "state": {
            "_model_module": "@jupyter-widgets/controls",
            "_model_module_version": "1.5.0",
            "_model_name": "ProgressStyleModel",
            "_view_count": null,
            "_view_module": "@jupyter-widgets/base",
            "_view_module_version": "1.2.0",
            "_view_name": "StyleView",
            "bar_color": null,
            "description_width": ""
          }
        },
        "54113242111c42238ba2fdb6114615b5": {
          "model_module": "@jupyter-widgets/base",
          "model_name": "LayoutModel",
          "model_module_version": "1.2.0",
          "state": {
            "_model_module": "@jupyter-widgets/base",
            "_model_module_version": "1.2.0",
            "_model_name": "LayoutModel",
            "_view_count": null,
            "_view_module": "@jupyter-widgets/base",
            "_view_module_version": "1.2.0",
            "_view_name": "LayoutView",
            "align_content": null,
            "align_items": null,
            "align_self": null,
            "border": null,
            "bottom": null,
            "display": null,
            "flex": null,
            "flex_flow": null,
            "grid_area": null,
            "grid_auto_columns": null,
            "grid_auto_flow": null,
            "grid_auto_rows": null,
            "grid_column": null,
            "grid_gap": null,
            "grid_row": null,
            "grid_template_areas": null,
            "grid_template_columns": null,
            "grid_template_rows": null,
            "height": null,
            "justify_content": null,
            "justify_items": null,
            "left": null,
            "margin": null,
            "max_height": null,
            "max_width": null,
            "min_height": null,
            "min_width": null,
            "object_fit": null,
            "object_position": null,
            "order": null,
            "overflow": null,
            "overflow_x": null,
            "overflow_y": null,
            "padding": null,
            "right": null,
            "top": null,
            "visibility": null,
            "width": null
          }
        },
        "72d641e2310840d2b62dcecbdad39c61": {
          "model_module": "@jupyter-widgets/controls",
          "model_name": "DescriptionStyleModel",
          "model_module_version": "1.5.0",
          "state": {
            "_model_module": "@jupyter-widgets/controls",
            "_model_module_version": "1.5.0",
            "_model_name": "DescriptionStyleModel",
            "_view_count": null,
            "_view_module": "@jupyter-widgets/base",
            "_view_module_version": "1.2.0",
            "_view_name": "StyleView",
            "description_width": ""
          }
        }
      }
    }
  },
  "cells": [
    {
      "cell_type": "markdown",
      "source": [
        "## Загрузим нужные библиотеки"
      ],
      "metadata": {
        "id": "FH0ZYdNyQzug"
      }
    },
    {
      "cell_type": "code",
      "source": [
        "!pip install catboost\n",
        "!pip install openpyxl\n",
        "!pip install shap"
      ],
      "metadata": {
        "id": "pxV-l9wNecOz"
      },
      "execution_count": null,
      "outputs": []
    },
    {
      "cell_type": "code",
      "execution_count": null,
      "metadata": {
        "id": "BwNGqMidQiRi"
      },
      "outputs": [],
      "source": [
        "import pandas as pd\n",
        "import seaborn as sns\n",
        "import matplotlib.pyplot as plt\n",
        "from sklearn.model_selection import train_test_split\n",
        "\n",
        "from sklearn.metrics import recall_score\n",
        "\n",
        "import numpy as np\n",
        "from sklearn.datasets import make_regression\n",
        "from sklearn.preprocessing import OneHotEncoder\n",
        "from sklearn.preprocessing import StandardScaler\n",
        "from sklearn.model_selection import KFold\n",
        "from sklearn.preprocessing import LabelEncoder\n",
        "from datetime import datetime\n",
        "import seaborn as sns\n",
        "import matplotlib.pylab as plt\n",
        "\n",
        "from tqdm.notebook import trange, tqdm\n",
        "from catboost import CatBoostRegressor, CatBoostClassifier\n",
        "import holidays\n",
        "import matplotlib.pyplot as plt\n",
        "import shap\n",
        "import copy\n",
        "import shap\n",
        "\n",
        "np.random.seed(0)\n",
        "\n",
        "tqdm.pandas()\n",
        "%matplotlib inline"
      ]
    },
    {
      "cell_type": "markdown",
      "source": [
        "## Загрузим данные"
      ],
      "metadata": {
        "id": "Az0XsbtSepR2"
      }
    },
    {
      "cell_type": "code",
      "source": [
        "from google.colab import drive\n",
        "drive.mount('/content/drive')"
      ],
      "metadata": {
        "colab": {
          "base_uri": "https://localhost:8080/"
        },
        "id": "Gi04HvQBa1Ho",
        "outputId": "8fbd2f71-e1bb-4d54-b2b5-bd1d4d347a97"
      },
      "execution_count": null,
      "outputs": [
        {
          "output_type": "stream",
          "name": "stdout",
          "text": [
            "Drive already mounted at /content/drive; to attempt to forcibly remount, call drive.mount(\"/content/drive\", force_remount=True).\n"
          ]
        }
      ]
    },
    {
      "cell_type": "code",
      "source": [
        "df_train = pd.read_csv(\"/content/drive/MyDrive/ColabNotebooks/DTP/train_dataset_train.csv\")\n",
        "df_test = pd.read_csv(\"/content/drive/MyDrive/ColabNotebooks/DTP/test_dataset_test.csv\")"
      ],
      "metadata": {
        "id": "y2smQ93nQzJi"
      },
      "execution_count": null,
      "outputs": []
    },
    {
      "cell_type": "markdown",
      "source": [
        "## Рассмотрим датасет по ближе"
      ],
      "metadata": {
        "id": "GywlangPRAEm"
      }
    },
    {
      "cell_type": "code",
      "source": [
        "df_train.head(3)"
      ],
      "metadata": {
        "colab": {
          "base_uri": "https://localhost:8080/"
        },
        "id": "gvcl_K3FQ-os",
        "outputId": "7d57cf22-a8c6-449e-b19e-be2b24cae212"
      },
      "execution_count": null,
      "outputs": [
        {
          "output_type": "execute_result",
          "data": {
            "text/plain": [
              "          id        Дата     Время                                   Место  \\\n",
              "0  490103984  13.07.2018  17:35:00  Новгородская область, Великий Новгород   \n",
              "1  490097169  11.05.2018  17:10:00  Новгородская область, Великий Новгород   \n",
              "2  490031781  25.01.2020  14:44:00  Новгородская область, Великий Новгород   \n",
              "\n",
              "                            Улица Дом Дорога  Километр  Метр       Вид ДТП  \\\n",
              "0  Большая Санкт-Петербургская ул  88    NaN       NaN   NaN  Столкновение   \n",
              "1  Большая Санкт-Петербургская ул  73    NaN       NaN   NaN  Столкновение   \n",
              "2                    Хутынская ул  29    NaN       NaN   NaN           NaN   \n",
              "\n",
              "   ...  year_18  year_19  year_20   sin_day  sin_month  sin_week  sin_weekday  \\\n",
              "0  ...      1.0      0.0      0.0  0.440783       -0.5 -0.226710    -0.433884   \n",
              "1  ...      1.0      0.0      0.0  0.858706       -0.5 -0.762162     0.000000   \n",
              "2  ...      0.0      0.0      1.0 -0.899878        0.5  0.463083    -0.974928   \n",
              "\n",
              "   sin_hour   sin_min  Праздник  \n",
              "0 -0.965926 -0.500000         0  \n",
              "1 -0.965926  0.866025         0  \n",
              "2 -0.500000 -0.994522         0  \n",
              "\n",
              "[3 rows x 166 columns]"
            ],
            "text/html": [
              "\n",
              "  <div id=\"df-fb92be40-4c1b-483d-8f57-318b50636eac\">\n",
              "    <div class=\"colab-df-container\">\n",
              "      <div>\n",
              "<style scoped>\n",
              "    .dataframe tbody tr th:only-of-type {\n",
              "        vertical-align: middle;\n",
              "    }\n",
              "\n",
              "    .dataframe tbody tr th {\n",
              "        vertical-align: top;\n",
              "    }\n",
              "\n",
              "    .dataframe thead th {\n",
              "        text-align: right;\n",
              "    }\n",
              "</style>\n",
              "<table border=\"1\" class=\"dataframe\">\n",
              "  <thead>\n",
              "    <tr style=\"text-align: right;\">\n",
              "      <th></th>\n",
              "      <th>id</th>\n",
              "      <th>Дата</th>\n",
              "      <th>Время</th>\n",
              "      <th>Место</th>\n",
              "      <th>Улица</th>\n",
              "      <th>Дом</th>\n",
              "      <th>Дорога</th>\n",
              "      <th>Километр</th>\n",
              "      <th>Метр</th>\n",
              "      <th>Вид ДТП</th>\n",
              "      <th>...</th>\n",
              "      <th>year_18</th>\n",
              "      <th>year_19</th>\n",
              "      <th>year_20</th>\n",
              "      <th>sin_day</th>\n",
              "      <th>sin_month</th>\n",
              "      <th>sin_week</th>\n",
              "      <th>sin_weekday</th>\n",
              "      <th>sin_hour</th>\n",
              "      <th>sin_min</th>\n",
              "      <th>Праздник</th>\n",
              "    </tr>\n",
              "  </thead>\n",
              "  <tbody>\n",
              "    <tr>\n",
              "      <th>0</th>\n",
              "      <td>490103984</td>\n",
              "      <td>13.07.2018</td>\n",
              "      <td>17:35:00</td>\n",
              "      <td>Новгородская область, Великий Новгород</td>\n",
              "      <td>Большая Санкт-Петербургская ул</td>\n",
              "      <td>88</td>\n",
              "      <td>NaN</td>\n",
              "      <td>NaN</td>\n",
              "      <td>NaN</td>\n",
              "      <td>Столкновение</td>\n",
              "      <td>...</td>\n",
              "      <td>1.0</td>\n",
              "      <td>0.0</td>\n",
              "      <td>0.0</td>\n",
              "      <td>0.440783</td>\n",
              "      <td>-0.5</td>\n",
              "      <td>-0.226710</td>\n",
              "      <td>-0.433884</td>\n",
              "      <td>-0.965926</td>\n",
              "      <td>-0.500000</td>\n",
              "      <td>0</td>\n",
              "    </tr>\n",
              "    <tr>\n",
              "      <th>1</th>\n",
              "      <td>490097169</td>\n",
              "      <td>11.05.2018</td>\n",
              "      <td>17:10:00</td>\n",
              "      <td>Новгородская область, Великий Новгород</td>\n",
              "      <td>Большая Санкт-Петербургская ул</td>\n",
              "      <td>73</td>\n",
              "      <td>NaN</td>\n",
              "      <td>NaN</td>\n",
              "      <td>NaN</td>\n",
              "      <td>Столкновение</td>\n",
              "      <td>...</td>\n",
              "      <td>1.0</td>\n",
              "      <td>0.0</td>\n",
              "      <td>0.0</td>\n",
              "      <td>0.858706</td>\n",
              "      <td>-0.5</td>\n",
              "      <td>-0.762162</td>\n",
              "      <td>0.000000</td>\n",
              "      <td>-0.965926</td>\n",
              "      <td>0.866025</td>\n",
              "      <td>0</td>\n",
              "    </tr>\n",
              "    <tr>\n",
              "      <th>2</th>\n",
              "      <td>490031781</td>\n",
              "      <td>25.01.2020</td>\n",
              "      <td>14:44:00</td>\n",
              "      <td>Новгородская область, Великий Новгород</td>\n",
              "      <td>Хутынская ул</td>\n",
              "      <td>29</td>\n",
              "      <td>NaN</td>\n",
              "      <td>NaN</td>\n",
              "      <td>NaN</td>\n",
              "      <td>NaN</td>\n",
              "      <td>...</td>\n",
              "      <td>0.0</td>\n",
              "      <td>0.0</td>\n",
              "      <td>1.0</td>\n",
              "      <td>-0.899878</td>\n",
              "      <td>0.5</td>\n",
              "      <td>0.463083</td>\n",
              "      <td>-0.974928</td>\n",
              "      <td>-0.500000</td>\n",
              "      <td>-0.994522</td>\n",
              "      <td>0</td>\n",
              "    </tr>\n",
              "  </tbody>\n",
              "</table>\n",
              "<p>3 rows × 166 columns</p>\n",
              "</div>\n",
              "      <button class=\"colab-df-convert\" onclick=\"convertToInteractive('df-fb92be40-4c1b-483d-8f57-318b50636eac')\"\n",
              "              title=\"Convert this dataframe to an interactive table.\"\n",
              "              style=\"display:none;\">\n",
              "        \n",
              "  <svg xmlns=\"http://www.w3.org/2000/svg\" height=\"24px\"viewBox=\"0 0 24 24\"\n",
              "       width=\"24px\">\n",
              "    <path d=\"M0 0h24v24H0V0z\" fill=\"none\"/>\n",
              "    <path d=\"M18.56 5.44l.94 2.06.94-2.06 2.06-.94-2.06-.94-.94-2.06-.94 2.06-2.06.94zm-11 1L8.5 8.5l.94-2.06 2.06-.94-2.06-.94L8.5 2.5l-.94 2.06-2.06.94zm10 10l.94 2.06.94-2.06 2.06-.94-2.06-.94-.94-2.06-.94 2.06-2.06.94z\"/><path d=\"M17.41 7.96l-1.37-1.37c-.4-.4-.92-.59-1.43-.59-.52 0-1.04.2-1.43.59L10.3 9.45l-7.72 7.72c-.78.78-.78 2.05 0 2.83L4 21.41c.39.39.9.59 1.41.59.51 0 1.02-.2 1.41-.59l7.78-7.78 2.81-2.81c.8-.78.8-2.07 0-2.86zM5.41 20L4 18.59l7.72-7.72 1.47 1.35L5.41 20z\"/>\n",
              "  </svg>\n",
              "      </button>\n",
              "      \n",
              "  <style>\n",
              "    .colab-df-container {\n",
              "      display:flex;\n",
              "      flex-wrap:wrap;\n",
              "      gap: 12px;\n",
              "    }\n",
              "\n",
              "    .colab-df-convert {\n",
              "      background-color: #E8F0FE;\n",
              "      border: none;\n",
              "      border-radius: 50%;\n",
              "      cursor: pointer;\n",
              "      display: none;\n",
              "      fill: #1967D2;\n",
              "      height: 32px;\n",
              "      padding: 0 0 0 0;\n",
              "      width: 32px;\n",
              "    }\n",
              "\n",
              "    .colab-df-convert:hover {\n",
              "      background-color: #E2EBFA;\n",
              "      box-shadow: 0px 1px 2px rgba(60, 64, 67, 0.3), 0px 1px 3px 1px rgba(60, 64, 67, 0.15);\n",
              "      fill: #174EA6;\n",
              "    }\n",
              "\n",
              "    [theme=dark] .colab-df-convert {\n",
              "      background-color: #3B4455;\n",
              "      fill: #D2E3FC;\n",
              "    }\n",
              "\n",
              "    [theme=dark] .colab-df-convert:hover {\n",
              "      background-color: #434B5C;\n",
              "      box-shadow: 0px 1px 3px 1px rgba(0, 0, 0, 0.15);\n",
              "      filter: drop-shadow(0px 1px 2px rgba(0, 0, 0, 0.3));\n",
              "      fill: #FFFFFF;\n",
              "    }\n",
              "  </style>\n",
              "\n",
              "      <script>\n",
              "        const buttonEl =\n",
              "          document.querySelector('#df-fb92be40-4c1b-483d-8f57-318b50636eac button.colab-df-convert');\n",
              "        buttonEl.style.display =\n",
              "          google.colab.kernel.accessAllowed ? 'block' : 'none';\n",
              "\n",
              "        async function convertToInteractive(key) {\n",
              "          const element = document.querySelector('#df-fb92be40-4c1b-483d-8f57-318b50636eac');\n",
              "          const dataTable =\n",
              "            await google.colab.kernel.invokeFunction('convertToInteractive',\n",
              "                                                     [key], {});\n",
              "          if (!dataTable) return;\n",
              "\n",
              "          const docLinkHtml = 'Like what you see? Visit the ' +\n",
              "            '<a target=\"_blank\" href=https://colab.research.google.com/notebooks/data_table.ipynb>data table notebook</a>'\n",
              "            + ' to learn more about interactive tables.';\n",
              "          element.innerHTML = '';\n",
              "          dataTable['output_type'] = 'display_data';\n",
              "          await google.colab.output.renderOutput(dataTable, element);\n",
              "          const docLink = document.createElement('div');\n",
              "          docLink.innerHTML = docLinkHtml;\n",
              "          element.appendChild(docLink);\n",
              "        }\n",
              "      </script>\n",
              "    </div>\n",
              "  </div>\n",
              "  "
            ]
          },
          "metadata": {},
          "execution_count": 1038
        }
      ]
    },
    {
      "cell_type": "code",
      "source": [
        "df_train.shape"
      ],
      "metadata": {
        "colab": {
          "base_uri": "https://localhost:8080/"
        },
        "id": "jE8r6sYMUB6w",
        "outputId": "924ffd3b-c08d-4078-99f3-856911467d51"
      },
      "execution_count": null,
      "outputs": [
        {
          "output_type": "execute_result",
          "data": {
            "text/plain": [
              "(19996, 166)"
            ]
          },
          "metadata": {},
          "execution_count": 1039
        }
      ]
    },
    {
      "cell_type": "code",
      "source": [
        "df_train.info()"
      ],
      "metadata": {
        "colab": {
          "base_uri": "https://localhost:8080/"
        },
        "id": "uAIT-vwLUI0z",
        "outputId": "701b4c2c-1fd0-4fa9-e3b6-aeb5609ffe43"
      },
      "execution_count": null,
      "outputs": [
        {
          "output_type": "stream",
          "name": "stdout",
          "text": [
            "<class 'pandas.core.frame.DataFrame'>\n",
            "RangeIndex: 19996 entries, 0 to 19995\n",
            "Columns: 166 entries, id to Праздник\n",
            "dtypes: float64(143), int64(16), object(7)\n",
            "memory usage: 25.3+ MB\n"
          ]
        }
      ]
    },
    {
      "cell_type": "code",
      "source": [
        "df_train[\"Погибло\"].value_counts()"
      ],
      "metadata": {
        "colab": {
          "base_uri": "https://localhost:8080/"
        },
        "id": "_fSQZVd9tDcL",
        "outputId": "c8cb4b1f-573b-45e3-dd8e-685363b6f5a7"
      },
      "execution_count": null,
      "outputs": [
        {
          "output_type": "execute_result",
          "data": {
            "text/plain": [
              "0    35426\n",
              "1      299\n",
              "2       35\n",
              "3       11\n",
              "Name: Погибло, dtype: int64"
            ]
          },
          "metadata": {},
          "execution_count": 9
        }
      ]
    },
    {
      "cell_type": "code",
      "source": [
        "df_train[\"Погибло детей\"].value_counts()"
      ],
      "metadata": {
        "colab": {
          "base_uri": "https://localhost:8080/"
        },
        "id": "KzSJYP6YtMAc",
        "outputId": "753331b6-46c6-4f4a-a87e-b330a363f8f0"
      },
      "execution_count": null,
      "outputs": [
        {
          "output_type": "execute_result",
          "data": {
            "text/plain": [
              "0    35759\n",
              "1       12\n",
              "Name: Погибло детей, dtype: int64"
            ]
          },
          "metadata": {},
          "execution_count": 10
        }
      ]
    },
    {
      "cell_type": "code",
      "source": [
        "df_train[\"Ранено\"].value_counts()"
      ],
      "metadata": {
        "colab": {
          "base_uri": "https://localhost:8080/"
        },
        "id": "ISnOCLUttO-A",
        "outputId": "3d38c68a-d9be-400f-b129-722209a3b625"
      },
      "execution_count": null,
      "outputs": [
        {
          "output_type": "execute_result",
          "data": {
            "text/plain": [
              "0    31229\n",
              "1     3473\n",
              "2      733\n",
              "3      217\n",
              "4       76\n",
              "5       28\n",
              "6        9\n",
              "8        3\n",
              "7        3\n",
              "Name: Ранено, dtype: int64"
            ]
          },
          "metadata": {},
          "execution_count": 11
        }
      ]
    },
    {
      "cell_type": "code",
      "source": [
        "df_train[\"Ранено детей\"].value_counts()"
      ],
      "metadata": {
        "colab": {
          "base_uri": "https://localhost:8080/"
        },
        "id": "bN75a3fotYtQ",
        "outputId": "7b4a7b2a-b5e7-4fb3-9598-79f0cef7474b"
      },
      "execution_count": null,
      "outputs": [
        {
          "output_type": "execute_result",
          "data": {
            "text/plain": [
              "0    34994\n",
              "1      678\n",
              "2       86\n",
              "3        7\n",
              "4        6\n",
              "Name: Ранено детей, dtype: int64"
            ]
          },
          "metadata": {},
          "execution_count": 12
        }
      ]
    },
    {
      "cell_type": "markdown",
      "source": [
        "## Обработка дубликатов"
      ],
      "metadata": {
        "id": "kJ608gMEfpzB"
      }
    },
    {
      "cell_type": "code",
      "source": [
        "df_train.drop_duplicates(inplace=True)\n",
        "df_train.reset_index(drop=True, inplace=True)"
      ],
      "metadata": {
        "id": "DYENiXf4ftsu"
      },
      "execution_count": null,
      "outputs": []
    },
    {
      "cell_type": "code",
      "source": [
        "common_rows = pd.merge(df_test, df_train, how='inner', on=['Дата', 'Время', 'Место', 'Улица', 'Дом', 'Дорога', 'Вид ДТП', 'Километр', 'Метр']).rename({'id_x': 'id'}, axis=1)"
      ],
      "metadata": {
        "id": "ZmpPrCdqg_6l"
      },
      "execution_count": null,
      "outputs": []
    },
    {
      "cell_type": "markdown",
      "source": [
        "## Даные с сайта ГИБДД"
      ],
      "metadata": {
        "id": "WwcSZ2XKJy2S"
      }
    },
    {
      "cell_type": "code",
      "source": [
        "import json\n",
        "with open('/content/drive/MyDrive/ColabNotebooks/DTP/novgorodskaia-oblast.geojson') as f:\n",
        "    data = json.load(f)"
      ],
      "metadata": {
        "id": "vJLqxLyYJ3rP"
      },
      "execution_count": null,
      "outputs": []
    },
    {
      "cell_type": "code",
      "source": [
        "df_train['datetime'] = pd.to_datetime(df_train['Дата'] + ' ' + df_train['Время'])\n",
        "df_test['datetime'] = pd.to_datetime(df_test['Дата'] + ' ' + df_test['Время'])"
      ],
      "metadata": {
        "id": "2QP5Q4edMBgW"
      },
      "execution_count": null,
      "outputs": []
    },
    {
      "cell_type": "code",
      "source": [
        "participants_count = []\n",
        "dead_count = []\n",
        "injured_count = []\n",
        "severities = []\n",
        "road_conditions = []\n",
        "weathers = []\n",
        "categories = []\n",
        "roads = []\n",
        "kilos = []\n",
        "streets = []\n",
        "places = []\n",
        "numbers = []\n",
        "\n",
        "for row in tqdm(df_train[['datetime', 'Вид ДТП', 'Дорога', 'Место']].values):\n",
        "  flag = False\n",
        "  for obj in data['features']:\n",
        "    time = obj['properties']['datetime']\n",
        "    type_DTP = obj['properties']['category']\n",
        "\n",
        "    if time == str(row[0]):\n",
        "      flag = True\n",
        "      if type(obj['properties']['address']) == str:\n",
        "        address = obj['properties']['address'].split(',')\n",
        "        if len(address) == 2:\n",
        "          roads.append(address[0])\n",
        "          kilos.append(address[1].strip().strip().split(' ')[0])\n",
        "          streets.append(np.nan)\n",
        "          places.append(np.nan)\n",
        "          numbers.append(np.nan)\n",
        "        elif len(address) == 3:\n",
        "          places.append(address[0])\n",
        "          street = address[1].split(' ')\n",
        "          streets.append(' '.join(street[2:]) + ' ' + street[1])\n",
        "          numbers.append(address[2].strip())\n",
        "          roads.append(np.nan)\n",
        "          kilos.append(np.nan)\n",
        "        else:\n",
        "          roads.append(np.nan)\n",
        "          kilos.append(np.nan)\n",
        "          streets.append(np.nan)\n",
        "          places.append(np.nan)\n",
        "          numbers.append(np.nan)\n",
        "      else:\n",
        "        roads.append(np.nan)\n",
        "        kilos.append(np.nan)\n",
        "        streets.append(np.nan)\n",
        "        places.append(np.nan)\n",
        "        numbers.append(np.nan)\n",
        "\n",
        "      participants_count.append(obj['properties']['participants_count'])\n",
        "      dead_count.append(obj['properties']['dead_count'])\n",
        "      injured_count.append(obj['properties']['injured_count'])\n",
        "      severities.append(obj['properties']['severity'])\n",
        "      road_conditions.append(obj['properties']['road_conditions'][0])\n",
        "      weathers.append(obj['properties']['weather'][0])\n",
        "      categories.append(obj['properties']['category'])\n",
        "      break\n",
        "\n",
        "  if flag == False:\n",
        "    roads.append(np.nan)\n",
        "    kilos.append(np.nan)\n",
        "    streets.append(np.nan)\n",
        "    places.append(np.nan)\n",
        "    numbers.append(np.nan)\n",
        "    participants_count.append(np.nan)\n",
        "    dead_count.append(np.nan)\n",
        "    injured_count.append(np.nan)\n",
        "    severities.append(np.nan)\n",
        "    road_conditions.append(np.nan)\n",
        "    weathers.append(np.nan)\n",
        "    categories.append(np.nan)\n",
        "\n",
        "new_train_data = pd.DataFrame({'road': roads, 'kilo':kilos , 'street': streets, 'place': places, 'number': numbers,\n",
        "                               'participants_count': participants_count, 'severity': severities, 'road_conditions': road_conditions, \n",
        "                               'weather': weathers, 'category': categories, 'dead_count': dead_count, \n",
        "                               'injured_count': injured_count})"
      ],
      "metadata": {
        "colab": {
          "base_uri": "https://localhost:8080/",
          "referenced_widgets": [
            "9fe61ab1fb224d05b876e16259cdf158",
            "b301889f5d474985a4e6db98610b9c59",
            "9c67323e07594d0e9bb3430a358f2aa3",
            "40fe41a488c54412b620416bb1739e11",
            "6b63211ccd084a86b03758ed7ed3cdfb",
            "fe73fde1a1d44423aa07e1c3d5b3970b",
            "b220400ea79e4e1d9fddbe3793f4247a",
            "3d0604f9b63d409584db696b63be6a9a",
            "484f5c44d3804b9ba667e5faefe9e617",
            "86a65679911d4bb9bdc9f5ffead1946a",
            "df31500f520c467c94fb7fbdb932e799"
          ]
        },
        "id": "9hvDSNeiKyAN",
        "outputId": "d1863c47-b93e-47cb-8387-4097b3d5007a"
      },
      "execution_count": null,
      "outputs": [
        {
          "output_type": "display_data",
          "data": {
            "text/plain": [
              "  0%|          | 0/19996 [00:00<?, ?it/s]"
            ],
            "application/vnd.jupyter.widget-view+json": {
              "version_major": 2,
              "version_minor": 0,
              "model_id": "9fe61ab1fb224d05b876e16259cdf158"
            }
          },
          "metadata": {}
        }
      ]
    },
    {
      "cell_type": "code",
      "source": [
        "participants_count = []\n",
        "dead_count = []\n",
        "injured_count = []\n",
        "severities = []\n",
        "road_conditions = []\n",
        "weathers = []\n",
        "categories = []\n",
        "roads = []\n",
        "kilos = []\n",
        "streets = []\n",
        "places = []\n",
        "numbers = []\n",
        "\n",
        "for row in tqdm(df_test[['datetime', 'Вид ДТП', 'Дорога', 'Место']].values):\n",
        "  flag = False\n",
        "  for obj in data['features']:\n",
        "    time = obj['properties']['datetime']\n",
        "    type_DTP = obj['properties']['category']\n",
        "\n",
        "    if time == str(row[0]):\n",
        "      flag = True\n",
        "      if type(obj['properties']['address']) == str:\n",
        "        address = obj['properties']['address'].split(',')\n",
        "        if len(address) == 2:\n",
        "          roads.append(address[0])\n",
        "          kilos.append(address[1].strip().strip().split(' ')[0])\n",
        "          streets.append(np.nan)\n",
        "          places.append(np.nan)\n",
        "          numbers.append(np.nan)\n",
        "        elif len(address) == 3:\n",
        "          places.append(address[0])\n",
        "          street = address[1].split(' ')\n",
        "          streets.append(' '.join(street[2:]) + ' ' + street[1])\n",
        "          numbers.append(address[2].strip())\n",
        "          roads.append(np.nan)\n",
        "          kilos.append(np.nan)\n",
        "        else:\n",
        "          roads.append(np.nan)\n",
        "          kilos.append(np.nan)\n",
        "          streets.append(np.nan)\n",
        "          places.append(np.nan)\n",
        "          numbers.append(np.nan)\n",
        "      else:\n",
        "        roads.append(np.nan)\n",
        "        kilos.append(np.nan)\n",
        "        streets.append(np.nan)\n",
        "        places.append(np.nan)\n",
        "        numbers.append(np.nan)\n",
        "\n",
        "      participants_count.append(obj['properties']['participants_count'])\n",
        "      dead_count.append(obj['properties']['dead_count'])\n",
        "      injured_count.append(obj['properties']['injured_count'])\n",
        "      severities.append(obj['properties']['severity'])\n",
        "      road_conditions.append(obj['properties']['road_conditions'][0])\n",
        "      weathers.append(obj['properties']['weather'][0])\n",
        "      categories.append(obj['properties']['category'])\n",
        "      break\n",
        "\n",
        "  if flag == False:\n",
        "    roads.append(np.nan)\n",
        "    kilos.append(np.nan)\n",
        "    streets.append(np.nan)\n",
        "    places.append(np.nan)\n",
        "    numbers.append(np.nan)\n",
        "    participants_count.append(np.nan)\n",
        "    dead_count.append(np.nan)\n",
        "    injured_count.append(np.nan)\n",
        "    severities.append(np.nan)\n",
        "    road_conditions.append(np.nan)\n",
        "    weathers.append(np.nan)\n",
        "    categories.append(np.nan)\n",
        "\n",
        "new_test_data = pd.DataFrame({'road': roads, 'kilo':kilos , 'street': streets, 'place': places, 'number': numbers,\n",
        "                               'participants_count': participants_count, 'severity': severities, 'road_conditions': road_conditions, \n",
        "                               'weather': weathers, 'category': categories, 'dead_count': dead_count, \n",
        "                               'injured_count': injured_count})"
      ],
      "metadata": {
        "id": "rRIY784BRlFd",
        "colab": {
          "base_uri": "https://localhost:8080/",
          "referenced_widgets": [
            "de53545ae30643b192ae5f1e618d418b",
            "389fbed0f65042cc9dfa8c1db64ba445",
            "c2a06de5103d4b7c98cf020596b6a657",
            "71406b53b99e41a291191370b0e19f76",
            "a38e2af4776c4666a699fde27be55641",
            "4ece787c38e8430995fd82b687aec23a",
            "f6ab1fbe52df417e93dc617b5871533e",
            "98e33912ec304a51ab82efe61404440d",
            "1dd5342b45714d86adf0171231a6fd73",
            "54113242111c42238ba2fdb6114615b5",
            "72d641e2310840d2b62dcecbdad39c61"
          ]
        },
        "outputId": "fb1930dc-324d-4e1e-9857-cf2404ec2600"
      },
      "execution_count": null,
      "outputs": [
        {
          "output_type": "display_data",
          "data": {
            "text/plain": [
              "  0%|          | 0/6788 [00:00<?, ?it/s]"
            ],
            "application/vnd.jupyter.widget-view+json": {
              "version_major": 2,
              "version_minor": 0,
              "model_id": "de53545ae30643b192ae5f1e618d418b"
            }
          },
          "metadata": {}
        }
      ]
    },
    {
      "cell_type": "markdown",
      "source": [
        "## Обработаем дату и время"
      ],
      "metadata": {
        "id": "a4QqxloFmn3d"
      }
    },
    {
      "cell_type": "code",
      "source": [
        "df_train['День'] = pd.to_datetime(df_train['Дата']).dt.strftime(\"%d\").astype(int)\n",
        "df_train['Неделя'] = pd.to_datetime(df_train['Дата']).apply(lambda x: x.week)\n",
        "df_train['Неделя месяца'] = df_train['Дата'].apply(lambda d: (pd.to_datetime(d).day-1) // 7 + 1)\n",
        "df_train['Месяц'] = pd.to_datetime(df_train['Дата']).dt.strftime(\"%m\").astype(int)\n",
        "df_train['Год'] = pd.to_datetime(df_train['Дата']).dt.strftime(\"%y\").astype(int)\n",
        "df_train[\"Год_Месяц\"] = df_train[\"Дата\"].apply(lambda x: x.split()[0][:-3])\n",
        "df_train[\"Сезон\"] = df_train['Месяц'].apply(lambda x: x // 3)\n",
        "df_train['День недели'] = pd.to_datetime(df_train['Дата']).apply(lambda x: x.weekday())\n",
        "df_train[\"Код_даты\"] = pd.to_datetime(df_train[\"Дата\"]).astype(int) / 1000000000"
      ],
      "metadata": {
        "id": "omTjmeZiU158",
        "colab": {
          "base_uri": "https://localhost:8080/"
        },
        "outputId": "04ceb20c-0936-4d13-950c-9880335ec356"
      },
      "execution_count": null,
      "outputs": [
        {
          "output_type": "stream",
          "name": "stderr",
          "text": [
            "casting datetime64[ns] values to int64 with .astype(...) is deprecated and will raise in a future version. Use .view(...) instead.\n"
          ]
        }
      ]
    },
    {
      "cell_type": "code",
      "source": [
        "df_test['День'] = pd.to_datetime(df_test['Дата']).dt.strftime(\"%d\").astype(int)\n",
        "df_test['Неделя'] = pd.to_datetime(df_test['Дата']).apply(lambda x: x.week)\n",
        "df_test['Неделя месяца'] = df_test['Дата'].apply(lambda d: (pd.to_datetime(d).day-1) // 7 + 1)\n",
        "df_test['Месяц'] = pd.to_datetime(df_test['Дата']).dt.strftime(\"%m\").astype(int)\n",
        "df_test['Год'] = pd.to_datetime(df_test['Дата']).dt.strftime(\"%y\").astype(int)\n",
        "df_test[\"Год_Месяц\"] = df_test[\"Дата\"].apply(lambda x: x.split()[0][:-3])\n",
        "df_test[\"Сезон\"] = df_test['Месяц'].apply(lambda x: x // 3)\n",
        "df_test['День недели'] = pd.to_datetime(df_test['Дата']).apply(lambda x: x.weekday())\n",
        "df_test[\"Код_даты\"] = pd.to_datetime(df_test[\"Дата\"]).astype(int) / 1000000000"
      ],
      "metadata": {
        "id": "KM1HEAQgWTh0",
        "colab": {
          "base_uri": "https://localhost:8080/"
        },
        "outputId": "da5f6f5c-1a97-437c-b43c-188354e13ddc"
      },
      "execution_count": null,
      "outputs": [
        {
          "output_type": "stream",
          "name": "stderr",
          "text": [
            "casting datetime64[ns] values to int64 with .astype(...) is deprecated and will raise in a future version. Use .view(...) instead.\n"
          ]
        }
      ]
    },
    {
      "cell_type": "code",
      "source": [
        "df_train['Час'] = df_train['Время'].apply(lambda x: int(x[:2]))\n",
        "df_train['Время суток'] = df_train['Время'].apply(lambda x: 1 if 8 >= int(x[:2]) >= 19 else 0)\n",
        "df_train['Минута'] = df_train['Время'].apply(lambda x: int(x[3:5]))\n",
        "\n",
        "df_test['Час'] = df_test['Время'].apply(lambda x: int(x[:2]))\n",
        "df_test['Время суток'] = df_test['Время'].apply(lambda x: 1 if 8 >= int(x[:2]) >= 19 else 0)\n",
        "df_test['Минута'] = df_test['Время'].apply(lambda x: int(x[3:5]))"
      ],
      "metadata": {
        "id": "3Ss9wZA1lvPO"
      },
      "execution_count": null,
      "outputs": []
    },
    {
      "cell_type": "code",
      "source": [
        "ym_le = LabelEncoder()\n",
        "ym_le.fit(sorted(list(df_train[\"Год_Месяц\"].append(df_test[\"Год_Месяц\"]))))\n",
        "\n",
        "df_train[\"Год_Месяц\"] = ym_le.transform(df_train[\"Год_Месяц\"])\n",
        "df_test[\"Год_Месяц\"] = ym_le.transform(df_test[\"Год_Месяц\"])"
      ],
      "metadata": {
        "id": "icBoPakAllpk"
      },
      "execution_count": null,
      "outputs": []
    },
    {
      "cell_type": "code",
      "source": [
        "onehot_day = OneHotEncoder(handle_unknown='ignore', sparse=False)\n",
        "\n",
        "days = pd.DataFrame(onehot_day.fit_transform(df_train['День'].values.reshape(-1, 1)), columns=['d' + str(name) for name in onehot_day.categories_[0]])\n",
        "df_train = pd.concat([df_train, days], axis=1)\n",
        "\n",
        "days = pd.DataFrame(onehot_day.transform(df_test['День'].values.reshape(-1, 1)), columns=['d' + str(name) for name in onehot_day.categories_[0]])\n",
        "df_test = pd.concat([df_test, days], axis=1)\n",
        "\n",
        "onehot_month = OneHotEncoder(handle_unknown='ignore', sparse=False)\n",
        "\n",
        "months = pd.DataFrame(onehot_month.fit_transform(df_train['Месяц'].values.reshape(-1, 1)), columns=['m_' + str(name) for name in onehot_month.categories_[0]])\n",
        "df_train = pd.concat([df_train, months], axis=1)\n",
        "\n",
        "months = pd.DataFrame(onehot_month.transform(df_test['Месяц'].values.reshape(-1, 1)), columns=['m_' + str(name) for name in onehot_month.categories_[0]])\n",
        "df_test = pd.concat([df_test, months], axis=1)\n",
        "\n",
        "onehot_weekday = OneHotEncoder(handle_unknown='ignore', sparse=False)\n",
        "\n",
        "weekdays = pd.DataFrame(onehot_weekday.fit_transform(df_train['День недели'].values.reshape(-1, 1)), columns=['w_' + str(name) for name in onehot_weekday.categories_[0]])\n",
        "df_train = pd.concat([df_train, weekdays], axis=1)\n",
        "\n",
        "weekdays = pd.DataFrame(onehot_weekday.transform(df_test['День недели'].values.reshape(-1, 1)), columns=['w_' + str(name) for name in onehot_weekday.categories_[0]])\n",
        "df_test = pd.concat([df_test, weekdays], axis=1)\n",
        "\n",
        "onehot_wom = OneHotEncoder(handle_unknown='ignore', sparse=False)\n",
        "\n",
        "wom = pd.DataFrame(onehot_wom.fit_transform(df_train['Неделя месяца'].values.reshape(-1, 1)), columns=['wom_' + str(name) for name in onehot_wom.categories_[0]])\n",
        "df_train = pd.concat([df_train, wom], axis=1)\n",
        "\n",
        "wom = pd.DataFrame(onehot_wom.transform(df_test['Неделя месяца'].values.reshape(-1, 1)), columns=['wom_' + str(name) for name in onehot_wom.categories_[0]])\n",
        "df_test = pd.concat([df_test, wom], axis=1)\n",
        "\n",
        "onehot_week = OneHotEncoder(handle_unknown='ignore', sparse=False)\n",
        "\n",
        "weeks = pd.DataFrame(onehot_week.fit_transform(df_train['Неделя'].values.reshape(-1, 1)), columns=['week_' + str(name) for name in onehot_week.categories_[0]])\n",
        "df_train = pd.concat([df_train, weeks], axis=1)\n",
        "\n",
        "weeks = pd.DataFrame(onehot_week.transform(df_test['Неделя'].values.reshape(-1, 1)), columns=['week_' + str(name) for name in onehot_week.categories_[0]])\n",
        "df_test = pd.concat([df_test, weeks], axis=1)\n",
        "\n",
        "onehot_hour = OneHotEncoder(handle_unknown='ignore', sparse=False)\n",
        "\n",
        "hours = pd.DataFrame(onehot_hour.fit_transform(df_train['Час'].values.reshape(-1, 1)), columns=['hour_' + str(name) for name in onehot_hour.categories_[0]])\n",
        "df_train = pd.concat([df_train, hours], axis=1)\n",
        "\n",
        "hours = pd.DataFrame(onehot_hour.transform(df_test['Час'].values.reshape(-1, 1)), columns=['hour_' + str(name) for name in onehot_hour.categories_[0]])\n",
        "df_test = pd.concat([df_test, hours], axis=1)\n",
        "\n",
        "onehot_year = OneHotEncoder(handle_unknown='ignore', sparse=False)\n",
        "\n",
        "years = pd.DataFrame(onehot_year.fit_transform(df_train['Год'].values.reshape(-1, 1)), columns=['year_' + str(name) for name in onehot_year.categories_[0]])\n",
        "df_train = pd.concat([df_train, years], axis=1)\n",
        "\n",
        "years = pd.DataFrame(onehot_year.transform(df_test['Год'].values.reshape(-1, 1)), columns=['year_' + str(name) for name in onehot_year.categories_[0]])\n",
        "df_test = pd.concat([df_test, years], axis=1)"
      ],
      "metadata": {
        "id": "X4Nw47aNmHue"
      },
      "execution_count": null,
      "outputs": []
    },
    {
      "cell_type": "code",
      "source": [
        "def create_sin(col, time_fromat, start):\n",
        "    col = np.sin(2 * np.pi * (col - start) / time_fromat)\n",
        "    return col\n",
        "\n",
        "df_train['sin_day'] = create_sin(df_train['День'], 30.42, 0)\n",
        "df_train['sin_month'] = create_sin(df_train['Месяц'], 12, 0)\n",
        "df_train['sin_week'] = create_sin(df_train['Неделя'], 52.2, 0)\n",
        "df_train[\"sin_weekday\"] = create_sin(df_train[\"День недели\"], 7, 0)\n",
        "df_train['sin_hour'] = create_sin(df_train['Час'], 24, 0)\n",
        "df_train['sin_min'] = create_sin(df_train['Минута'], 60, 0)\n",
        "\n",
        "df_test['sin_day'] = create_sin(df_test['День'], 30.42, 0)\n",
        "df_test['sin_month'] = create_sin(df_test['Месяц'], 12, 0)\n",
        "df_test['sin_week'] = create_sin(df_test['Неделя'], 52.2, 0)\n",
        "df_test[\"sin_weekday\"] = create_sin(df_test[\"День недели\"], 7, 0)\n",
        "df_test['sin_hour'] = create_sin(df_test['Час'], 24, 0)\n",
        "df_test['sin_min'] = create_sin(df_test['Минута'], 60, 0)"
      ],
      "metadata": {
        "id": "lV5RSuHtmWeG"
      },
      "execution_count": null,
      "outputs": []
    },
    {
      "cell_type": "markdown",
      "source": [
        "Добавим праздники"
      ],
      "metadata": {
        "id": "4fignbPWmlGq"
      }
    },
    {
      "cell_type": "code",
      "source": [
        "df_train['Праздник'] = df_train['Дата'].apply(lambda x: 1 if x in holidays.Russia(years=[2021, 2022]) else 0)\n",
        "df_test['Праздник'] = df_test['Дата'].apply(lambda x: 1 if x in holidays.Russia(years=[2021, 2022]) else 0)"
      ],
      "metadata": {
        "id": "4EC-OwMqmmLP"
      },
      "execution_count": null,
      "outputs": []
    },
    {
      "cell_type": "code",
      "source": [
        "df_train.head(3)"
      ],
      "metadata": {
        "id": "VUgrXwNdU4YN",
        "colab": {
          "base_uri": "https://localhost:8080/"
        },
        "outputId": "7fde6270-eb52-469f-bf8c-03517d0687d2"
      },
      "execution_count": null,
      "outputs": [
        {
          "output_type": "execute_result",
          "data": {
            "text/plain": [
              "          id        Дата     Время                                   Место  \\\n",
              "0  490103984  13.07.2018  17:35:00  Новгородская область, Великий Новгород   \n",
              "1  490097169  11.05.2018  17:10:00  Новгородская область, Великий Новгород   \n",
              "2  490031781  25.01.2020  14:44:00  Новгородская область, Великий Новгород   \n",
              "\n",
              "                            Улица Дом Дорога  Километр  Метр       Вид ДТП  \\\n",
              "0  Большая Санкт-Петербургская ул  88    NaN       NaN   NaN  Столкновение   \n",
              "1  Большая Санкт-Петербургская ул  73    NaN       NaN   NaN  Столкновение   \n",
              "2                    Хутынская ул  29    NaN       NaN   NaN           NaN   \n",
              "\n",
              "   ...  year_18  year_19  year_20   sin_day sin_month  sin_week  sin_weekday  \\\n",
              "0  ...      1.0      0.0      0.0  0.440783      -0.5 -0.226710    -0.433884   \n",
              "1  ...      1.0      0.0      0.0  0.858706      -0.5 -0.762162     0.000000   \n",
              "2  ...      0.0      0.0      1.0 -0.899878       0.5  0.463083    -0.974928   \n",
              "\n",
              "   sin_hour   sin_min  Праздник  \n",
              "0 -0.965926 -0.500000         0  \n",
              "1 -0.965926  0.866025         0  \n",
              "2 -0.500000 -0.994522         0  \n",
              "\n",
              "[3 rows x 168 columns]"
            ],
            "text/html": [
              "\n",
              "  <div id=\"df-d9e48b91-22d8-4e84-9d6f-b3613614bf3d\">\n",
              "    <div class=\"colab-df-container\">\n",
              "      <div>\n",
              "<style scoped>\n",
              "    .dataframe tbody tr th:only-of-type {\n",
              "        vertical-align: middle;\n",
              "    }\n",
              "\n",
              "    .dataframe tbody tr th {\n",
              "        vertical-align: top;\n",
              "    }\n",
              "\n",
              "    .dataframe thead th {\n",
              "        text-align: right;\n",
              "    }\n",
              "</style>\n",
              "<table border=\"1\" class=\"dataframe\">\n",
              "  <thead>\n",
              "    <tr style=\"text-align: right;\">\n",
              "      <th></th>\n",
              "      <th>id</th>\n",
              "      <th>Дата</th>\n",
              "      <th>Время</th>\n",
              "      <th>Место</th>\n",
              "      <th>Улица</th>\n",
              "      <th>Дом</th>\n",
              "      <th>Дорога</th>\n",
              "      <th>Километр</th>\n",
              "      <th>Метр</th>\n",
              "      <th>Вид ДТП</th>\n",
              "      <th>...</th>\n",
              "      <th>year_18</th>\n",
              "      <th>year_19</th>\n",
              "      <th>year_20</th>\n",
              "      <th>sin_day</th>\n",
              "      <th>sin_month</th>\n",
              "      <th>sin_week</th>\n",
              "      <th>sin_weekday</th>\n",
              "      <th>sin_hour</th>\n",
              "      <th>sin_min</th>\n",
              "      <th>Праздник</th>\n",
              "    </tr>\n",
              "  </thead>\n",
              "  <tbody>\n",
              "    <tr>\n",
              "      <th>0</th>\n",
              "      <td>490103984</td>\n",
              "      <td>13.07.2018</td>\n",
              "      <td>17:35:00</td>\n",
              "      <td>Новгородская область, Великий Новгород</td>\n",
              "      <td>Большая Санкт-Петербургская ул</td>\n",
              "      <td>88</td>\n",
              "      <td>NaN</td>\n",
              "      <td>NaN</td>\n",
              "      <td>NaN</td>\n",
              "      <td>Столкновение</td>\n",
              "      <td>...</td>\n",
              "      <td>1.0</td>\n",
              "      <td>0.0</td>\n",
              "      <td>0.0</td>\n",
              "      <td>0.440783</td>\n",
              "      <td>-0.5</td>\n",
              "      <td>-0.226710</td>\n",
              "      <td>-0.433884</td>\n",
              "      <td>-0.965926</td>\n",
              "      <td>-0.500000</td>\n",
              "      <td>0</td>\n",
              "    </tr>\n",
              "    <tr>\n",
              "      <th>1</th>\n",
              "      <td>490097169</td>\n",
              "      <td>11.05.2018</td>\n",
              "      <td>17:10:00</td>\n",
              "      <td>Новгородская область, Великий Новгород</td>\n",
              "      <td>Большая Санкт-Петербургская ул</td>\n",
              "      <td>73</td>\n",
              "      <td>NaN</td>\n",
              "      <td>NaN</td>\n",
              "      <td>NaN</td>\n",
              "      <td>Столкновение</td>\n",
              "      <td>...</td>\n",
              "      <td>1.0</td>\n",
              "      <td>0.0</td>\n",
              "      <td>0.0</td>\n",
              "      <td>0.858706</td>\n",
              "      <td>-0.5</td>\n",
              "      <td>-0.762162</td>\n",
              "      <td>0.000000</td>\n",
              "      <td>-0.965926</td>\n",
              "      <td>0.866025</td>\n",
              "      <td>0</td>\n",
              "    </tr>\n",
              "    <tr>\n",
              "      <th>2</th>\n",
              "      <td>490031781</td>\n",
              "      <td>25.01.2020</td>\n",
              "      <td>14:44:00</td>\n",
              "      <td>Новгородская область, Великий Новгород</td>\n",
              "      <td>Хутынская ул</td>\n",
              "      <td>29</td>\n",
              "      <td>NaN</td>\n",
              "      <td>NaN</td>\n",
              "      <td>NaN</td>\n",
              "      <td>NaN</td>\n",
              "      <td>...</td>\n",
              "      <td>0.0</td>\n",
              "      <td>0.0</td>\n",
              "      <td>1.0</td>\n",
              "      <td>-0.899878</td>\n",
              "      <td>0.5</td>\n",
              "      <td>0.463083</td>\n",
              "      <td>-0.974928</td>\n",
              "      <td>-0.500000</td>\n",
              "      <td>-0.994522</td>\n",
              "      <td>0</td>\n",
              "    </tr>\n",
              "  </tbody>\n",
              "</table>\n",
              "<p>3 rows × 168 columns</p>\n",
              "</div>\n",
              "      <button class=\"colab-df-convert\" onclick=\"convertToInteractive('df-d9e48b91-22d8-4e84-9d6f-b3613614bf3d')\"\n",
              "              title=\"Convert this dataframe to an interactive table.\"\n",
              "              style=\"display:none;\">\n",
              "        \n",
              "  <svg xmlns=\"http://www.w3.org/2000/svg\" height=\"24px\"viewBox=\"0 0 24 24\"\n",
              "       width=\"24px\">\n",
              "    <path d=\"M0 0h24v24H0V0z\" fill=\"none\"/>\n",
              "    <path d=\"M18.56 5.44l.94 2.06.94-2.06 2.06-.94-2.06-.94-.94-2.06-.94 2.06-2.06.94zm-11 1L8.5 8.5l.94-2.06 2.06-.94-2.06-.94L8.5 2.5l-.94 2.06-2.06.94zm10 10l.94 2.06.94-2.06 2.06-.94-2.06-.94-.94-2.06-.94 2.06-2.06.94z\"/><path d=\"M17.41 7.96l-1.37-1.37c-.4-.4-.92-.59-1.43-.59-.52 0-1.04.2-1.43.59L10.3 9.45l-7.72 7.72c-.78.78-.78 2.05 0 2.83L4 21.41c.39.39.9.59 1.41.59.51 0 1.02-.2 1.41-.59l7.78-7.78 2.81-2.81c.8-.78.8-2.07 0-2.86zM5.41 20L4 18.59l7.72-7.72 1.47 1.35L5.41 20z\"/>\n",
              "  </svg>\n",
              "      </button>\n",
              "      \n",
              "  <style>\n",
              "    .colab-df-container {\n",
              "      display:flex;\n",
              "      flex-wrap:wrap;\n",
              "      gap: 12px;\n",
              "    }\n",
              "\n",
              "    .colab-df-convert {\n",
              "      background-color: #E8F0FE;\n",
              "      border: none;\n",
              "      border-radius: 50%;\n",
              "      cursor: pointer;\n",
              "      display: none;\n",
              "      fill: #1967D2;\n",
              "      height: 32px;\n",
              "      padding: 0 0 0 0;\n",
              "      width: 32px;\n",
              "    }\n",
              "\n",
              "    .colab-df-convert:hover {\n",
              "      background-color: #E2EBFA;\n",
              "      box-shadow: 0px 1px 2px rgba(60, 64, 67, 0.3), 0px 1px 3px 1px rgba(60, 64, 67, 0.15);\n",
              "      fill: #174EA6;\n",
              "    }\n",
              "\n",
              "    [theme=dark] .colab-df-convert {\n",
              "      background-color: #3B4455;\n",
              "      fill: #D2E3FC;\n",
              "    }\n",
              "\n",
              "    [theme=dark] .colab-df-convert:hover {\n",
              "      background-color: #434B5C;\n",
              "      box-shadow: 0px 1px 3px 1px rgba(0, 0, 0, 0.15);\n",
              "      filter: drop-shadow(0px 1px 2px rgba(0, 0, 0, 0.3));\n",
              "      fill: #FFFFFF;\n",
              "    }\n",
              "  </style>\n",
              "\n",
              "      <script>\n",
              "        const buttonEl =\n",
              "          document.querySelector('#df-d9e48b91-22d8-4e84-9d6f-b3613614bf3d button.colab-df-convert');\n",
              "        buttonEl.style.display =\n",
              "          google.colab.kernel.accessAllowed ? 'block' : 'none';\n",
              "\n",
              "        async function convertToInteractive(key) {\n",
              "          const element = document.querySelector('#df-d9e48b91-22d8-4e84-9d6f-b3613614bf3d');\n",
              "          const dataTable =\n",
              "            await google.colab.kernel.invokeFunction('convertToInteractive',\n",
              "                                                     [key], {});\n",
              "          if (!dataTable) return;\n",
              "\n",
              "          const docLinkHtml = 'Like what you see? Visit the ' +\n",
              "            '<a target=\"_blank\" href=https://colab.research.google.com/notebooks/data_table.ipynb>data table notebook</a>'\n",
              "            + ' to learn more about interactive tables.';\n",
              "          element.innerHTML = '';\n",
              "          dataTable['output_type'] = 'display_data';\n",
              "          await google.colab.output.renderOutput(dataTable, element);\n",
              "          const docLink = document.createElement('div');\n",
              "          docLink.innerHTML = docLinkHtml;\n",
              "          element.appendChild(docLink);\n",
              "        }\n",
              "      </script>\n",
              "    </div>\n",
              "  </div>\n",
              "  "
            ]
          },
          "metadata": {},
          "execution_count": 310
        }
      ]
    },
    {
      "cell_type": "markdown",
      "source": [
        "## Обработка данных с сайта ГИБДД"
      ],
      "metadata": {
        "id": "tb88lLGD_5JW"
      }
    },
    {
      "cell_type": "code",
      "source": [
        "merged_train_data = pd.concat([df_train, new_train_data], axis=1)\n",
        "merged_test_data = pd.concat([df_test, new_test_data], axis=1)"
      ],
      "metadata": {
        "id": "f-5zxZoxqoZs"
      },
      "execution_count": null,
      "outputs": []
    },
    {
      "cell_type": "markdown",
      "source": [
        "#### Заполнение пропусков в дорогах и местах"
      ],
      "metadata": {
        "id": "yRQbWtiLAd3l"
      }
    },
    {
      "cell_type": "code",
      "source": [
        "merged_train_data['Улица'] = merged_train_data['Улица'].fillna(merged_train_data['street'])\n",
        "merged_train_data['Дорога'] = merged_train_data['Дорога'].fillna(merged_train_data['road'])\n",
        "merged_train_data['Место'] = merged_train_data['Место'].fillna(merged_train_data['place'])\n",
        "merged_train_data['Километр'] = merged_train_data['Километр'].fillna(merged_train_data['kilo'])\n",
        "merged_train_data['Дом'] = merged_train_data['Дом'].fillna(merged_train_data['number'])\n",
        "merged_train_data['Вид ДТП'] = merged_train_data['Вид ДТП'].fillna(merged_train_data['category'])"
      ],
      "metadata": {
        "id": "1CAYnM4AoRiz"
      },
      "execution_count": null,
      "outputs": []
    },
    {
      "cell_type": "code",
      "source": [
        "merged_test_data['Улица'] = merged_test_data['Улица'].fillna(merged_test_data['street'])\n",
        "merged_test_data['Дорога'] = merged_test_data['Дорога'].fillna(merged_test_data['road'])\n",
        "merged_test_data['Место'] = merged_test_data['Место'].fillna(merged_test_data['place'])\n",
        "merged_test_data['Километр'] = merged_test_data['Километр'].fillna(merged_test_data['kilo'])\n",
        "merged_test_data['Дом'] = merged_test_data['Дом'].fillna(merged_test_data['number'])\n",
        "merged_test_data['Вид ДТП'] = merged_test_data['Вид ДТП'].fillna(merged_test_data['category'])"
      ],
      "metadata": {
        "id": "DCPMzZADoq8t"
      },
      "execution_count": null,
      "outputs": []
    },
    {
      "cell_type": "code",
      "source": [
        "merged_train_data.drop(['street', 'road', 'place', 'kilo', 'number', 'category'], inplace=True, axis=1)\n",
        "merged_test_data.drop(['street', 'road', 'place', 'kilo', 'number', 'category'], inplace=True, axis=1)"
      ],
      "metadata": {
        "id": "kWz38bm_tSYJ"
      },
      "execution_count": null,
      "outputs": []
    },
    {
      "cell_type": "markdown",
      "source": [
        "#### Количество участников ДТП"
      ],
      "metadata": {
        "id": "4R7NPJA5AHTH"
      }
    },
    {
      "cell_type": "code",
      "source": [
        "merged_train_data['participants_count'] = merged_train_data['participants_count'].fillna(merged_train_data['participants_count'].median())\n",
        "merged_test_data['participants_count'] = merged_test_data['participants_count'].fillna(merged_test_data['participants_count'].median())"
      ],
      "metadata": {
        "id": "nnn7lg5or8xV"
      },
      "execution_count": null,
      "outputs": []
    },
    {
      "cell_type": "markdown",
      "source": [
        "#### Количество умерших и раненых"
      ],
      "metadata": {
        "id": "IGDduevdASuF"
      }
    },
    {
      "cell_type": "code",
      "source": [
        "merged_train_data['dead_count'] = merged_train_data['dead_count'].fillna(merged_train_data['dead_count'].median())\n",
        "merged_test_data['dead_count'] = merged_test_data['dead_count'].fillna(merged_test_data['dead_count'].median())\n",
        "\n",
        "merged_train_data['injured_count'] = merged_train_data['injured_count'].fillna(merged_train_data['injured_count'].median())\n",
        "merged_test_data['injured_count'] = merged_test_data['injured_count'].fillna(merged_test_data['injured_count'].median())"
      ],
      "metadata": {
        "id": "x0CiKt5ysVCE"
      },
      "execution_count": null,
      "outputs": []
    },
    {
      "cell_type": "markdown",
      "source": [
        "#### Тяжесть ДТП"
      ],
      "metadata": {
        "id": "ompLFwV5smBZ"
      }
    },
    {
      "cell_type": "code",
      "source": [
        "merged_train_data['severity'] = merged_train_data['severity'].fillna('Неизвестно')\n",
        "merged_test_data['severity'] = merged_test_data['severity'].fillna('Неизвестно')"
      ],
      "metadata": {
        "id": "JvTuOVE7tu2S"
      },
      "execution_count": null,
      "outputs": []
    },
    {
      "cell_type": "markdown",
      "source": [
        "## EDA"
      ],
      "metadata": {
        "id": "PgWs20sRp3hT"
      }
    },
    {
      "cell_type": "code",
      "source": [
        "# merged_train_data.to_csv('/content/drive/MyDrive/ColabNotebooks/DTP/merged_train_data.csv', index=False)\n",
        "# merged_test_data.to_csv('/content/drive/MyDrive/ColabNotebooks/DTP/merged_test_data.csv', index=False)\n",
        "merged_train_data = pd.read_csv('/content/drive/MyDrive/ColabNotebooks/DTP/merged_train_data.csv')\n",
        "merged_test_data = pd.read_csv('/content/drive/MyDrive/ColabNotebooks/DTP/merged_test_data.csv')"
      ],
      "metadata": {
        "id": "F8BRNyAO_gXS"
      },
      "execution_count": null,
      "outputs": []
    },
    {
      "cell_type": "code",
      "source": [
        "df_train = merged_train_data.copy()\n",
        "df_test = merged_test_data.copy()"
      ],
      "metadata": {
        "id": "jamrxYxSva4y"
      },
      "execution_count": null,
      "outputs": []
    },
    {
      "cell_type": "code",
      "source": [
        "df_train[\"Ранено\"] = df_train[\"Ранено\"].apply(lambda x: 5 if x > 5 else x) # 8\n",
        "df_train[\"Ранено детей\"] = df_train[\"Ранено детей\"].apply(lambda x: 2 if x > 2 else x) # 4\n",
        "df_train[\"Погибло\"] = df_train[\"Погибло\"].apply(lambda x: 2 if x > 2 else x) # 3\n",
        "df_train[\"Погибло детей\"] = df_train[\"Погибло детей\"].apply(lambda x: 1 if x > 1 else x) # 1"
      ],
      "metadata": {
        "id": "5gzhyo8QlrC-"
      },
      "execution_count": null,
      "outputs": []
    },
    {
      "cell_type": "code",
      "source": [
        "union_data = df_train.drop([\"Ранено\", \"Ранено детей\", \"Погибло\", \"Погибло детей\"], axis=1).append(df_test)"
      ],
      "metadata": {
        "id": "eTuf-lib6-p_"
      },
      "execution_count": null,
      "outputs": []
    },
    {
      "cell_type": "markdown",
      "source": [
        "### Вид ДТП"
      ],
      "metadata": {
        "id": "_FN6kSEnrmwm"
      }
    },
    {
      "cell_type": "code",
      "source": [
        "df_train = df_train[df_train['Вид ДТП'] != 'Наезд на лицо, не являющееся участником дорожного движения (иного участника ДТП), осуществляющее производство работ']\n",
        "df_train.reset_index(drop=True, inplace=True)"
      ],
      "metadata": {
        "id": "m6P7y3lDhefy"
      },
      "execution_count": null,
      "outputs": []
    },
    {
      "cell_type": "markdown",
      "source": [
        "#### Заполнение пропусков"
      ],
      "metadata": {
        "id": "KrFEBB0cuefE"
      }
    },
    {
      "cell_type": "code",
      "source": [
        "type_per_month = union_data[[\"Год_Месяц\", \"Место\", \"Вид ДТП\"]].groupby(by=['Год_Месяц', \"Место\"]).agg(lambda x: x.mode() if len(x) >= 1 else np.array(x)).rename({'Вид ДТП': 'Вид ДТП 2'}, axis=1)\n",
        "type_per_month['Вид ДТП 2'] = type_per_month['Вид ДТП 2'].apply(lambda x: 'Столкновение' if type(x) == np.ndarray else x)\n",
        "\n",
        "df_train['Вид ДТП'].fillna(df_train.merge(type_per_month, how='left', on=['Год_Месяц', \"Место\"])['Вид ДТП 2'], inplace=True)\n",
        "df_test['Вид ДТП'].fillna(df_test.merge(type_per_month, how='left', on=['Год_Месяц', \"Место\"])['Вид ДТП 2'], inplace=True)"
      ],
      "metadata": {
        "id": "Y06q8b4umMpI"
      },
      "execution_count": null,
      "outputs": []
    },
    {
      "cell_type": "code",
      "source": [
        "df_train['Вид ДТП'] = df_train['Вид ДТП'].replace({'Наезд на лицо, не являющееся участником дорожного движения (иного участника ДТП), осуществляющее несение службы': 'Наезд на лицо, не являющееся участником дорожного движения',\n",
        "                            'Наезд на лицо, не являющееся участником дорожного движения (иного участника ДТП), осуществляющее какую-либо другую деятельность': 'Наезд на лицо, не являющееся участником дорожного движения',\n",
        "                            'Наезд на лицо, не являющееся участником дорожного движения, осуществляющее несение службы': 'Наезд на лицо, не являющееся участником дорожного движения',\n",
        "                            'Наезд на лицо, не являющееся участником дорожного движения, осуществляющее какую-либо другую деятельность': 'Наезд на лицо, не являющееся участником дорожного движения',\n",
        "                            'Наезд на лицо, не являющееся участником дорожного движения, осуществляющее производство работ': 'Наезд на лицо, не являющееся участником дорожного движения',\n",
        "                            'Наезд на внезапно возникшее препятствие': 'Наезд на препятствие'})\n",
        "df_test['Вид ДТП'] = df_test['Вид ДТП'].replace({'Наезд на лицо, не являющееся участником дорожного движения (иного участника ДТП), осуществляющее несение службы': 'Наезд на лицо, не являющееся участником дорожного движения',\n",
        "                            'Наезд на лицо, не являющееся участником дорожного движения (иного участника ДТП), осуществляющее какую-либо другую деятельность': 'Наезд на лицо, не являющееся участником дорожного движения',\n",
        "                            'Наезд на лицо, не являющееся участником дорожного движения, осуществляющее несение службы': 'Наезд на лицо, не являющееся участником дорожного движения',\n",
        "                            'Наезд на лицо, не являющееся участником дорожного движения, осуществляющее какую-либо другую деятельность': 'Наезд на лицо, не являющееся участником дорожного движения',\n",
        "                            'Наезд на лицо, не являющееся участником дорожного движения, осуществляющее производство работ': 'Наезд на лицо, не являющееся участником дорожного движения',\n",
        "                            'Наезд на внезапно возникшее препятствие': 'Наезд на препятствие'})"
      ],
      "metadata": {
        "id": "_wdec2T4As7p"
      },
      "execution_count": null,
      "outputs": []
    },
    {
      "cell_type": "markdown",
      "source": [
        "#### Посмотрим на распределение данных"
      ],
      "metadata": {
        "id": "lLhnuX23dNFD"
      }
    },
    {
      "cell_type": "code",
      "source": [
        "df_train.head()"
      ],
      "metadata": {
        "colab": {
          "base_uri": "https://localhost:8080/"
        },
        "id": "P6AItWZ0uqrp",
        "outputId": "cef04cf1-b483-4235-a724-4f2240de64ab"
      },
      "execution_count": null,
      "outputs": [
        {
          "output_type": "execute_result",
          "data": {
            "text/plain": [
              "          id        Дата     Время  \\\n",
              "0  490103984  13.07.2018  17:35:00   \n",
              "1  490097169  11.05.2018  17:10:00   \n",
              "2  490031781  25.01.2020  14:44:00   \n",
              "3  490021246  11.05.2020  11:30:00   \n",
              "4  490041585  09.01.2019  01:45:00   \n",
              "\n",
              "                                               Место  \\\n",
              "0             Новгородская область, Великий Новгород   \n",
              "1             Новгородская область, Великий Новгород   \n",
              "2             Новгородская область, Великий Новгород   \n",
              "3  Новгородская область, Новгородский район, Сави...   \n",
              "4             Новгородская область, Окуловский район   \n",
              "\n",
              "                            Улица  Дом  \\\n",
              "0  Большая Санкт-Петербургская ул   88   \n",
              "1  Большая Санкт-Петербургская ул   73   \n",
              "2                    Хутынская ул   29   \n",
              "3                     Вишнёвая ул    4   \n",
              "4                             NaN  NaN   \n",
              "\n",
              "                                              Дорога Километр  Метр  \\\n",
              "0                                                NaN      NaN   NaN   \n",
              "1                                                NaN      NaN   NaN   \n",
              "2                                                NaN      NaN   NaN   \n",
              "3                                                NaN      NaN   NaN   \n",
              "4  Нева Москва - Санкт-Петербург (основное направ...    430.0   5.0   \n",
              "\n",
              "        Вид ДТП  ...  sin_weekday  sin_hour       sin_min  Праздник  \\\n",
              "0  Столкновение  ...    -0.433884 -0.965926 -5.000000e-01         0   \n",
              "1  Столкновение  ...     0.000000 -0.965926  8.660254e-01         0   \n",
              "2  Столкновение  ...    -0.974928 -0.500000 -9.945219e-01         0   \n",
              "3  Столкновение  ...     0.433884  0.258819  5.665539e-16         0   \n",
              "4  Иной вид ДТП  ...    -0.781831  0.258819 -1.000000e+00         0   \n",
              "\n",
              "  participants_count    severity  road_conditions  weather  dead_count  \\\n",
              "0                2.0  Неизвестно              NaN      NaN         0.0   \n",
              "1                2.0  Неизвестно              NaN      NaN         0.0   \n",
              "2                2.0  Неизвестно              NaN      NaN         0.0   \n",
              "3                2.0  Неизвестно              NaN      NaN         0.0   \n",
              "4                2.0  Неизвестно              NaN      NaN         0.0   \n",
              "\n",
              "   injured_count  \n",
              "0            1.0  \n",
              "1            1.0  \n",
              "2            1.0  \n",
              "3            1.0  \n",
              "4            1.0  \n",
              "\n",
              "[5 rows x 174 columns]"
            ],
            "text/html": [
              "\n",
              "  <div id=\"df-af08b4e6-bb6f-4a28-b6d0-10f943f02b12\">\n",
              "    <div class=\"colab-df-container\">\n",
              "      <div>\n",
              "<style scoped>\n",
              "    .dataframe tbody tr th:only-of-type {\n",
              "        vertical-align: middle;\n",
              "    }\n",
              "\n",
              "    .dataframe tbody tr th {\n",
              "        vertical-align: top;\n",
              "    }\n",
              "\n",
              "    .dataframe thead th {\n",
              "        text-align: right;\n",
              "    }\n",
              "</style>\n",
              "<table border=\"1\" class=\"dataframe\">\n",
              "  <thead>\n",
              "    <tr style=\"text-align: right;\">\n",
              "      <th></th>\n",
              "      <th>id</th>\n",
              "      <th>Дата</th>\n",
              "      <th>Время</th>\n",
              "      <th>Место</th>\n",
              "      <th>Улица</th>\n",
              "      <th>Дом</th>\n",
              "      <th>Дорога</th>\n",
              "      <th>Километр</th>\n",
              "      <th>Метр</th>\n",
              "      <th>Вид ДТП</th>\n",
              "      <th>...</th>\n",
              "      <th>sin_weekday</th>\n",
              "      <th>sin_hour</th>\n",
              "      <th>sin_min</th>\n",
              "      <th>Праздник</th>\n",
              "      <th>participants_count</th>\n",
              "      <th>severity</th>\n",
              "      <th>road_conditions</th>\n",
              "      <th>weather</th>\n",
              "      <th>dead_count</th>\n",
              "      <th>injured_count</th>\n",
              "    </tr>\n",
              "  </thead>\n",
              "  <tbody>\n",
              "    <tr>\n",
              "      <th>0</th>\n",
              "      <td>490103984</td>\n",
              "      <td>13.07.2018</td>\n",
              "      <td>17:35:00</td>\n",
              "      <td>Новгородская область, Великий Новгород</td>\n",
              "      <td>Большая Санкт-Петербургская ул</td>\n",
              "      <td>88</td>\n",
              "      <td>NaN</td>\n",
              "      <td>NaN</td>\n",
              "      <td>NaN</td>\n",
              "      <td>Столкновение</td>\n",
              "      <td>...</td>\n",
              "      <td>-0.433884</td>\n",
              "      <td>-0.965926</td>\n",
              "      <td>-5.000000e-01</td>\n",
              "      <td>0</td>\n",
              "      <td>2.0</td>\n",
              "      <td>Неизвестно</td>\n",
              "      <td>NaN</td>\n",
              "      <td>NaN</td>\n",
              "      <td>0.0</td>\n",
              "      <td>1.0</td>\n",
              "    </tr>\n",
              "    <tr>\n",
              "      <th>1</th>\n",
              "      <td>490097169</td>\n",
              "      <td>11.05.2018</td>\n",
              "      <td>17:10:00</td>\n",
              "      <td>Новгородская область, Великий Новгород</td>\n",
              "      <td>Большая Санкт-Петербургская ул</td>\n",
              "      <td>73</td>\n",
              "      <td>NaN</td>\n",
              "      <td>NaN</td>\n",
              "      <td>NaN</td>\n",
              "      <td>Столкновение</td>\n",
              "      <td>...</td>\n",
              "      <td>0.000000</td>\n",
              "      <td>-0.965926</td>\n",
              "      <td>8.660254e-01</td>\n",
              "      <td>0</td>\n",
              "      <td>2.0</td>\n",
              "      <td>Неизвестно</td>\n",
              "      <td>NaN</td>\n",
              "      <td>NaN</td>\n",
              "      <td>0.0</td>\n",
              "      <td>1.0</td>\n",
              "    </tr>\n",
              "    <tr>\n",
              "      <th>2</th>\n",
              "      <td>490031781</td>\n",
              "      <td>25.01.2020</td>\n",
              "      <td>14:44:00</td>\n",
              "      <td>Новгородская область, Великий Новгород</td>\n",
              "      <td>Хутынская ул</td>\n",
              "      <td>29</td>\n",
              "      <td>NaN</td>\n",
              "      <td>NaN</td>\n",
              "      <td>NaN</td>\n",
              "      <td>Столкновение</td>\n",
              "      <td>...</td>\n",
              "      <td>-0.974928</td>\n",
              "      <td>-0.500000</td>\n",
              "      <td>-9.945219e-01</td>\n",
              "      <td>0</td>\n",
              "      <td>2.0</td>\n",
              "      <td>Неизвестно</td>\n",
              "      <td>NaN</td>\n",
              "      <td>NaN</td>\n",
              "      <td>0.0</td>\n",
              "      <td>1.0</td>\n",
              "    </tr>\n",
              "    <tr>\n",
              "      <th>3</th>\n",
              "      <td>490021246</td>\n",
              "      <td>11.05.2020</td>\n",
              "      <td>11:30:00</td>\n",
              "      <td>Новгородская область, Новгородский район, Сави...</td>\n",
              "      <td>Вишнёвая ул</td>\n",
              "      <td>4</td>\n",
              "      <td>NaN</td>\n",
              "      <td>NaN</td>\n",
              "      <td>NaN</td>\n",
              "      <td>Столкновение</td>\n",
              "      <td>...</td>\n",
              "      <td>0.433884</td>\n",
              "      <td>0.258819</td>\n",
              "      <td>5.665539e-16</td>\n",
              "      <td>0</td>\n",
              "      <td>2.0</td>\n",
              "      <td>Неизвестно</td>\n",
              "      <td>NaN</td>\n",
              "      <td>NaN</td>\n",
              "      <td>0.0</td>\n",
              "      <td>1.0</td>\n",
              "    </tr>\n",
              "    <tr>\n",
              "      <th>4</th>\n",
              "      <td>490041585</td>\n",
              "      <td>09.01.2019</td>\n",
              "      <td>01:45:00</td>\n",
              "      <td>Новгородская область, Окуловский район</td>\n",
              "      <td>NaN</td>\n",
              "      <td>NaN</td>\n",
              "      <td>Нева Москва - Санкт-Петербург (основное направ...</td>\n",
              "      <td>430.0</td>\n",
              "      <td>5.0</td>\n",
              "      <td>Иной вид ДТП</td>\n",
              "      <td>...</td>\n",
              "      <td>-0.781831</td>\n",
              "      <td>0.258819</td>\n",
              "      <td>-1.000000e+00</td>\n",
              "      <td>0</td>\n",
              "      <td>2.0</td>\n",
              "      <td>Неизвестно</td>\n",
              "      <td>NaN</td>\n",
              "      <td>NaN</td>\n",
              "      <td>0.0</td>\n",
              "      <td>1.0</td>\n",
              "    </tr>\n",
              "  </tbody>\n",
              "</table>\n",
              "<p>5 rows × 174 columns</p>\n",
              "</div>\n",
              "      <button class=\"colab-df-convert\" onclick=\"convertToInteractive('df-af08b4e6-bb6f-4a28-b6d0-10f943f02b12')\"\n",
              "              title=\"Convert this dataframe to an interactive table.\"\n",
              "              style=\"display:none;\">\n",
              "        \n",
              "  <svg xmlns=\"http://www.w3.org/2000/svg\" height=\"24px\"viewBox=\"0 0 24 24\"\n",
              "       width=\"24px\">\n",
              "    <path d=\"M0 0h24v24H0V0z\" fill=\"none\"/>\n",
              "    <path d=\"M18.56 5.44l.94 2.06.94-2.06 2.06-.94-2.06-.94-.94-2.06-.94 2.06-2.06.94zm-11 1L8.5 8.5l.94-2.06 2.06-.94-2.06-.94L8.5 2.5l-.94 2.06-2.06.94zm10 10l.94 2.06.94-2.06 2.06-.94-2.06-.94-.94-2.06-.94 2.06-2.06.94z\"/><path d=\"M17.41 7.96l-1.37-1.37c-.4-.4-.92-.59-1.43-.59-.52 0-1.04.2-1.43.59L10.3 9.45l-7.72 7.72c-.78.78-.78 2.05 0 2.83L4 21.41c.39.39.9.59 1.41.59.51 0 1.02-.2 1.41-.59l7.78-7.78 2.81-2.81c.8-.78.8-2.07 0-2.86zM5.41 20L4 18.59l7.72-7.72 1.47 1.35L5.41 20z\"/>\n",
              "  </svg>\n",
              "      </button>\n",
              "      \n",
              "  <style>\n",
              "    .colab-df-container {\n",
              "      display:flex;\n",
              "      flex-wrap:wrap;\n",
              "      gap: 12px;\n",
              "    }\n",
              "\n",
              "    .colab-df-convert {\n",
              "      background-color: #E8F0FE;\n",
              "      border: none;\n",
              "      border-radius: 50%;\n",
              "      cursor: pointer;\n",
              "      display: none;\n",
              "      fill: #1967D2;\n",
              "      height: 32px;\n",
              "      padding: 0 0 0 0;\n",
              "      width: 32px;\n",
              "    }\n",
              "\n",
              "    .colab-df-convert:hover {\n",
              "      background-color: #E2EBFA;\n",
              "      box-shadow: 0px 1px 2px rgba(60, 64, 67, 0.3), 0px 1px 3px 1px rgba(60, 64, 67, 0.15);\n",
              "      fill: #174EA6;\n",
              "    }\n",
              "\n",
              "    [theme=dark] .colab-df-convert {\n",
              "      background-color: #3B4455;\n",
              "      fill: #D2E3FC;\n",
              "    }\n",
              "\n",
              "    [theme=dark] .colab-df-convert:hover {\n",
              "      background-color: #434B5C;\n",
              "      box-shadow: 0px 1px 3px 1px rgba(0, 0, 0, 0.15);\n",
              "      filter: drop-shadow(0px 1px 2px rgba(0, 0, 0, 0.3));\n",
              "      fill: #FFFFFF;\n",
              "    }\n",
              "  </style>\n",
              "\n",
              "      <script>\n",
              "        const buttonEl =\n",
              "          document.querySelector('#df-af08b4e6-bb6f-4a28-b6d0-10f943f02b12 button.colab-df-convert');\n",
              "        buttonEl.style.display =\n",
              "          google.colab.kernel.accessAllowed ? 'block' : 'none';\n",
              "\n",
              "        async function convertToInteractive(key) {\n",
              "          const element = document.querySelector('#df-af08b4e6-bb6f-4a28-b6d0-10f943f02b12');\n",
              "          const dataTable =\n",
              "            await google.colab.kernel.invokeFunction('convertToInteractive',\n",
              "                                                     [key], {});\n",
              "          if (!dataTable) return;\n",
              "\n",
              "          const docLinkHtml = 'Like what you see? Visit the ' +\n",
              "            '<a target=\"_blank\" href=https://colab.research.google.com/notebooks/data_table.ipynb>data table notebook</a>'\n",
              "            + ' to learn more about interactive tables.';\n",
              "          element.innerHTML = '';\n",
              "          dataTable['output_type'] = 'display_data';\n",
              "          await google.colab.output.renderOutput(dataTable, element);\n",
              "          const docLink = document.createElement('div');\n",
              "          docLink.innerHTML = docLinkHtml;\n",
              "          element.appendChild(docLink);\n",
              "        }\n",
              "      </script>\n",
              "    </div>\n",
              "  </div>\n",
              "  "
            ]
          },
          "metadata": {},
          "execution_count": 325
        }
      ]
    },
    {
      "cell_type": "code",
      "source": [
        "plt.xticks(rotation=90)\n",
        "sns.set(rc={'figure.figsize':(15,5)})\n",
        "sns.countplot(x = \"Вид ДТП\" , data  = df_train)  "
      ],
      "metadata": {
        "id": "9VE85xwYbNh3",
        "colab": {
          "base_uri": "https://localhost:8080/"
        },
        "outputId": "5b1c6afb-9262-42b9-95ba-f3992fce4620"
      },
      "execution_count": null,
      "outputs": [
        {
          "output_type": "execute_result",
          "data": {
            "text/plain": [
              "<matplotlib.axes._subplots.AxesSubplot at 0x7f70368e4710>"
            ]
          },
          "metadata": {},
          "execution_count": 326
        },
        {
          "output_type": "display_data",
          "data": {
            "text/plain": [
              "<Figure size 1800x720 with 1 Axes>"
            ],
            "image/png": "[encoded data removed]"
          },
          "metadata": {}
        }
      ]
    },
    {
      "cell_type": "markdown",
      "source": [
        "#### Визуализация"
      ],
      "metadata": {
        "id": "MjOqHuPudY4h"
      }
    },
    {
      "cell_type": "code",
      "source": [
        "sns.set(rc={'figure.figsize':(25,10)})\n",
        "\n",
        "sns.boxplot(x=\"Погибло\", y=\"Вид ДТП\", data=df_train,\n",
        "            whis=[0, 100], width=.6, palette=\"vlag\")\n",
        "sns.stripplot(x=\"Погибло\", y=\"Вид ДТП\", data=df_train,\n",
        "              size=4, color=\".3\", linewidth=0)"
      ],
      "metadata": {
        "id": "K2f6hbLddb3l",
        "colab": {
          "base_uri": "https://localhost:8080/"
        },
        "outputId": "48a01849-46a3-4700-bc33-2bccb1da8579"
      },
      "execution_count": null,
      "outputs": [
        {
          "output_type": "execute_result",
          "data": {
            "text/plain": [
              "<matplotlib.axes._subplots.AxesSubplot at 0x7f703a36ae90>"
            ]
          },
          "metadata": {},
          "execution_count": 327
        },
        {
          "output_type": "display_data",
          "data": {
            "text/plain": [
              "<Figure size 1800x720 with 1 Axes>"
            ],
            "image/png": "[encoded data removed]"
          },
          "metadata": {}
        }
      ]
    },
    {
      "cell_type": "code",
      "source": [
        "sns.boxplot(x=\"Ранено\", y=\"Вид ДТП\", data=df_train,\n",
        "            whis=[0, 100], width=.6, palette=\"vlag\")\n",
        "sns.stripplot(x=\"Ранено\", y=\"Вид ДТП\", data=df_train,\n",
        "              size=4, color=\".3\", linewidth=0)"
      ],
      "metadata": {
        "id": "H-MIcOoMixTn",
        "colab": {
          "base_uri": "https://localhost:8080/"
        },
        "outputId": "265670b2-7a57-4f23-957e-9c5d61f33da8"
      },
      "execution_count": null,
      "outputs": [
        {
          "output_type": "execute_result",
          "data": {
            "text/plain": [
              "<matplotlib.axes._subplots.AxesSubplot at 0x7f702a29a4d0>"
            ]
          },
          "metadata": {},
          "execution_count": 328
        },
        {
          "output_type": "display_data",
          "data": {
            "text/plain": [
              "<Figure size 1800x720 with 1 Axes>"
            ],
            "image/png": "[encoded data removed]"
          },
          "metadata": {}
        }
      ]
    },
    {
      "cell_type": "markdown",
      "source": [
        "### Место"
      ],
      "metadata": {
        "id": "zwgVJeQHryE8"
      }
    },
    {
      "cell_type": "code",
      "source": [
        "zero_deads = set(df_train[(df_train['Погибло'] == 0) & (df_train['Ранено'] == 0)]['Место'].unique())"
      ],
      "metadata": {
        "id": "ylDfPco9tiAm"
      },
      "execution_count": null,
      "outputs": []
    },
    {
      "cell_type": "code",
      "source": [
        "one_more_deads = set(df_train[(df_train['Погибло'] != 0) | (df_train['Ранено'] != 0)]['Место'].unique())"
      ],
      "metadata": {
        "id": "6TI3UtuQtEjr"
      },
      "execution_count": null,
      "outputs": []
    },
    {
      "cell_type": "code",
      "source": [
        "useless_places = zero_deads - one_more_deads"
      ],
      "metadata": {
        "id": "pU8sDffptqtv"
      },
      "execution_count": null,
      "outputs": []
    },
    {
      "cell_type": "code",
      "source": [
        "df_train['Были смерти и ранения. Место'] = df_train['Место'].apply(lambda x: 0 if x in useless_places else 1)\n",
        "df_test['Были смерти и ранения. Место'] = df_test['Место'].apply(lambda x: 0 if x in useless_places else 1)"
      ],
      "metadata": {
        "id": "Dp6JawGqDPST"
      },
      "execution_count": null,
      "outputs": []
    },
    {
      "cell_type": "code",
      "source": [
        "df_train['Токены места'] = df_train['Место'].apply(lambda x: x.split(','))\n",
        "df_train['Район'] = df_train['Токены места'].apply(lambda x: x[1].strip() if len(x) >= 2 else 'Отсутствует район')\n",
        "df_train['Округ'] = df_train['Токены места'].apply(lambda x: x[2].strip() if len(x) >= 3 else 'Отсутствует округ')\n",
        "df_train['Город'] = df_train['Токены места'].apply(lambda x: x[3].strip() if len(x) >= 4 else 'Отсутствует город')\n",
        "\n",
        "df_test['Токены места'] = df_test['Место'].apply(lambda x: x.split(','))\n",
        "df_test['Район'] = df_test['Токены места'].apply(lambda x: x[1].strip() if len(x) >= 2 else 'Отсутствует район')\n",
        "df_test['Округ'] = df_test['Токены места'].apply(lambda x: x[2].strip() if len(x) >= 3 else 'Отсутствует округ')\n",
        "df_test['Город'] = df_test['Токены места'].apply(lambda x: x[3].strip() if len(x) >= 4 else 'Отсутствует город')"
      ],
      "metadata": {
        "id": "ziCsZvEg9Dek"
      },
      "execution_count": null,
      "outputs": []
    },
    {
      "cell_type": "code",
      "source": [
        "unnessasary_city_set = set(df_train['Город'].unique()) - set(df_test['Город'].unique())"
      ],
      "metadata": {
        "id": "m11wsRqt_tFC"
      },
      "execution_count": null,
      "outputs": []
    },
    {
      "cell_type": "code",
      "source": [
        "df_train = df_train[~df_train[\"Город\"].isin(unnessasary_city_set)].reset_index(drop=True)"
      ],
      "metadata": {
        "id": "flSDTu2U_r1m"
      },
      "execution_count": null,
      "outputs": []
    },
    {
      "cell_type": "markdown",
      "source": [
        "### Погода"
      ],
      "metadata": {
        "id": "HH17qrogAFYP"
      }
    },
    {
      "cell_type": "code",
      "source": [
        "union_data = df_train.drop([\"Ранено\", \"Ранено детей\", \"Погибло\", \"Погибло детей\"], axis=1).append(df_test)"
      ],
      "metadata": {
        "id": "9TamViLs0FV3"
      },
      "execution_count": null,
      "outputs": []
    },
    {
      "cell_type": "code",
      "source": [
        "weather_per_week = union_data[[\"Год\", \"Неделя\", \"Район\", \"weather\"]].groupby(by=[\"Год\", 'Неделя', \"Район\"]).agg(lambda x: x.mode() if len(x) >= 1 else []).rename({'weather': 'Погода'}, axis=1)\n",
        "weather_per_week['Погода'] = weather_per_week['Погода'].apply(lambda x: 'Неизвестно' if type(x) == np.ndarray else x)\n",
        "\n",
        "df_train.loc[:, 'weather'] = df_train.loc[:, 'weather'].fillna(df_train.merge(weather_per_week, how='left', on=[\"Год\", 'Неделя', \"Район\"])['Погода'])\n",
        "df_test.loc[:, 'weather'] = df_test.loc[:, 'weather'].fillna(df_test.merge(weather_per_week, how='left', on=[\"Год\", 'Неделя', \"Район\"])['Погода'])"
      ],
      "metadata": {
        "id": "QG27TlZEsjhP"
      },
      "execution_count": null,
      "outputs": []
    },
    {
      "cell_type": "markdown",
      "source": [
        "#### Состояние дороги"
      ],
      "metadata": {
        "id": "A65vwpd71Vjx"
      }
    },
    {
      "cell_type": "code",
      "source": [
        "union_data = df_train.drop([\"Ранено\", \"Ранено детей\", \"Погибло\", \"Погибло детей\"], axis=1).append(df_test)"
      ],
      "metadata": {
        "id": "CxZDRUkJ3n6g"
      },
      "execution_count": null,
      "outputs": []
    },
    {
      "cell_type": "code",
      "source": [
        "condition_per_weather = union_data[[\"Год\", \"Неделя\", \"Район\", \"weather\", \"road_conditions\"]].groupby(by=[\"Год\", \"Неделя\", \"Район\", \"weather\"]).agg(lambda x: x.mode() if len(x) >= 1 else []).rename({'\"road_conditions\"': 'Состояние дороги'}, axis=1)\n",
        "condition_per_weather['road_conditions'] = condition_per_weather['road_conditions'].apply(lambda x: 'Неизвестно' if type(x) == np.ndarray else x)"
      ],
      "metadata": {
        "id": "a50rET1Y1uSR"
      },
      "execution_count": null,
      "outputs": []
    },
    {
      "cell_type": "code",
      "source": [
        "df_train['Состояние дороги'] = df_train.loc[:, 'road_conditions'].fillna(df_train.merge(condition_per_weather, how='left', on=[\"Год\", \"Неделя\", \"Район\", \"weather\"])['road_conditions_y'])\n",
        "df_test['Состояние дороги'] = df_test.loc[:, 'road_conditions'].fillna(df_test.merge(condition_per_weather, how='left', on=[\"Год\", \"Неделя\", \"Район\", \"weather\"])['road_conditions_y'])"
      ],
      "metadata": {
        "id": "fb3YOxZ01X_x"
      },
      "execution_count": null,
      "outputs": []
    },
    {
      "cell_type": "code",
      "source": [
        "df_test.drop(['road_conditions'], inplace=True, axis=1)\n",
        "df_train.drop(['road_conditions'], inplace=True, axis=1)"
      ],
      "metadata": {
        "id": "5IAhA-DN3zoS"
      },
      "execution_count": null,
      "outputs": []
    },
    {
      "cell_type": "markdown",
      "source": [
        "### Улица"
      ],
      "metadata": {
        "id": "tmYfuEAkEZ3l"
      }
    },
    {
      "cell_type": "markdown",
      "source": [
        "#### Заполнение пропусков"
      ],
      "metadata": {
        "id": "wtlCQUJhFU-Y"
      }
    },
    {
      "cell_type": "code",
      "source": [
        "street_per_year_month = union_data[[\"Год_Месяц\", \"Место\", \"Вид ДТП\", \"Улица\"]].groupby(by=['Год_Месяц', \"Место\", \"Вид ДТП\"]).agg(lambda x: x.mode() if len(x) >= 2 else np.array(x)).rename({'Улица': 'Улица 2'}, axis=1)"
      ],
      "metadata": {
        "id": "zzm864_NFTma"
      },
      "execution_count": null,
      "outputs": []
    },
    {
      "cell_type": "code",
      "source": [
        "street_per_year_month['Улица 2'] = street_per_year_month['Улица 2'].apply(lambda x: np.nan if type(x) == np.ndarray else x)"
      ],
      "metadata": {
        "id": "BSVKmQktF82b"
      },
      "execution_count": null,
      "outputs": []
    },
    {
      "cell_type": "code",
      "source": [
        "df_train['Улица'].fillna(df_train.merge(street_per_year_month, how='left', on=['Год_Месяц', \"Место\", \"Вид ДТП\"])['Улица 2'], inplace=True)\n",
        "df_test['Улица'].fillna(df_test.merge(street_per_year_month, how='left', on=['Год_Месяц', \"Место\", \"Вид ДТП\"])['Улица 2'], inplace=True)\n",
        "\n",
        "df_train['Улица'].fillna('Неизвестно', inplace=True)\n",
        "df_test['Улица'].fillna('Неизвестно', inplace=True)"
      ],
      "metadata": {
        "id": "UVRvj_CjF_z5"
      },
      "execution_count": null,
      "outputs": []
    },
    {
      "cell_type": "code",
      "source": [
        "zero_deads = set(df_train[(df_train['Погибло'] == 0) & (df_train['Ранено'] == 0)]['Улица'].unique())\n",
        "\n",
        "one_more_deads = set(df_train[(df_train['Погибло'] != 0) | (df_train['Ранено'] != 0)]['Улица'].unique())"
      ],
      "metadata": {
        "id": "JpSIIZxCOHSQ"
      },
      "execution_count": null,
      "outputs": []
    },
    {
      "cell_type": "code",
      "source": [
        "useless_streets = zero_deads - one_more_deads"
      ],
      "metadata": {
        "id": "mxfulWKVOJ4T"
      },
      "execution_count": null,
      "outputs": []
    },
    {
      "cell_type": "code",
      "source": [
        "df_train['Были смерти и ранения. Улица'] = df_train['Улица'].apply(lambda x: 0 if x in useless_streets else 1)\n",
        "df_test['Были смерти и ранения. Улица'] = df_test['Улица'].apply(lambda x: 0 if x in useless_streets else 1)"
      ],
      "metadata": {
        "id": "hrWJJVAEOO6l"
      },
      "execution_count": null,
      "outputs": []
    },
    {
      "cell_type": "code",
      "source": [
        "unnessasary_street_set = set(df_train['Улица'].unique()) - set(df_test['Улица'].unique())\n",
        "df_train['Улица'] = df_train['Улица'].apply(lambda x: 'Неважно' if x in unnessasary_street_set else x)"
      ],
      "metadata": {
        "id": "76U1iv9xuYAD"
      },
      "execution_count": null,
      "outputs": []
    },
    {
      "cell_type": "markdown",
      "source": [
        "#### Выделение типа улицы"
      ],
      "metadata": {
        "id": "iUzt2gB_FVpG"
      }
    },
    {
      "cell_type": "code",
      "source": [
        "df_train['Токены улицы'] = df_train['Улица'].apply(lambda x: str(x).split(' '))\n",
        "df_test['Токены улицы'] = df_test['Улица'].apply(lambda x: str(x).split(' '))\n",
        "\n",
        "df_train['Тип улицы'] = df_train['Токены улицы'].apply(lambda x: x[-1].strip() if len(x) >= 2 else 'Неизвестно')\n",
        "df_test['Тип улицы'] = df_test['Токены улицы'].apply(lambda x: x[-1].strip() if len(x) >= 2 else 'Неизвестно')"
      ],
      "metadata": {
        "id": "ld_ylJPKEZHB"
      },
      "execution_count": null,
      "outputs": []
    },
    {
      "cell_type": "code",
      "source": [
        "def delete_unknown_street_types(street_type):\n",
        "  if street_type == '1\"':\n",
        "    return 'Неизвестно'\n",
        "  if street_type == '1' or street_type == '5' or street_type == '3':\n",
        "    return 'комплекс'\n",
        "  else:\n",
        "    return street_type"
      ],
      "metadata": {
        "id": "CDXzZbARLTVI"
      },
      "execution_count": null,
      "outputs": []
    },
    {
      "cell_type": "code",
      "source": [
        "df_test['Тип улицы'] = df_test['Тип улицы'].apply(delete_unknown_street_types)\n",
        "df_train['Тип улицы'] = df_train['Тип улицы'].apply(delete_unknown_street_types)"
      ],
      "metadata": {
        "id": "Bfy-2jATNIk2"
      },
      "execution_count": null,
      "outputs": []
    },
    {
      "cell_type": "markdown",
      "source": [
        "### Визуализация локаций"
      ],
      "metadata": {
        "id": "G0CrEFGwury9"
      }
    },
    {
      "cell_type": "code",
      "source": [
        "https://seaborn.pydata.org/tutorial/categorical.html"
      ],
      "metadata": {
        "id": "xoiy3NPC3rK9",
        "colab": {
          "base_uri": "https://localhost:8080/",
          "height": 134
        },
        "outputId": "8729bdb5-e785-41db-ed44-d6d6a2049457"
      },
      "execution_count": null,
      "outputs": [
        {
          "output_type": "error",
          "ename": "SyntaxError",
          "evalue": "ignored",
          "traceback": [
            "\u001b[0;36m  File \u001b[0;32m\"<ipython-input-142-9cde20743357>\"\u001b[0;36m, line \u001b[0;32m1\u001b[0m\n\u001b[0;31m    https://seaborn.pydata.org/tutorial/categorical.html\u001b[0m\n\u001b[0m           ^\u001b[0m\n\u001b[0;31mSyntaxError\u001b[0m\u001b[0;31m:\u001b[0m invalid syntax\n"
          ]
        }
      ]
    },
    {
      "cell_type": "code",
      "source": [
        "sns.catplot(x=\"Ранено\", y=\"Район\", row=\"Вид ДТП\",\n",
        "                kind=\"box\", orient=\"h\", aspect=4,\n",
        "                data=df_train)"
      ],
      "metadata": {
        "id": "8i6Bc8Ew40Rj"
      },
      "execution_count": null,
      "outputs": []
    },
    {
      "cell_type": "code",
      "source": [
        "sns.catplot(x=\"Погибло\", y=\"Район\", row=\"Вид ДТП\",\n",
        "                kind=\"box\", orient=\"h\", aspect=4,\n",
        "                data=df_train)"
      ],
      "metadata": {
        "id": "bPN3pS67yPJA"
      },
      "execution_count": null,
      "outputs": []
    },
    {
      "cell_type": "code",
      "source": [
        "sns.catplot(x=\"Погибло\", y='Вид ДТП', row='Тип улицы',\n",
        "                kind=\"box\", orient=\"h\", aspect=4,\n",
        "                data=df_train)"
      ],
      "metadata": {
        "id": "sNjVolgS5txm"
      },
      "execution_count": null,
      "outputs": []
    },
    {
      "cell_type": "code",
      "source": [
        "sns.catplot(x=\"Ранено\", y='Вид ДТП', row='Тип улицы',\n",
        "                kind=\"box\", orient=\"h\", aspect=4,\n",
        "                data=df_train)"
      ],
      "metadata": {
        "id": "tGVRJrge6oqm"
      },
      "execution_count": null,
      "outputs": []
    },
    {
      "cell_type": "markdown",
      "source": [
        "### Дом"
      ],
      "metadata": {
        "id": "7YpSagKp-HYN"
      }
    },
    {
      "cell_type": "code",
      "source": [
        "union_data = df_train.drop([\"Ранено\", \"Ранено детей\", \"Погибло\", \"Погибло детей\"], axis=1).append(df_test).drop(['Токены улицы', 'Токены места'], axis=1).drop_duplicates()"
      ],
      "metadata": {
        "id": "m6eLriDW-LZi"
      },
      "execution_count": null,
      "outputs": []
    },
    {
      "cell_type": "code",
      "source": [
        "house_per_street = union_data[[\"Год_Месяц\", \"Дом\", \"Вид ДТП\", \"Улица\"]].groupby(by=['Год_Месяц', \"Вид ДТП\", \"Улица\"]).agg(lambda x: x.mode() if len(x) > 2 else np.array(x)).rename({'Дом': 'Дом 2'}, axis=1)"
      ],
      "metadata": {
        "id": "S6SjAVO90qbt"
      },
      "execution_count": null,
      "outputs": []
    },
    {
      "cell_type": "code",
      "source": [
        "def preproc_house(x):\n",
        "  if type(x) == np.ndarray:\n",
        "    if len(x) >= 1:\n",
        "      return x[0]\n",
        "    else:\n",
        "      return np.nan\n",
        "  else:\n",
        "    return x"
      ],
      "metadata": {
        "id": "eYyXNIyM52du"
      },
      "execution_count": null,
      "outputs": []
    },
    {
      "cell_type": "code",
      "source": [
        "house_per_street['Дом 2'] = house_per_street['Дом 2'].apply(preproc_house)"
      ],
      "metadata": {
        "id": "yPm2nAQQ0sOC"
      },
      "execution_count": null,
      "outputs": []
    },
    {
      "cell_type": "code",
      "source": [
        "df_train['Дом'].fillna(df_train.merge(house_per_street, how='left', on=['Год_Месяц', \"Вид ДТП\", \"Улица\"])['Дом 2'], inplace=True)\n",
        "df_test['Дом'].fillna(df_test.merge(house_per_street, how='left', on=['Год_Месяц', \"Вид ДТП\", \"Улица\"])['Дом 2'], inplace=True)\n",
        "\n",
        "df_train['Дом'].fillna('Неизвестно', inplace=True)\n",
        "df_test['Дом'].fillna('Неизвестно', inplace=True)"
      ],
      "metadata": {
        "id": "RMhrG-uu0uOc"
      },
      "execution_count": null,
      "outputs": []
    },
    {
      "cell_type": "code",
      "source": [
        "def house_proc(x):\n",
        "  x = str(x)\n",
        "  if x in ['*', '-', '.']:\n",
        "    return 'неизвестно'\n",
        "  if x.lower() in ['бн', 'б/н', 'б\\\\н', 'б.н']:\n",
        "      return 'б/н'\n",
        "  if x.lower() in ['бспб', 'бспетербургск.', 'бспетербургск', 'путепровод к бспб']:\n",
        "      return 'бспб'\n",
        "  if x.lower() in ['подх. к синему мост', 'подх. к синему мосту']:\n",
        "      return 'подх. к синему мосту'\n",
        "  if x.lower() == 'деревяницкий мост':\n",
        "    return 'съезд с дерев. моста'\n",
        "  if x.lower() in ['б. московской', 'бол.московской', 'бол. московс']:\n",
        "    return 'б. московской'\n",
        "  if x.lower().strip() in ['колмовск. мост спуск', 'подход к колм. мосту']:\n",
        "    return 'колмовский мост'\n",
        "\n",
        "  if not any([char.isdigit() for char in x]):\n",
        "    return x.lower().strip()\n",
        "  if x.find(' по ул ') != -1:\n",
        "    if x.split(' по ул ')[1].lower() in ['бн', 'б/н', 'б\\\\н']:\n",
        "      return 'б/н'\n",
        "    if x.split(' по ул ')[1].lower() in ['бспб', 'бспетербургск.', 'бспетербургск']:\n",
        "      return 'бспб'\n",
        "    if x.split(' по ул ')[1].lower() in ['б. московской', 'бол.московской', 'бол. московс']:\n",
        "      return 'б. московской'\n",
        "    return x.split(' по ул ')[1].lower().strip()\n",
        "  if x.find(' по ул.')  != -1:\n",
        "    if x.split(' по ул.')[1].lower() in ['бн', 'б/н', 'б\\\\н']:\n",
        "      return 'б/н'\n",
        "    if x.split(' по ул.')[1].lower() in ['бспб', 'бспетербургск.', 'бспетербургск']:\n",
        "      return 'бспб'\n",
        "    if x.split(' по ул. ')[1].lower() in ['б. московской', 'бол.московской', 'бол. московс']:\n",
        "      return 'б. московской'\n",
        "    return x.split(' по ул.')[1].lower().strip()\n",
        "  if x.find(' по ') != -1:\n",
        "    if x.split(' по ')[1].lower() in ['бн', 'б/н', 'б\\\\н']:\n",
        "      return 'б/н'\n",
        "    if x.split(' по ')[1].lower() in ['бспб', 'бспетербургск.', 'бспетербургск']:\n",
        "      return 'бспб'\n",
        "    if x.split(' по ')[1].lower() in ['б. московской', 'бол.московской', 'бол. московс']:\n",
        "      return 'б. московской'\n",
        "    return x.split(' по ')[1].lower().strip()\n",
        "  if x.find(' у ') != -1:\n",
        "    if x.split(' у ')[0].lower() in ['бн', 'б/н', 'б\\\\н']:\n",
        "      return 'б/н'\n",
        "    if x.split(' у ')[0].lower() in ['подх. к синему мост', 'подх. к синему мосту']:\n",
        "      return 'подх. к синему мосту'\n",
        "    if x.split(' у ')[0].lower() in ['бспб', 'бспетербургск.', 'бспетербургск']:\n",
        "      return 'бспб'\n",
        "    if x.split(' у ')[1].lower() in ['б. московской', 'бол.московской', 'бол. московс']:\n",
        "      return 'б. московской'\n",
        "    return x.split(' у ')[0].lower().strip()\n",
        "  \n",
        "  return 'неизвестно'"
      ],
      "metadata": {
        "id": "109zVLLqzKRQ"
      },
      "execution_count": null,
      "outputs": []
    },
    {
      "cell_type": "code",
      "source": [
        "df_train['Название возле дома'] = df_train['Дом'].apply(house_proc)\n",
        "df_test['Название возле дома'] = df_test['Дом'].apply(house_proc)"
      ],
      "metadata": {
        "id": "ngjKH-eTAz4V"
      },
      "execution_count": null,
      "outputs": []
    },
    {
      "cell_type": "code",
      "source": [
        "unnessasary_street_set = set(df_train['Название возле дома'].unique()) - set(df_test['Название возле дома'].unique())\n",
        "df_train['Название возле дома'] = df_train['Название возле дома'].apply(lambda x: 'Неважно' if x in unnessasary_street_set else x)"
      ],
      "metadata": {
        "id": "q8TVqVrwUzm7"
      },
      "execution_count": null,
      "outputs": []
    },
    {
      "cell_type": "code",
      "source": [
        "unnessasary_street_set = set(df_train['Дом'].unique()) - set(df_test['Дом'].unique())\n",
        "df_train['Дом'] = df_train['Дом'].apply(lambda x: 'Неважно' if x in unnessasary_street_set else x)"
      ],
      "metadata": {
        "id": "FgGhHJVLxCmZ"
      },
      "execution_count": null,
      "outputs": []
    },
    {
      "cell_type": "markdown",
      "source": [
        "### Дорога"
      ],
      "metadata": {
        "id": "7bHjIb2gpalu"
      }
    },
    {
      "cell_type": "code",
      "source": [
        "road_per_street = union_data[[\"Год_Месяц\", \"Район\", \"Вид ДТП\", \"Дорога\"]].groupby(by=['Год_Месяц', \"Район\", \"Вид ДТП\"]).agg(lambda x: x.mode() if len(x) >= 2 else np.array(x)).rename({'Дорога': 'Дорога 2'}, axis=1)"
      ],
      "metadata": {
        "id": "2_celEAqpevy"
      },
      "execution_count": null,
      "outputs": []
    },
    {
      "cell_type": "code",
      "source": [
        "def preproc_house(x):\n",
        "  if type(x) == np.ndarray:\n",
        "    if len(x) >= 1:\n",
        "      return x[0]\n",
        "    else:\n",
        "      return np.nan\n",
        "  else:\n",
        "    return x"
      ],
      "metadata": {
        "id": "d6BUUUYwqYds"
      },
      "execution_count": null,
      "outputs": []
    },
    {
      "cell_type": "code",
      "source": [
        "road_per_street['Дорога 2'] = road_per_street['Дорога 2'].apply(preproc_house)"
      ],
      "metadata": {
        "id": "Ia2GyEv-qf3z"
      },
      "execution_count": null,
      "outputs": []
    },
    {
      "cell_type": "code",
      "source": [
        "df_train['Дорога'].fillna(df_train.merge(road_per_street, how='left', on=['Год_Месяц', \"Вид ДТП\", \"Район\"])['Дорога 2'], inplace=True)\n",
        "df_test['Дорога'].fillna(df_test.merge(road_per_street, how='left', on=['Год_Месяц', \"Вид ДТП\", \"Район\"])['Дорога 2'], inplace=True)\n",
        "\n",
        "df_train['Дорога'].fillna('Неизвестно', inplace=True)\n",
        "df_test['Дорога'].fillna('Неизвестно', inplace=True)"
      ],
      "metadata": {
        "id": "vOKbDAM4q9RP"
      },
      "execution_count": null,
      "outputs": []
    },
    {
      "cell_type": "code",
      "source": [
        "unnessasary_road_set = set(df_train['Дорога'].unique()) - set(df_test['Дорога'].unique())\n",
        "df_train['Дорога'] = df_train['Дорога'].apply(lambda x: 'Неважно' if x in unnessasary_road_set else x)"
      ],
      "metadata": {
        "id": "1lyYrKnVrgCb"
      },
      "execution_count": null,
      "outputs": []
    },
    {
      "cell_type": "code",
      "source": [
        "zero_deads = set(df_train[(df_train['Погибло'] == 0) & (df_train['Ранено'] == 0)]['Дорога'].unique())\n",
        "\n",
        "one_more_deads = set(df_train[(df_train['Погибло'] != 0) | (df_train['Ранено'] != 0)]['Дорога'].unique())"
      ],
      "metadata": {
        "id": "EujwmJO2JCsT"
      },
      "execution_count": null,
      "outputs": []
    },
    {
      "cell_type": "code",
      "source": [
        "useless_roads = zero_deads - one_more_deads"
      ],
      "metadata": {
        "id": "vE_bHdbZI_1g"
      },
      "execution_count": null,
      "outputs": []
    },
    {
      "cell_type": "code",
      "source": [
        "df_train['Были смерти и ранения. Дорога'] = df_train['Дорога'].apply(lambda x: 0 if x in useless_streets else 1)\n",
        "df_test['Были смерти и ранения. Дорога'] = df_test['Дорога'].apply(lambda x: 0 if x in useless_streets else 1)"
      ],
      "metadata": {
        "id": "60EesRpeI990"
      },
      "execution_count": null,
      "outputs": []
    },
    {
      "cell_type": "markdown",
      "source": [
        "### Километр"
      ],
      "metadata": {
        "id": "aEP5Br_d_K3r"
      }
    },
    {
      "cell_type": "code",
      "source": [
        "df_train[\"Километр\"] = df_train[\"Километр\"].apply(lambda x: pd.to_numeric(x) if type(x) in [int, float] else np.nan)\n",
        "df_test[\"Километр\"] = df_test[\"Километр\"].apply(lambda x: pd.to_numeric(x) if type(x) in [int, float] else np.nan)"
      ],
      "metadata": {
        "id": "dnokvSstBh-e"
      },
      "execution_count": null,
      "outputs": []
    },
    {
      "cell_type": "code",
      "source": [
        "union_data = df_train.drop(['Токены улицы', 'Токены места'], axis=1).append(df_test.drop(['Токены улицы', 'Токены места'], axis=1)).drop_duplicates()"
      ],
      "metadata": {
        "id": "kKNTVkmoDQjL"
      },
      "execution_count": null,
      "outputs": []
    },
    {
      "cell_type": "code",
      "source": [
        "kilo_per_street = union_data[[\"Год_Месяц\", \"Дорога\", \"Вид ДТП\", \"Километр\"]].groupby(by=[\"Год_Месяц\", \"Дорога\", \"Вид ДТП\"]).agg(lambda x: x.mean() if len(x) >= 2 else np.array(x)).rename({'Километр': 'Километр 2'}, axis=1)"
      ],
      "metadata": {
        "id": "Lr66-M1-CnMp"
      },
      "execution_count": null,
      "outputs": []
    },
    {
      "cell_type": "code",
      "source": [
        "g = sns.catplot(x=\"Километр\", y=\"Ранено\", row=\"Вид ДТП\",\n",
        "                kind=\"box\", orient=\"h\", height=1.5, aspect=4,\n",
        "                data=df_train)\n",
        "g.set(xscale=\"log\")"
      ],
      "metadata": {
        "id": "1R5XlGpTIfEh",
        "colab": {
          "base_uri": "https://localhost:8080/"
        },
        "outputId": "9e435e29-4389-49ab-ae65-9230fe65ac8d"
      },
      "execution_count": null,
      "outputs": [
        {
          "output_type": "stream",
          "name": "stderr",
          "text": [
            "Tight layout not applied. The left and right margins cannot be made large enough to accommodate all axes decorations. \n"
          ]
        },
        {
          "output_type": "execute_result",
          "data": {
            "text/plain": [
              "<seaborn.axisgrid.FacetGrid at 0x7f70368de810>"
            ]
          },
          "metadata": {},
          "execution_count": 372
        },
        {
          "output_type": "display_data",
          "data": {
            "text/plain": [
              "<Figure size 432x1620 with 15 Axes>"
            ],
            "image/png": "[encoded data removed]"
          },
          "metadata": {}
        }
      ]
    },
    {
      "cell_type": "code",
      "source": [
        "df_train['Километр'].fillna(df_train.merge(kilo_per_street, how='left', on=[\"Год_Месяц\", \"Дорога\", \"Вид ДТП\"])['Километр 2'], inplace=True)\n",
        "df_test['Километр'].fillna(df_test.merge(kilo_per_street, how='left', on=[\"Год_Месяц\", \"Дорога\", \"Вид ДТП\"])['Километр 2'], inplace=True)\n",
        "\n",
        "df_train['Километр'].fillna(-np.inf, inplace=True)\n",
        "df_test['Километр'].fillna(-np.inf, inplace=True)"
      ],
      "metadata": {
        "id": "x6agGbW2DlSv"
      },
      "execution_count": null,
      "outputs": []
    },
    {
      "cell_type": "markdown",
      "source": [
        "### Метр"
      ],
      "metadata": {
        "id": "_r4X4GF3uyNj"
      }
    },
    {
      "cell_type": "code",
      "source": [
        "df_train[\"Метр\"] = pd.to_numeric(df_train[\"Метр\"])\n",
        "df_test[\"Метр\"] = pd.to_numeric(df_test[\"Метр\"])"
      ],
      "metadata": {
        "id": "2qDHSPDLJtGe"
      },
      "execution_count": null,
      "outputs": []
    },
    {
      "cell_type": "code",
      "source": [
        "union_data = df_train.drop(['Токены улицы', 'Токены места'], axis=1).append(df_test.drop(['Токены улицы', 'Токены места'], axis=1)).drop_duplicates()"
      ],
      "metadata": {
        "id": "WWi33xh7J7pD"
      },
      "execution_count": null,
      "outputs": []
    },
    {
      "cell_type": "code",
      "source": [
        "metr_per_street = union_data[[\"Год_Месяц\", \"Дорога\", \"Вид ДТП\", \"Километр\", \"Метр\"]].groupby(by=[\"Год_Месяц\", \"Дорога\", \"Вид ДТП\", \"Километр\"]).agg(lambda x: x.mean() if len(x) >= 1 else np.array(x)).rename({'Метр': 'Метр 2'}, axis=1)"
      ],
      "metadata": {
        "id": "7yZqZRcaJv-6"
      },
      "execution_count": null,
      "outputs": []
    },
    {
      "cell_type": "code",
      "source": [
        "df_train['Метр'].fillna(df_train.merge(metr_per_street, how='left', on=[\"Год_Месяц\", \"Дорога\", \"Вид ДТП\", \"Километр\"])['Метр 2'], inplace=True)\n",
        "df_test['Метр'].fillna(df_test.merge(metr_per_street, how='left', on=[\"Год_Месяц\", \"Дорога\", \"Вид ДТП\", \"Километр\"])['Метр 2'], inplace=True)\n",
        "\n",
        "df_train['Метр'].fillna(-np.inf, inplace=True)\n",
        "df_test['Метр'].fillna(-np.inf, inplace=True)"
      ],
      "metadata": {
        "id": "yY81XIIaKRDD"
      },
      "execution_count": null,
      "outputs": []
    },
    {
      "cell_type": "markdown",
      "source": [
        "## Предобработка"
      ],
      "metadata": {
        "id": "X9lPr8xilJIQ"
      }
    },
    {
      "cell_type": "markdown",
      "source": [
        "### Обработаем категориальные признаки"
      ],
      "metadata": {
        "id": "XFTvibdKmqkH"
      }
    },
    {
      "cell_type": "code",
      "source": [
        "onehot_place = OneHotEncoder(handle_unknown='ignore', sparse=False)\n",
        "\n",
        "places = pd.DataFrame(onehot_place.fit_transform(df_train['Район'].values.reshape(-1, 1)), columns=['Район_' + str(name) for name in onehot_place.categories_[0]])\n",
        "df_train = pd.concat([df_train, places], axis=1)\n",
        "\n",
        "places = pd.DataFrame(onehot_place.transform(df_test['Район'].values.reshape(-1, 1)), columns=['Район_' + str(name) for name in onehot_place.categories_[0]])\n",
        "df_test = pd.concat([df_test, places], axis=1)"
      ],
      "metadata": {
        "id": "_1LSutbKr-XR"
      },
      "execution_count": null,
      "outputs": []
    },
    {
      "cell_type": "code",
      "source": [
        "onehot_okrug = OneHotEncoder(handle_unknown='ignore', sparse=False)\n",
        "\n",
        "okrugs = pd.DataFrame(onehot_okrug.fit_transform(df_train['Округ'].values.reshape(-1, 1)), columns=['Округ_' + str(name) for name in onehot_okrug.categories_[0]])\n",
        "df_train = pd.concat([df_train, okrugs], axis=1)\n",
        "\n",
        "okrugs = pd.DataFrame(onehot_okrug.transform(df_test['Округ'].values.reshape(-1, 1)), columns=['Округ_' + str(name) for name in onehot_okrug.categories_[0]])\n",
        "df_test = pd.concat([df_test, okrugs], axis=1)"
      ],
      "metadata": {
        "id": "aXtxpsiX4wau"
      },
      "execution_count": null,
      "outputs": []
    },
    {
      "cell_type": "code",
      "source": [
        "onehot_city = OneHotEncoder(handle_unknown='ignore', sparse=False)\n",
        "\n",
        "cities = pd.DataFrame(onehot_city.fit_transform(df_train['Город'].values.reshape(-1, 1)), columns=['Город_' + str(name) for name in onehot_city.categories_[0]])\n",
        "df_train = pd.concat([df_train, cities], axis=1)\n",
        "\n",
        "cities = pd.DataFrame(onehot_city.transform(df_test['Город'].values.reshape(-1, 1)), columns=['Город_' + str(name) for name in onehot_city.categories_[0]])\n",
        "df_test = pd.concat([df_test, cities], axis=1)"
      ],
      "metadata": {
        "id": "prQUAxk_49iJ"
      },
      "execution_count": null,
      "outputs": []
    },
    {
      "cell_type": "code",
      "source": [
        "onehot_road = OneHotEncoder(handle_unknown='ignore', sparse=False)\n",
        "\n",
        "roads = pd.DataFrame(onehot_road.fit_transform(df_train['Дорога'].values.reshape(-1, 1)), columns=['Дорога_' + str(name) for name in onehot_road.categories_[0]])\n",
        "df_train = pd.concat([df_train, roads], axis=1)\n",
        "\n",
        "roads = pd.DataFrame(onehot_road.transform(df_test['Дорога'].values.reshape(-1, 1)), columns=['Дорога_' + str(name) for name in onehot_road.categories_[0]])\n",
        "df_test = pd.concat([df_test, roads], axis=1)"
      ],
      "metadata": {
        "id": "oESaAwzfskF3"
      },
      "execution_count": null,
      "outputs": []
    },
    {
      "cell_type": "code",
      "source": [
        "onehot_DTP = OneHotEncoder(handle_unknown='ignore', sparse=False)\n",
        "\n",
        "DTPs = pd.DataFrame(onehot_DTP.fit_transform(df_train['Вид ДТП'].values.reshape(-1, 1)), columns=['Вид ДТП_' + str(name) for name in onehot_DTP.categories_[0]])\n",
        "df_train = pd.concat([df_train, DTPs], axis=1)\n",
        "\n",
        "DTPs = pd.DataFrame(onehot_DTP.transform(df_test['Вид ДТП'].values.reshape(-1, 1)), columns=['Вид ДТП_' + str(name) for name in onehot_DTP.categories_[0]])\n",
        "df_test = pd.concat([df_test, DTPs], axis=1)"
      ],
      "metadata": {
        "id": "oEF7dz_XslSG"
      },
      "execution_count": null,
      "outputs": []
    },
    {
      "cell_type": "code",
      "source": [
        "onehot_street = OneHotEncoder(handle_unknown='ignore', sparse=False)\n",
        "\n",
        "streets = pd.DataFrame(onehot_street.fit_transform(df_train['Улица'].values.reshape(-1, 1)), columns=['Улица_' + str(name) for name in onehot_street.categories_[0]])\n",
        "df_train = pd.concat([df_train, streets], axis=1)\n",
        "\n",
        "streets = pd.DataFrame(onehot_street.transform(df_test['Улица'].values.reshape(-1, 1)), columns=['Улица_' + str(name) for name in onehot_street.categories_[0]])\n",
        "df_test = pd.concat([df_test, streets], axis=1)"
      ],
      "metadata": {
        "id": "3cm4N-JEshy1"
      },
      "execution_count": null,
      "outputs": []
    },
    {
      "cell_type": "code",
      "source": [
        "onehot_street_type = OneHotEncoder(handle_unknown='ignore', sparse=False)\n",
        "\n",
        "street_types = pd.DataFrame(onehot_street_type.fit_transform(df_train['Тип улицы'].values.reshape(-1, 1)), columns=['Тип улицы_' + str(name) for name in onehot_street_type.categories_[0]])\n",
        "df_train = pd.concat([df_train, street_types], axis=1)\n",
        "\n",
        "street_types = pd.DataFrame(onehot_street_type.transform(df_test['Тип улицы'].values.reshape(-1, 1)), columns=['Тип улицы_' + str(name) for name in onehot_street_type.categories_[0]])\n",
        "df_test = pd.concat([df_test, street_types], axis=1)"
      ],
      "metadata": {
        "id": "YJjT5ZjRNlW5"
      },
      "execution_count": null,
      "outputs": []
    },
    {
      "cell_type": "code",
      "source": [
        "onehot_house = OneHotEncoder(handle_unknown='ignore', sparse=False)\n",
        "\n",
        "houses = pd.DataFrame(onehot_house.fit_transform(df_train['Дом'].values.reshape(-1, 1)), columns=['Дом_' + str(name) for name in onehot_house.categories_[0]])\n",
        "df_train = pd.concat([df_train, houses], axis=1)\n",
        "\n",
        "houses = pd.DataFrame(onehot_house.transform(df_test['Дом'].values.reshape(-1, 1)), columns=['Дом_' + str(name) for name in onehot_house.categories_[0]])\n",
        "df_test = pd.concat([df_test, houses], axis=1)"
      ],
      "metadata": {
        "id": "Bc9oJXustDGJ"
      },
      "execution_count": null,
      "outputs": []
    },
    {
      "cell_type": "code",
      "source": [
        "onehot_corpus = OneHotEncoder(handle_unknown='ignore', sparse=False)\n",
        "\n",
        "corpuses = pd.DataFrame(onehot_corpus.fit_transform(df_train['Название возле дома'].values.reshape(-1, 1)), columns=['Название возле дома_' + str(name) for name in onehot_corpus.categories_[0]])\n",
        "df_train = pd.concat([df_train, corpuses], axis=1)\n",
        "\n",
        "corpuses = pd.DataFrame(onehot_corpus.transform(df_test['Название возле дома'].values.reshape(-1, 1)), columns=['Название возле дома_' + str(name) for name in onehot_corpus.categories_[0]])\n",
        "df_test = pd.concat([df_test, corpuses], axis=1)"
      ],
      "metadata": {
        "id": "P4FPS5hWKMZR"
      },
      "execution_count": null,
      "outputs": []
    },
    {
      "cell_type": "code",
      "source": [
        "onehot_severity = OneHotEncoder(handle_unknown='ignore', sparse=False)\n",
        "\n",
        "severities = pd.DataFrame(onehot_severity.fit_transform(df_train['severity'].values.reshape(-1, 1)), columns=['Категория ДТП_' + str(name) for name in onehot_severity.categories_[0]])\n",
        "df_train = pd.concat([df_train, severities], axis=1)\n",
        "\n",
        "severities = pd.DataFrame(onehot_severity.transform(df_test['severity'].values.reshape(-1, 1)), columns=['Категория ДТП_' + str(name) for name in onehot_severity.categories_[0]])\n",
        "df_test = pd.concat([df_test, severities], axis=1)"
      ],
      "metadata": {
        "id": "UX7naFTQ-D1T"
      },
      "execution_count": null,
      "outputs": []
    },
    {
      "cell_type": "code",
      "source": [
        "onehot_weather = OneHotEncoder(handle_unknown='ignore', sparse=False)\n",
        "\n",
        "weathers = pd.DataFrame(onehot_weather.fit_transform(df_train['weather'].values.reshape(-1, 1)), columns=['Погода_' + str(name) for name in onehot_weather.categories_[0]])\n",
        "df_train = pd.concat([df_train, weathers], axis=1)\n",
        "\n",
        "weathers = pd.DataFrame(onehot_weather.transform(df_test['weather'].values.reshape(-1, 1)), columns=['Погода_' + str(name) for name in onehot_weather.categories_[0]])\n",
        "df_test = pd.concat([df_test, weathers], axis=1)"
      ],
      "metadata": {
        "id": "mIj-qsV9-4lw"
      },
      "execution_count": null,
      "outputs": []
    },
    {
      "cell_type": "code",
      "source": [
        "onehot_cond = OneHotEncoder(handle_unknown='ignore', sparse=False)\n",
        "\n",
        "conds = pd.DataFrame(onehot_cond.fit_transform(df_train['Состояние дороги'].values.reshape(-1, 1)), columns=['Состояние дороги_' + str(name) for name in onehot_cond.categories_[0]])\n",
        "df_train = pd.concat([df_train, conds], axis=1)\n",
        "\n",
        "conds = pd.DataFrame(onehot_cond.transform(df_test['Состояние дороги'].values.reshape(-1, 1)), columns=['Состояние дороги_' + str(name) for name in onehot_cond.categories_[0]])\n",
        "df_test = pd.concat([df_test, conds], axis=1)"
      ],
      "metadata": {
        "id": "MtU-pz79_EHU"
      },
      "execution_count": null,
      "outputs": []
    },
    {
      "cell_type": "markdown",
      "source": [
        "## Выделим выборки"
      ],
      "metadata": {
        "id": "870l_9AGdTvF"
      }
    },
    {
      "cell_type": "code",
      "source": [
        "X = df_train.drop([\"Дата\", \"Время\",\"Место\", 'Название возле дома', \"Токены места\", \"Место\",\n",
        "                   \"Район\", \"Округ\", \"Город\", \"Дорога\", \"Улица\", 'Токены улицы', 'Тип улицы', \"Дом\", \"id\", \"Вид ДТП\", \n",
        "                   \"Погибло\",\t\"Погибло детей\",\t\"Ранено\",\t\"Ранено детей\", 'severity', 'weather', 'Состояние дороги', 'datetime'], axis = 1)\n",
        "y = df_train[[\"Погибло\",\t\"Погибло детей\",\t\"Ранено\",\t\"Ранено детей\"]]\n",
        "\n",
        "X_to_predict = df_test.drop([\"Дата\", \"Время\", 'Название возле дома', \"Токены места\", \n",
        "                             \"Место\", \"Район\", \"Округ\", \"Город\", \"Дорога\", \"Улица\", 'Токены улицы', 'Тип улицы', \n",
        "                             \"Дом\", \"id\", \"Вид ДТП\", 'severity', 'weather', 'Состояние дороги', 'datetime'], axis = 1)"
      ],
      "metadata": {
        "id": "R4fN_sD-dGSG"
      },
      "execution_count": null,
      "outputs": []
    },
    {
      "cell_type": "markdown",
      "source": [
        "## Feature Selection"
      ],
      "metadata": {
        "id": "Mq4JT_E6pUpQ"
      }
    },
    {
      "cell_type": "code",
      "source": [
        "reg1 = CatBoostRegressor(random_seed=0, verbose=False)\n",
        "reg2 = CatBoostRegressor(random_seed=0, verbose=False)\n",
        "reg3 = CatBoostRegressor(random_seed=0, verbose=False)\n",
        "reg4 = CatBoostRegressor(random_seed=0, verbose=False)\n",
        "\n",
        "reg1.fit(X, y[\"Погибло\"])\n",
        "\n",
        "pred1 = abs(np.round(reg1.predict(X)))\n",
        "\n",
        "X_d = X.copy()\n",
        "X_d.loc[:, \"Погибло\"] = pred1\n",
        "\n",
        "reg2.fit(X_d, y[\"Ранено\"])\n",
        "\n",
        "pred2 = abs(np.round(reg2.predict(X_d)))\n",
        "\n",
        "X_db = X_d.copy()\n",
        "X_db.loc[:, \"Ранено\"] = pred2\n",
        "\n",
        "reg3.fit(X_db, y[\"Погибло детей\"])\n",
        "\n",
        "reg4.fit(X_db, y[\"Ранено детей\"])"
      ],
      "metadata": {
        "colab": {
          "base_uri": "https://localhost:8080/"
        },
        "id": "reEC2v-0pW5q",
        "outputId": "65037db3-3289-4b98-d4f8-b5f3f14d9235"
      },
      "execution_count": null,
      "outputs": [
        {
          "output_type": "execute_result",
          "data": {
            "text/plain": [
              "<catboost.core.CatBoostRegressor at 0x7f703831fd50>"
            ]
          },
          "metadata": {},
          "execution_count": 391
        }
      ]
    },
    {
      "cell_type": "markdown",
      "source": [
        "### SHAP"
      ],
      "metadata": {
        "id": "-tMuH9N1pf7Q"
      }
    },
    {
      "cell_type": "code",
      "source": [
        "def global_shap_importance(model, X):\n",
        "    \"\"\" Return a dataframe containing the features sorted by Shap importance\n",
        "    Parameters\n",
        "    ----------\n",
        "    model : The tree-based model \n",
        "    X : pd.Dataframe\n",
        "         training set/test set/the whole dataset ... (without the label)\n",
        "    Returns\n",
        "    -------\n",
        "    pd.Dataframe\n",
        "        A dataframe containing the features sorted by Shap importance\n",
        "    \"\"\"\n",
        "    explainer = shap.Explainer(model)\n",
        "    shap_values = explainer(X)\n",
        "    cohorts = {\"\": shap_values}\n",
        "    cohort_labels = list(cohorts.keys())\n",
        "    cohort_exps = list(cohorts.values())\n",
        "    for i in range(len(cohort_exps)):\n",
        "        if len(cohort_exps[i].shape) == 2:\n",
        "            cohort_exps[i] = cohort_exps[i].abs.mean(0)\n",
        "    features = cohort_exps[0].data\n",
        "    feature_names = cohort_exps[0].feature_names\n",
        "    values = np.array([cohort_exps[i].values for i in range(len(cohort_exps))])\n",
        "    feature_importance = pd.DataFrame(\n",
        "        list(zip(feature_names, sum(values))), columns=['features', 'importance'])\n",
        "    feature_importance.sort_values(\n",
        "        by=['importance'], ascending=False, inplace=True)\n",
        "    return feature_importance"
      ],
      "metadata": {
        "id": "eMRysQcvphDs"
      },
      "execution_count": null,
      "outputs": []
    },
    {
      "cell_type": "code",
      "source": [
        "fi_reg1 = global_shap_importance(reg1, X)\n",
        "fi_reg2 = global_shap_importance(reg2, X_d)\n",
        "fi_reg3 = global_shap_importance(reg3, X_db)\n",
        "fi_reg4 = global_shap_importance(reg4, X_db)\n",
        "\n",
        "fi_reg1.to_csv('/content/drive/MyDrive/ColabNotebooks/DTP/fi_reg1.csv', index=False)\n",
        "fi_reg2.to_csv('/content/drive/MyDrive/ColabNotebooks/DTP/fi_reg2.csv', index=False)\n",
        "fi_reg3.to_csv('/content/drive/MyDrive/ColabNotebooks/DTP/fi_reg3.csv', index=False)\n",
        "fi_reg4.to_csv('/content/drive/MyDrive/ColabNotebooks/DTP/fi_reg4.csv', index=False)"
      ],
      "metadata": {
        "id": "WltVYDRUpoDo"
      },
      "execution_count": null,
      "outputs": []
    },
    {
      "cell_type": "markdown",
      "source": [
        "## Валидация модели"
      ],
      "metadata": {
        "id": "wWOMlu5megED"
      }
    },
    {
      "cell_type": "code",
      "source": [
        "fi_reg1 = pd.read_csv(\"/content/drive/MyDrive/ColabNotebooks/DTP/fi_reg1.csv\")\n",
        "fi_reg2 = pd.read_csv(\"/content/drive/MyDrive/ColabNotebooks/DTP/fi_reg2.csv\")\n",
        "fi_reg3 = pd.read_csv(\"/content/drive/MyDrive/ColabNotebooks/DTP/fi_reg3.csv\")\n",
        "fi_reg4 = pd.read_csv(\"/content/drive/MyDrive/ColabNotebooks/DTP/fi_reg4.csv\")\n",
        "\n",
        "fi_reg1 = fi_reg1['features'].values[:450]\n",
        "fi_reg2 = fi_reg2['features'].values[:650]\n",
        "fi_reg3 = fi_reg3['features'].values[:300]\n",
        "fi_reg4 = fi_reg4['features'].values[:555]"
      ],
      "metadata": {
        "id": "-YMpw53oxahK"
      },
      "execution_count": null,
      "outputs": []
    },
    {
      "cell_type": "code",
      "source": [
        "def validate(X_train, y_train, X_test, y_test):\n",
        "\n",
        "  reg1 = CatBoostClassifier(random_seed=0, verbose=False, auto_class_weights='SqrtBalanced')\n",
        "  reg2 = CatBoostClassifier(random_seed=0, verbose=False, auto_class_weights='SqrtBalanced')\n",
        "  reg3 = CatBoostClassifier(random_seed=0, verbose=False, auto_class_weights='SqrtBalanced')\n",
        "  reg4 = CatBoostClassifier(random_seed=0, verbose=False, auto_class_weights='SqrtBalanced')\n",
        "\n",
        "  reg1.fit(X_train[fi_reg1], y_train[\"Погибло\"], eval_set=(X_test[fi_reg1], y_test[\"Погибло\"]), use_best_model=True)\n",
        "\n",
        "  reg_pred1 = abs(np.round(reg1.predict(X_train[fi_reg1])))\n",
        "  test_reg_pred1 = abs(np.round(reg1.predict(X_test[fi_reg1])))\n",
        "\n",
        "  pred1 = reg_pred1\n",
        "\n",
        "  X_train.loc[:, \"Погибло\"] = reg_pred1\n",
        "  X_test.loc[:, \"Погибло\"] = test_reg_pred1\n",
        "\n",
        "  reg2.fit(X_train[fi_reg2], y_train[\"Ранено\"], eval_set=(X_test[fi_reg2], y_test[\"Ранено\"]), use_best_model=True)\n",
        "\n",
        "  reg_pred2 = abs(np.round(reg2.predict(X_train[fi_reg2])))\n",
        "  test_reg_pred2 = abs(np.round(reg2.predict(X_test[fi_reg2])))\n",
        "\n",
        "  pred2 = reg_pred2\n",
        "\n",
        "  X_train.loc[:, \"Ранено\"] = reg_pred2\n",
        "  X_test.loc[:, \"Ранено\"] = test_reg_pred2\n",
        "\n",
        "  reg3.fit(X_train[fi_reg3], y_train[\"Погибло детей\"], eval_set=(X_test[fi_reg3], y_test[\"Погибло детей\"]), use_best_model=True)\n",
        "\n",
        "  reg_pred3 = abs(np.round(reg3.predict(X_train[fi_reg3])))\n",
        "  test_reg_pred3 = abs(np.round(reg3.predict(X_test[fi_reg3])))\n",
        "\n",
        "  pred3 = reg_pred3\n",
        "\n",
        "  reg4.fit(X_train[fi_reg4], y_train[\"Ранено детей\"], eval_set=(X_test[fi_reg4], y_test[\"Ранено детей\"]), use_best_model=True)\n",
        "\n",
        "  reg_pred4 = abs(np.round(reg4.predict(X_train[fi_reg4])))\n",
        "  test_reg_pred4 = abs(np.round(reg4.predict(X_test[fi_reg4])))\n",
        "\n",
        "  pred4 = reg_pred4\n",
        "\n",
        "  score_dead = recall_score(y_train[\"Погибло\"], pred1, average='macro', zero_division=True)\n",
        "  score_dead_children = recall_score(y_train[\"Погибло детей\"], pred3, average='macro', zero_division=True)\n",
        "  score_blood = recall_score(y_train[\"Ранено\"], pred2, average='macro', zero_division=True)\n",
        "  score_blood_children = recall_score(y_train[\"Ранено детей\"], pred4, average='macro', zero_division=True)\n",
        "\n",
        "  train_score = (score_dead + score_dead_children + score_blood + score_blood_children) / 4\n",
        "\n",
        "  score_dead = recall_score(y_test[\"Погибло\"], test_reg_pred1, average='macro', zero_division=True)\n",
        "  score_dead_children = recall_score(y_test[\"Погибло детей\"], test_reg_pred3, average='macro', zero_division=True)\n",
        "  score_blood = recall_score(y_test[\"Ранено\"], test_reg_pred2, average='macro', zero_division=True)\n",
        "  score_blood_children = recall_score(y_test[\"Ранено детей\"], test_reg_pred4, average='macro', zero_division=True)\n",
        "\n",
        "  print('test score dead - ', score_dead)\n",
        "  print('test score dead_children - ', score_dead_children)\n",
        "  print('test score blood - ', score_blood)\n",
        "  print('test score blood_children - ', score_blood_children)\n",
        "  test_score = (score_dead + score_dead_children + score_blood + score_blood_children) / 4\n",
        "  \n",
        "  return train_score, test_score, reg1, reg2, reg3, reg4"
      ],
      "metadata": {
        "id": "v550JiyIdZNk"
      },
      "execution_count": null,
      "outputs": []
    },
    {
      "cell_type": "code",
      "source": [
        "kf = KFold(n_splits=5, shuffle=True, random_state=0)\n",
        "train_scores = []\n",
        "test_scores = []\n",
        "\n",
        "for i, (train_index, test_index) in enumerate(kf.split(X)):\n",
        "  X_train, X_test = X.iloc[train_index], X.iloc[test_index]\n",
        "  y_train, y_test = y.iloc[train_index], y.iloc[test_index]\n",
        "  print('new iteration')\n",
        "  train_score, test_score, reg1, reg2, reg3, reg4 = validate(X_train, y_train, X_test, y_test)\n",
        "  train_scores.append(train_score)\n",
        "  test_scores.append(test_score)\n",
        "\n",
        "  reg1.save_model(f'reg1_fold_{i}.cbm')\n",
        "  reg2.save_model(f'reg2_fold_{i}.cbm')\n",
        "  reg3.save_model(f'reg3_fold_{i}.cbm')\n",
        "  reg4.save_model(f'reg4_fold_{i}.cbm')\n",
        "\n",
        "print('train')\n",
        "print(train_scores)\n",
        "print(sum(train_scores) / kf.get_n_splits(X))\n",
        "print('\\n')\n",
        "print('test')\n",
        "print(test_scores)\n",
        "print(sum(test_scores) / kf.get_n_splits(X))"
      ],
      "metadata": {
        "id": "hBISnr7ndZQM"
      },
      "execution_count": null,
      "outputs": []
    },
    {
      "cell_type": "markdown",
      "source": [
        "# Одна модель"
      ],
      "metadata": {
        "id": "6PBmoIzPxTKH"
      }
    },
    {
      "cell_type": "markdown",
      "source": [
        "## Обучение одной модели"
      ],
      "metadata": {
        "id": "vUPON7vxenEJ"
      }
    },
    {
      "cell_type": "code",
      "source": [
        "reg1 = CatBoostClassifier(random_seed=0, verbose=False, auto_class_weights='SqrtBalanced')\n",
        "reg2 = CatBoostClassifier(random_seed=0, verbose=False, auto_class_weights='SqrtBalanced')\n",
        "reg3 = CatBoostClassifier(random_seed=0, verbose=False, auto_class_weights='SqrtBalanced')\n",
        "reg4 = CatBoostClassifier(random_seed=0, verbose=False, auto_class_weights='SqrtBalanced')\n",
        "\n",
        "reg1.fit(X[fi_reg1], y[\"Погибло\"])\n",
        "\n",
        "pred1 = np.round(abs(reg1.predict(X[fi_reg1])))\n",
        "\n",
        "X_d = X.copy()\n",
        "X_d.loc[:, \"Погибло\"] = pred1\n",
        "\n",
        "reg2.fit(X_d[fi_reg2], y[\"Ранено\"])\n",
        "\n",
        "pred2 = np.round(abs(reg2.predict(X_d[fi_reg2])))\n",
        "\n",
        "X_db = X_d.copy()\n",
        "X_db.loc[:, \"Ранено\"] = pred2\n",
        "\n",
        "reg3.fit(X_db[fi_reg3], y[\"Погибло детей\"])\n",
        "\n",
        "pred3 = np.round(abs(reg3.predict(X_db[fi_reg3])))\n",
        "\n",
        "reg4.fit(X_db[fi_reg4], y[\"Ранено детей\"])\n",
        "\n",
        "pred4 = np.round(abs(reg4.predict(X_db[fi_reg4])))\n",
        "\n",
        "score_dead = recall_score(y[\"Погибло\"], pred1, average='macro', zero_division=True)\n",
        "score_dead_children = recall_score(y[\"Погибло детей\"], pred3, average='macro', zero_division=True)\n",
        "score_blood = recall_score(y[\"Ранено\"], pred2, average='macro', zero_division=True)\n",
        "score_blood_children = recall_score(y[\"Ранено детей\"], pred4, average='macro', zero_division=True)\n",
        "\n",
        "print('train score dead - ', score_dead)\n",
        "print('train score dead_children - ', score_dead_children)\n",
        "print('train score blood - ', score_blood)\n",
        "print('train score blood_children - ', score_blood_children)\n",
        "\n",
        "train_score = (score_dead + score_dead_children + score_blood + score_blood_children) / 4\n",
        "\n",
        "print('Overall Recall - ', train_score)"
      ],
      "metadata": {
        "colab": {
          "base_uri": "https://localhost:8080/"
        },
        "id": "KJFJLmDzhLz0",
        "outputId": "2c915477-8d1a-4bf4-ace3-218ee9428bc7"
      },
      "execution_count": null,
      "outputs": [
        {
          "output_type": "stream",
          "name": "stdout",
          "text": [
            "train score dead -  0.9463067573124492\n",
            "train score dead_children -  0.9997191441556452\n",
            "train score blood -  0.7193179369999158\n",
            "train score blood_children -  0.8103204714239588\n",
            "Overall Recall -  0.8689160774729923\n"
          ]
        }
      ]
    },
    {
      "cell_type": "markdown",
      "source": [
        "## Сабмит одной модели"
      ],
      "metadata": {
        "id": "sXfvetI5xVfm"
      }
    },
    {
      "cell_type": "code",
      "source": [
        "pred1 = np.round(abs(reg1.predict(X_to_predict)))\n",
        "\n",
        "X_d = X_to_predict.copy()\n",
        "X_d.loc[:, \"Погибло\"] = pred1\n",
        "\n",
        "pred2 = np.round(abs(reg2.predict(X_d)))\n",
        "\n",
        "X_db = X_d.copy()\n",
        "X_db.loc[:, \"Ранено\"] = pred2\n",
        "\n",
        "pred3 = np.round(abs(reg3.predict(X_db)))\n",
        "\n",
        "pred4 = np.round(abs(reg4.predict(X_db)))"
      ],
      "metadata": {
        "id": "sjz862Aec_74"
      },
      "execution_count": null,
      "outputs": []
    },
    {
      "cell_type": "code",
      "source": [
        "submit = pd.DataFrame({\"Погибло\": pred1.flatten(),\t\"Погибло детей\": pred3.flatten(),\t\"Ранено\": pred2.flatten(),\t\"Ранено детей\": pred4.flatten()})\n",
        "\n",
        "submit.insert(loc=0, column='id', value=df_test[\"id\"])"
      ],
      "metadata": {
        "id": "a2w09MVqdKMO"
      },
      "execution_count": null,
      "outputs": []
    },
    {
      "cell_type": "code",
      "source": [
        "to_insert = common_rows[['id', 'Погибло',\t'Погибло детей',\t'Ранено',\t'Ранено детей']].groupby(by='id').mean()\n",
        "to_insert['Ранено'] = to_insert['Ранено'].apply(lambda x: 1 if x >= 0.5 else 0)\n",
        "to_insert['Ранено детей'] = to_insert['Ранено детей'].apply(lambda x: 1 if x >= 0.5 else 0)\n",
        "to_insert['Погибло'] = to_insert['Погибло'].apply(lambda x: 1 if x >= 0.5 else 0)\n",
        "to_insert['Погибло детей'] = to_insert['Погибло детей'].apply(lambda x: 1 if x >= 0.5 else 0)\n",
        "to_insert.reset_index(inplace=True)"
      ],
      "metadata": {
        "id": "SPt6yrsXq7us"
      },
      "execution_count": null,
      "outputs": []
    },
    {
      "cell_type": "code",
      "source": [
        "submit.loc[submit['id'].isin(to_insert['id']), ['Погибло',\t'Погибло детей',\t'Ранено',\t'Ранено детей']] = np.nan"
      ],
      "metadata": {
        "id": "SBkRsbuioch-"
      },
      "execution_count": null,
      "outputs": []
    },
    {
      "cell_type": "code",
      "source": [
        "to_insert_full = submit.merge(to_insert, how='left', on=['id'])"
      ],
      "metadata": {
        "id": "A3OkqEeEu0aa"
      },
      "execution_count": null,
      "outputs": []
    },
    {
      "cell_type": "code",
      "source": [
        "submit.loc[submit['id'].isin(to_insert['id']), 'Погибло'] = submit.loc[submit['id'].isin(to_insert['id']), 'Погибло'].fillna(to_insert_full['Погибло_y'])\n",
        "submit.loc[submit['id'].isin(to_insert['id']), 'Погибло детей'] = submit.loc[submit['id'].isin(to_insert['id']), 'Погибло детей'].fillna(to_insert_full['Погибло детей_y'])\n",
        "submit.loc[submit['id'].isin(to_insert['id']), 'Ранено'] = submit.loc[submit['id'].isin(to_insert['id']), 'Ранено'].fillna(to_insert_full['Ранено_y'])\n",
        "submit.loc[submit['id'].isin(to_insert['id']), 'Ранено детей'] = submit.loc[submit['id'].isin(to_insert['id']), 'Ранено детей'].fillna(to_insert_full['Ранено детей_y'])"
      ],
      "metadata": {
        "id": "qdI6yA9FuH3e"
      },
      "execution_count": null,
      "outputs": []
    },
    {
      "cell_type": "code",
      "source": [
        "submit['Погибло'] = submit['Погибло'].apply(int)\n",
        "submit['Погибло детей'] = submit['Погибло детей'].apply(int)\n",
        "submit['Ранено'] = submit['Ранено'].apply(int)\n",
        "submit['Ранено детей'] = submit['Ранено детей'].apply(int)"
      ],
      "metadata": {
        "id": "2jQxAZpZvdvS"
      },
      "execution_count": null,
      "outputs": []
    },
    {
      "cell_type": "code",
      "source": [
        "submit = submit.set_index('id')"
      ],
      "metadata": {
        "id": "tC3DP2WSjhbK"
      },
      "execution_count": null,
      "outputs": []
    },
    {
      "cell_type": "code",
      "source": [
        "submit.head()"
      ],
      "metadata": {
        "colab": {
          "base_uri": "https://localhost:8080/",
          "height": 238
        },
        "id": "6PFEVNbCkDO_",
        "outputId": "f0c1cb1d-2c00-4d32-d962-6ab3a39905c6"
      },
      "execution_count": null,
      "outputs": [
        {
          "output_type": "execute_result",
          "data": {
            "text/plain": [
              "           Погибло  Погибло детей  Ранено  Ранено детей\n",
              "id                                                     \n",
              "490078911        0              0       0             0\n",
              "490055448        0              0       0             0\n",
              "490054440        1              0       0             0\n",
              "490037847        0              0       0             0\n",
              "490037049        0              0       0             0"
            ],
            "text/html": [
              "\n",
              "  <div id=\"df-99b4df17-5c66-40f7-a75c-f0e3e0014a7e\">\n",
              "    <div class=\"colab-df-container\">\n",
              "      <div>\n",
              "<style scoped>\n",
              "    .dataframe tbody tr th:only-of-type {\n",
              "        vertical-align: middle;\n",
              "    }\n",
              "\n",
              "    .dataframe tbody tr th {\n",
              "        vertical-align: top;\n",
              "    }\n",
              "\n",
              "    .dataframe thead th {\n",
              "        text-align: right;\n",
              "    }\n",
              "</style>\n",
              "<table border=\"1\" class=\"dataframe\">\n",
              "  <thead>\n",
              "    <tr style=\"text-align: right;\">\n",
              "      <th></th>\n",
              "      <th>Погибло</th>\n",
              "      <th>Погибло детей</th>\n",
              "      <th>Ранено</th>\n",
              "      <th>Ранено детей</th>\n",
              "    </tr>\n",
              "    <tr>\n",
              "      <th>id</th>\n",
              "      <th></th>\n",
              "      <th></th>\n",
              "      <th></th>\n",
              "      <th></th>\n",
              "    </tr>\n",
              "  </thead>\n",
              "  <tbody>\n",
              "    <tr>\n",
              "      <th>490078911</th>\n",
              "      <td>0</td>\n",
              "      <td>0</td>\n",
              "      <td>0</td>\n",
              "      <td>0</td>\n",
              "    </tr>\n",
              "    <tr>\n",
              "      <th>490055448</th>\n",
              "      <td>0</td>\n",
              "      <td>0</td>\n",
              "      <td>0</td>\n",
              "      <td>0</td>\n",
              "    </tr>\n",
              "    <tr>\n",
              "      <th>490054440</th>\n",
              "      <td>1</td>\n",
              "      <td>0</td>\n",
              "      <td>0</td>\n",
              "      <td>0</td>\n",
              "    </tr>\n",
              "    <tr>\n",
              "      <th>490037847</th>\n",
              "      <td>0</td>\n",
              "      <td>0</td>\n",
              "      <td>0</td>\n",
              "      <td>0</td>\n",
              "    </tr>\n",
              "    <tr>\n",
              "      <th>490037049</th>\n",
              "      <td>0</td>\n",
              "      <td>0</td>\n",
              "      <td>0</td>\n",
              "      <td>0</td>\n",
              "    </tr>\n",
              "  </tbody>\n",
              "</table>\n",
              "</div>\n",
              "      <button class=\"colab-df-convert\" onclick=\"convertToInteractive('df-99b4df17-5c66-40f7-a75c-f0e3e0014a7e')\"\n",
              "              title=\"Convert this dataframe to an interactive table.\"\n",
              "              style=\"display:none;\">\n",
              "        \n",
              "  <svg xmlns=\"http://www.w3.org/2000/svg\" height=\"24px\"viewBox=\"0 0 24 24\"\n",
              "       width=\"24px\">\n",
              "    <path d=\"M0 0h24v24H0V0z\" fill=\"none\"/>\n",
              "    <path d=\"M18.56 5.44l.94 2.06.94-2.06 2.06-.94-2.06-.94-.94-2.06-.94 2.06-2.06.94zm-11 1L8.5 8.5l.94-2.06 2.06-.94-2.06-.94L8.5 2.5l-.94 2.06-2.06.94zm10 10l.94 2.06.94-2.06 2.06-.94-2.06-.94-.94-2.06-.94 2.06-2.06.94z\"/><path d=\"M17.41 7.96l-1.37-1.37c-.4-.4-.92-.59-1.43-.59-.52 0-1.04.2-1.43.59L10.3 9.45l-7.72 7.72c-.78.78-.78 2.05 0 2.83L4 21.41c.39.39.9.59 1.41.59.51 0 1.02-.2 1.41-.59l7.78-7.78 2.81-2.81c.8-.78.8-2.07 0-2.86zM5.41 20L4 18.59l7.72-7.72 1.47 1.35L5.41 20z\"/>\n",
              "  </svg>\n",
              "      </button>\n",
              "      \n",
              "  <style>\n",
              "    .colab-df-container {\n",
              "      display:flex;\n",
              "      flex-wrap:wrap;\n",
              "      gap: 12px;\n",
              "    }\n",
              "\n",
              "    .colab-df-convert {\n",
              "      background-color: #E8F0FE;\n",
              "      border: none;\n",
              "      border-radius: 50%;\n",
              "      cursor: pointer;\n",
              "      display: none;\n",
              "      fill: #1967D2;\n",
              "      height: 32px;\n",
              "      padding: 0 0 0 0;\n",
              "      width: 32px;\n",
              "    }\n",
              "\n",
              "    .colab-df-convert:hover {\n",
              "      background-color: #E2EBFA;\n",
              "      box-shadow: 0px 1px 2px rgba(60, 64, 67, 0.3), 0px 1px 3px 1px rgba(60, 64, 67, 0.15);\n",
              "      fill: #174EA6;\n",
              "    }\n",
              "\n",
              "    [theme=dark] .colab-df-convert {\n",
              "      background-color: #3B4455;\n",
              "      fill: #D2E3FC;\n",
              "    }\n",
              "\n",
              "    [theme=dark] .colab-df-convert:hover {\n",
              "      background-color: #434B5C;\n",
              "      box-shadow: 0px 1px 3px 1px rgba(0, 0, 0, 0.15);\n",
              "      filter: drop-shadow(0px 1px 2px rgba(0, 0, 0, 0.3));\n",
              "      fill: #FFFFFF;\n",
              "    }\n",
              "  </style>\n",
              "\n",
              "      <script>\n",
              "        const buttonEl =\n",
              "          document.querySelector('#df-99b4df17-5c66-40f7-a75c-f0e3e0014a7e button.colab-df-convert');\n",
              "        buttonEl.style.display =\n",
              "          google.colab.kernel.accessAllowed ? 'block' : 'none';\n",
              "\n",
              "        async function convertToInteractive(key) {\n",
              "          const element = document.querySelector('#df-99b4df17-5c66-40f7-a75c-f0e3e0014a7e');\n",
              "          const dataTable =\n",
              "            await google.colab.kernel.invokeFunction('convertToInteractive',\n",
              "                                                     [key], {});\n",
              "          if (!dataTable) return;\n",
              "\n",
              "          const docLinkHtml = 'Like what you see? Visit the ' +\n",
              "            '<a target=\"_blank\" href=https://colab.research.google.com/notebooks/data_table.ipynb>data table notebook</a>'\n",
              "            + ' to learn more about interactive tables.';\n",
              "          element.innerHTML = '';\n",
              "          dataTable['output_type'] = 'display_data';\n",
              "          await google.colab.output.renderOutput(dataTable, element);\n",
              "          const docLink = document.createElement('div');\n",
              "          docLink.innerHTML = docLinkHtml;\n",
              "          element.appendChild(docLink);\n",
              "        }\n",
              "      </script>\n",
              "    </div>\n",
              "  </div>\n",
              "  "
            ]
          },
          "metadata": {},
          "execution_count": 406
        }
      ]
    },
    {
      "cell_type": "code",
      "source": [
        "submit.to_csv('sqrt_cut_features.csv')"
      ],
      "metadata": {
        "id": "xLmUZP1AdV2O"
      },
      "execution_count": null,
      "outputs": []
    }
  ]
}
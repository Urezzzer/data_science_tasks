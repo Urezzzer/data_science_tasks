{
 "cells": [
  {
   "cell_type": "code",
   "execution_count": 5,
   "outputs": [
    {
     "name": "stdout",
     "output_type": "stream",
     "text": [
      "Populating the interactive namespace from numpy and matplotlib\n"
     ]
    },
    {
     "name": "stderr",
     "output_type": "stream",
     "text": [
      "c:\\my files\\python\\fns_russia_rosstat\\lib\\site-packages\\IPython\\core\\magics\\pylab.py:159: UserWarning: pylab import has clobbered these variables: ['product']\n",
      "`%matplotlib` prevents importing * from pylab and numpy\n",
      "  warn(\"pylab import has clobbered these variables: %s\"  % clobbered +\n"
     ]
    }
   ],
   "source": [
    "import datetime\n",
    "from IPython.core.pylabtools import figsize\n",
    "from dateutil.relativedelta import relativedelta\n",
    "from matplotlib import pylab\n",
    "%pylab inline\n",
    "%matplotlib inline\n",
    "import numpy as np\n",
    "import pandas as pd\n",
    "from scipy import stats\n",
    "import statsmodels.api as sm\n",
    "import statsmodels\n",
    "import matplotlib.pyplot as plt\n",
    "import warnings\n",
    "from itertools import product\n",
    "import seaborn as sns\n",
    "from scipy.linalg._solve_toeplitz import LinAlgError\n",
    "from tqdm.notebook import tqdm"
   ],
   "metadata": {
    "collapsed": false,
    "pycharm": {
     "name": "#%%\n"
    }
   }
  },
  {
   "cell_type": "code",
   "execution_count": 2,
   "outputs": [],
   "source": [
    "data = pd.read_csv('data/train.csv', sep=';')\n",
    "data = data.drop(['region', 'okato'], axis=1)"
   ],
   "metadata": {
    "collapsed": false,
    "pycharm": {
     "name": "#%%\n"
    }
   }
  },
  {
   "cell_type": "code",
   "execution_count": null,
   "outputs": [],
   "source": [
    "data.info()"
   ],
   "metadata": {
    "collapsed": false,
    "pycharm": {
     "name": "#%%\n"
    }
   }
  },
  {
   "cell_type": "code",
   "execution_count": 3,
   "outputs": [],
   "source": [
    "data = data[::-1]"
   ],
   "metadata": {
    "collapsed": false,
    "pycharm": {
     "name": "#%%\n"
    }
   }
  },
  {
   "cell_type": "code",
   "execution_count": null,
   "outputs": [],
   "source": [
    "list(data.oktmo.unique())"
   ],
   "metadata": {
    "collapsed": false,
    "pycharm": {
     "name": "#%%\n"
    }
   }
  },
  {
   "cell_type": "code",
   "execution_count": 6,
   "outputs": [],
   "source": [
    "region_datas = []\n",
    "for oktmo in sorted(data.oktmo.unique()):\n",
    "    region_datas.append(pd.read_csv('data/region_data/{}_train.csv'.format(oktmo), index_col=['date'],\n",
    "                                    parse_dates=['date'], dayfirst=True, sep=';'))\n",
    "\n",
    "    for column in region_datas[-1].columns[1:]:\n",
    "        region_datas[-1][column] = [x.replace(',', '.').replace('\\xa0', '') if type(x) == str else x for x in region_datas[-1][column]]\n",
    "        region_datas[-1][column] = region_datas[-1][column].astype(float)"
   ],
   "metadata": {
    "collapsed": false,
    "pycharm": {
     "name": "#%%\n"
    }
   }
  },
  {
   "cell_type": "code",
   "execution_count": null,
   "outputs": [],
   "source": [
    "region_datas[20]"
   ],
   "metadata": {
    "collapsed": false,
    "pycharm": {
     "name": "#%%\n"
    }
   }
  },
  {
   "cell_type": "code",
   "execution_count": 7,
   "outputs": [],
   "source": [
    "def invboxcox(y,lmbda):\n",
    "   if lmbda == 0:\n",
    "      return(np.exp(y))\n",
    "   else:\n",
    "      return(np.exp(np.log(lmbda*y+1)/lmbda))"
   ],
   "metadata": {
    "collapsed": false,
    "pycharm": {
     "name": "#%%\n"
    }
   }
  },
  {
   "cell_type": "markdown",
   "source": [
    "## Preprocessing"
   ],
   "metadata": {
    "collapsed": false
   }
  },
  {
   "cell_type": "code",
   "execution_count": 8,
   "outputs": [],
   "source": [
    "for i, region in enumerate(region_datas):\n",
    "    for column in region.columns.values[1:]:\n",
    "        if sum(region[region[column] < 0][column]) != 0:\n",
    "            region[column] = region[column].apply(lambda x: 0 if x < 0 else x)\n",
    "\n",
    "        if sum(region[column][-60:] == 0) / 60 > 0.5:\n",
    "            region[column] = 0.\n",
    "\n",
    "        if len(region[region[column] == 0][column])  / len(region) < 0.55:\n",
    "            region[column] = region[column].replace(0, np.nan).ffill().bfill()\n",
    "\n",
    "        if sum(region[column][-60:] == 0) / 60 <= 0.5:\n",
    "            region[column] = region[column].apply(lambda x: np.mean(region[region[column] != 0][column]) if x == 0 else x)\n",
    "\n",
    "        if len(region[region[column] == 0][column])  / len(region) >= 0.90:\n",
    "            region[column] = 0.\n"
   ],
   "metadata": {
    "collapsed": false,
    "pycharm": {
     "name": "#%%\n"
    }
   }
  },
  {
   "cell_type": "markdown",
   "source": [
    "## Tuning модель с рядами Фурье"
   ],
   "metadata": {
    "collapsed": false
   }
  },
  {
   "cell_type": "code",
   "execution_count": 9,
   "outputs": [],
   "source": [
    "d =  0\n",
    "D = 1\n",
    "\n",
    "all_parameters = pd.read_csv('data/all_parameters.csv')"
   ],
   "metadata": {
    "collapsed": false,
    "pycharm": {
     "name": "#%%\n"
    }
   }
  },
  {
   "cell_type": "code",
   "execution_count": 10,
   "outputs": [
    {
     "data": {
      "text/plain": "  0%|          | 0/85 [00:00<?, ?it/s]",
      "application/vnd.jupyter.widget-view+json": {
       "version_major": 2,
       "version_minor": 0,
       "model_id": "11f300d347f442d9bad37b84a5f41580"
      }
     },
     "metadata": {},
     "output_type": "display_data"
    }
   ],
   "source": [
    "warnings.filterwarnings('ignore')\n",
    "\n",
    "for i, region in tqdm(enumerate(region_datas), total=len(region_datas)):\n",
    "\n",
    "    date_list = [datetime.datetime.strptime(\"01.04.2021\", \"%d.%m.%Y\") +\n",
    "                 relativedelta(days=x) for x in range(0,91)]\n",
    "    future = pd.DataFrame(index=date_list, columns= region_datas[i].columns)\n",
    "    region_datas[i] = pd.concat([region_datas[i], future])\n",
    "\n",
    "    region_datas[i]['sin365_2'] = np.sin(2 * np.pi * region_datas[i].index.dayofyear / 365.25)\n",
    "    region_datas[i]['cos365_2'] = np.cos(2 * np.pi * region_datas[i].index.dayofyear / 365.25)\n",
    "    region_datas[i]['sin365_4'] = np.sin(4 * np.pi * region_datas[i].index.dayofyear / 365.25)\n",
    "    region_datas[i]['cos365_4'] = np.cos(4 * np.pi * region_datas[i].index.dayofyear / 365.25)\n",
    "    region_datas[i]['sin365_1'] = np.sin(np.pi * region_datas[i].index.dayofyear / 365.25)\n",
    "    region_datas[i]['cos365_1'] = np.cos(np.pi * region_datas[i].index.dayofyear / 365.25)\n",
    "\n",
    "    for column in region.columns[1:]:\n",
    "\n",
    "        flag_not_boxcox = False\n",
    "\n",
    "        if np.any(region[column] <= 0) or np.all(region[column] == region[column][0]):\n",
    "            box = region_datas[i][column][:-91].copy()\n",
    "            flag_not_boxcox = True\n",
    "        else:\n",
    "            box, lmbda = stats.boxcox(region_datas[i][column][:-91])\n",
    "\n",
    "            if np.all([round(x, 5) for x in box] == round(box[0], 5)):\n",
    "                lmbda = 0\n",
    "                box = stats.boxcox(region_datas[i][column][:-91], lmbda)\n",
    "                if np.all([round(x, 5) for x in box] == round(box[0], 5)):\n",
    "                    box = region_datas[i][column][:-91].copy()\n",
    "                    flag_not_boxcox = True\n",
    "\n",
    "        if np.all(region[column] == 0.):\n",
    "            region_datas[i][\"{}_model\".format(column)] = 0.\n",
    "        else:\n",
    "            p = int(all_parameters.loc[(all_parameters['column'] == column) & (all_parameters['oktmo'] == region_datas[i]['oktmo'][0])]['p'])\n",
    "            P = int(all_parameters.loc[(all_parameters['column'] == column) & (all_parameters['oktmo'] == region_datas[i]['oktmo'][0])]['P'])\n",
    "            if p == -1 or P == -1:\n",
    "                p = 0\n",
    "                P = 0\n",
    "\n",
    "            model = sm.tsa.statespace.SARIMAX(box, exog=region_datas[i][['sin365_2', 'cos365_2', 'sin365_4', 'cos365_4']][:-91],\n",
    "                                               order=(p, d, 0), seasonal_order=(P, D, 0, 7)).fit(disp=-1)\n",
    "\n",
    "            if flag_not_boxcox:\n",
    "                region_datas[i][\"{}_model\".format(column)] = model.predict(exog=region_datas[i][['sin365_2', 'cos365_2', 'sin365_4', 'cos365_4']][-91:],\n",
    "                                                                            start=0, end=911)\n",
    "            else:\n",
    "                region_datas[i][\"{}_model\".format(column)] = invboxcox(model.predict(exog=region_datas[i][['sin365_2', 'cos365_2', 'sin365_4', 'cos365_4']][-91:],\n",
    "                                                                                      start=0, end=911), lmbda)\n",
    "\n",
    "            region_datas[i][\"{}_model\".format(column)] = region_datas[i][\"{}_model\".format(column)].replace(np.nan, -1)\n",
    "\n",
    "            if column == 'potatoes':\n",
    "                model = sm.tsa.statespace.SARIMAX(box, exog=region_datas[i][['cos365_1', 'sin365_4', 'cos365_4']][:-91],\n",
    "                                               order=(p, d, 0), seasonal_order=(P, D, 0, 7)).fit(disp=-1)\n",
    "\n",
    "                if flag_not_boxcox:\n",
    "                    region_datas[i][\"{}_model\".format(column)] = model.predict(exog=region_datas[i][['cos365_1', 'sin365_4', 'cos365_4']][-91:],\n",
    "                                                                            start=0, end=911)\n",
    "                else:\n",
    "                    region_datas[i][\"{}_model\".format(column)] = invboxcox(model.predict(exog=region_datas[i][['cos365_1', 'sin365_4', 'cos365_4']][-91:],\n",
    "                                                                                      start=0, end=911), lmbda)\n",
    "\n",
    "\n",
    "            if -1. in list(region_datas[i][\"{}_model\".format(column)][-91:]) or 5 * region_datas[i][\"{}_model\".format(column)][-91:].mean() < np.max(region_datas[i][\"{}_model\".format(column)][-91:]):\n",
    "\n",
    "                model = sm.tsa.statespace.SARIMAX(box, trend='ct', order=(p, d, 0), seasonal_order=(P, D, 0, 7)).fit(disp=-1)\n",
    "\n",
    "                if flag_not_boxcox:\n",
    "                    region_datas[i][\"{}_model\".format(column)] = model.predict(start=0, end=911)\n",
    "                else:\n",
    "                    region_datas[i][\"{}_model\".format(column)] = invboxcox(model.predict(start=0, end=911), lmbda)\n",
    "\n",
    "            if (i, column) == (1, 'spice') or (i, column) == (65, 'fruit'):\n",
    "                model = sm.tsa.statespace.SARIMAX(box, order=(p, d, 0), seasonal_order=(P, D, 2, 28)).fit(disp=-1)\n",
    "\n",
    "                if flag_not_boxcox:\n",
    "                    region_datas[i][\"{}_model\".format(column)] = model.predict(start=0, end=911)\n",
    "                else:\n",
    "                    region_datas[i][\"{}_model\".format(column)] = invboxcox(model.predict(start=0, end=911), lmbda)\n",
    "\n",
    "                region_datas[i][\"{}_model\".format(column)] = region_datas[i][\"{}_model\".format(column)].apply(lambda x: round(x * 1.03, 2))\n",
    "\n",
    "            if (i, column) == (2, 'spice') or (i, column) == (55, 'spice') or (i, column) == (28, 'chicken'):\n",
    "                model = sm.tsa.statespace.SARIMAX(box, exog=region_datas[i][['sin365_2', 'cos365_2', 'sin365_4', 'cos365_4']][:-91],\n",
    "                                               order=(p, d, 1), seasonal_order=(0, D, 0, 7)).fit(disp=-1)\n",
    "\n",
    "                if flag_not_boxcox:\n",
    "                    region_datas[i][\"{}_model\".format(column)] = model.predict(exog=region_datas[i][['sin365_2', 'cos365_2', 'sin365_4', 'cos365_4']][-91:],\n",
    "                                                                            start=0, end=911)\n",
    "                else:\n",
    "                    region_datas[i][\"{}_model\".format(column)] = invboxcox(model.predict(exog=region_datas[i][['sin365_2', 'cos365_2', 'sin365_4', 'cos365_4']][-91:],\n",
    "                                                                                      start=0, end=911), lmbda)\n",
    "            if (i, column) == (0, 'fruit'):\n",
    "                model = sm.tsa.statespace.SARIMAX(box, exog=region_datas[i][['sin365_2', 'cos365_2', 'sin365_4', 'cos365_4']][:-91],\n",
    "                                               order=(p, d, 1), seasonal_order=(0, D, 1, 7)).fit(disp=-1)\n",
    "\n",
    "                if flag_not_boxcox:\n",
    "                    region_datas[i][\"{}_model\".format(column)] = model.predict(exog=region_datas[i][['sin365_2', 'cos365_2', 'sin365_4', 'cos365_4']][-91:],\n",
    "                                                                            start=0, end=911)\n",
    "                else:\n",
    "                    region_datas[i][\"{}_model\".format(column)] = invboxcox(model.predict(exog=region_datas[i][['sin365_2', 'cos365_2', 'sin365_4', 'cos365_4']][-91:],\n",
    "                                                                                      start=0, end=911), lmbda)\n",
    "\n",
    "            if (i, column) == (40, 'ai98_value') or (i, column) == (49, 'dt_value') or (i, column) == (75, 'margarine') \\\n",
    "                    or (i, column) == (75, 'margarine_value'):\n",
    "                model = sm.tsa.statespace.SARIMAX(box, order=(p, d, 1), seasonal_order=(P, D, 0, 7)).fit(disp=-1)\n",
    "\n",
    "                if flag_not_boxcox:\n",
    "                    region_datas[i][\"{}_model\".format(column)] = model.predict(start=0, end=911)\n",
    "                else:\n",
    "                    region_datas[i][\"{}_model\".format(column)] = invboxcox(model.predict(start=0, end=911), lmbda)\n",
    "\n",
    "            if (i, column) == (43, 'fruit'):\n",
    "                region_datas[i][\"{}_model\".format(column)] = region_datas[i][\"{}_model\".format(column)].apply(lambda x: round(x * 0.96, 2))\n",
    "\n",
    "            if (i, column) == (52, 'oil')  or (i, column) == (61, 'fruit') or (i, column) == (76, 'cpi_3') or (i , column) == (84, 'vegetables'):\n",
    "                model = sm.tsa.statespace.SARIMAX(box, trend='t', order=(p, d, 1), seasonal_order=(P, D, 0, 7)).fit(disp=-1)\n",
    "\n",
    "                if flag_not_boxcox:\n",
    "                    region_datas[i][\"{}_model\".format(column)] = model.predict(start=0, end=911)\n",
    "                else:\n",
    "                    region_datas[i][\"{}_model\".format(column)] = invboxcox(model.predict(start=0, end=911), lmbda)\n",
    "\n",
    "            if (i, column) == (64, 'salt_value') or (i, column) == (65, 'ai98_value'):\n",
    "                model = sm.tsa.statespace.SARIMAX(box, order=(p, d, 1)).fit(disp=-1)\n",
    "\n",
    "                if flag_not_boxcox:\n",
    "                    region_datas[i][\"{}_model\".format(column)] = model.predict(start=0, end=911)\n",
    "                else:\n",
    "                    region_datas[i][\"{}_model\".format(column)] = invboxcox(model.predict(start=0, end=911), lmbda)\n",
    "\n",
    "            if (i, column) == (64, 'margarine'):\n",
    "                model = sm.tsa.statespace.SARIMAX(box, trend='t', order=(p, d, 1), seasonal_order=(P, D, 0, 7)).fit(disp=-1)\n",
    "\n",
    "                if flag_not_boxcox:\n",
    "                    region_datas[i][\"{}_model\".format(column)] = model.predict(start=0, end=911)\n",
    "                else:\n",
    "                    region_datas[i][\"{}_model\".format(column)] = invboxcox(model.predict(start=0, end=911), lmbda)\n",
    "\n",
    "            if (i, column) == (65, 'margarine')  or (i, column) == (1, 'biscuits'):\n",
    "                model = sm.tsa.statespace.SARIMAX(box, trend='ct', order=(p, d, 0), seasonal_order=(P, D, 1, 30)).fit(disp=-1)\n",
    "\n",
    "                if flag_not_boxcox:\n",
    "                    region_datas[i][\"{}_model\".format(column)] = model.predict(start=0, end=911)\n",
    "                else:\n",
    "                    region_datas[i][\"{}_model\".format(column)] = invboxcox(model.predict(start=0, end=911), lmbda)\n",
    "\n",
    "        with open('logs.txt', 'a') as out:\n",
    "            out.write(\"{}, {}\\n\".format(region_datas[i]['oktmo'][0], column))\n",
    "\n",
    "        #plt.figure(figsize(15,7))\n",
    "        #region_datas[i][column].plot()\n",
    "        #region_datas[i][\"{}_model\".format(column)][8:].plot(color='r')\n",
    "        #plt.ylabel(\"{}, {}\".format(region['oktmo'][0], column))\n",
    "        #pylab.show()\n",
    "\n",
    "warnings.filterwarnings('default')"
   ],
   "metadata": {
    "collapsed": false,
    "pycharm": {
     "name": "#%%\n"
    }
   }
  },
  {
   "cell_type": "code",
   "execution_count": 22,
   "outputs": [
    {
     "data": {
      "text/plain": "  0%|          | 0/85 [00:00<?, ?it/s]",
      "application/vnd.jupyter.widget-view+json": {
       "version_major": 2,
       "version_minor": 0,
       "model_id": "25408a7d2f4d4b78bc8a4df2afa054c8"
      }
     },
     "metadata": {},
     "output_type": "display_data"
    }
   ],
   "source": [
    "# saving pictures\n",
    "for i, region in tqdm(enumerate(region_datas), total=len(region_datas)):\n",
    "    for column in region.columns[1:76]:\n",
    "        plt.figure(figsize(15,7))\n",
    "        region_datas[i][column].plot()\n",
    "        region_datas[i][\"{}_model\".format(column)][8:].plot(color='r')\n",
    "        plt.ylabel(\"{}, {}\".format(region['oktmo'][0], column))\n",
    "        plt.savefig('./pictures_new/{}_{}'.format(i, column))\n",
    "        plt.close()    # close the figure window"
   ],
   "metadata": {
    "collapsed": false,
    "pycharm": {
     "name": "#%%\n"
    }
   }
  },
  {
   "cell_type": "code",
   "execution_count": 16,
   "outputs": [],
   "source": [
    "test = pd.read_csv('data/test.csv')\n",
    "test['date'] = test['date'].apply(lambda x: pd.to_datetime(x, dayfirst=True))\n",
    "test = test[['region', 'oktmo', 'okato', 'date']]\n",
    "test_prev = test"
   ],
   "metadata": {
    "collapsed": false,
    "pycharm": {
     "name": "#%%\n"
    }
   }
  },
  {
   "cell_type": "code",
   "execution_count": 17,
   "outputs": [],
   "source": [
    "columns = []\n",
    "for column in region_datas[0].columns:\n",
    "    if 'model' in column:\n",
    "        columns.append(column)"
   ],
   "metadata": {
    "collapsed": false,
    "pycharm": {
     "name": "#%%\n"
    }
   }
  },
  {
   "cell_type": "code",
   "execution_count": 18,
   "outputs": [
    {
     "name": "stderr",
     "output_type": "stream",
     "text": [
      "C:\\Users\\Strix\\AppData\\Local\\Temp/ipykernel_23080/1657717950.py:11: FutureWarning: The default value of regex will change from True to False in a future version.\n",
      "  result.columns = result.columns.str.replace('_model$', '')\n",
      "C:\\Users\\Strix\\AppData\\Local\\Temp/ipykernel_23080/1657717950.py:12: FutureWarning: The default value of regex will change from True to False in a future version.\n",
      "  result.columns = result.columns.str.replace('_x$', '')\n",
      "C:\\Users\\Strix\\AppData\\Local\\Temp/ipykernel_23080/1657717950.py:13: FutureWarning: The default value of regex will change from True to False in a future version.\n",
      "  result.columns = result.columns.str.replace('_y$', '')\n"
     ]
    }
   ],
   "source": [
    "for i in range(len(region_datas)):\n",
    "    region_datas[i]['oktmo'] = region_datas[i]['oktmo'][0]\n",
    "\n",
    "result = region_datas[0][-91:].copy()\n",
    "\n",
    "for region in region_datas[1:]:\n",
    "    result = pd.concat([result, region[-91:]])\n",
    "\n",
    "result = result[['oktmo']+ columns]\n",
    "result['date'] = result.index\n",
    "result.columns = result.columns.str.replace('_model$', '')\n",
    "result.columns = result.columns.str.replace('_x$', '')\n",
    "result.columns = result.columns.str.replace('_y$', '')\n",
    "\n",
    "for column in result.columns[1:-1]:\n",
    "    result[column] = result[column].replace([np.inf, -np.inf], np.nan).fillna(0).apply(lambda x: round(x, 2) if x > 0 else 0)\n",
    "\n",
    "result['oktmo'] = result['oktmo'].apply(int)"
   ],
   "metadata": {
    "collapsed": false,
    "pycharm": {
     "name": "#%%\n"
    }
   }
  },
  {
   "cell_type": "code",
   "execution_count": 19,
   "outputs": [],
   "source": [
    "for col in result.columns[4:]:\n",
    "    result[col] = result[col].apply(lambda x: round(x * 1.01, 2) if type(x) == float else x)"
   ],
   "metadata": {
    "collapsed": false,
    "pycharm": {
     "name": "#%%\n"
    }
   }
  },
  {
   "cell_type": "code",
   "execution_count": 20,
   "outputs": [],
   "source": [
    "test = test.merge(result, on=['date', 'oktmo'])"
   ],
   "metadata": {
    "collapsed": false,
    "pycharm": {
     "name": "#%%\n"
    }
   }
  },
  {
   "cell_type": "code",
   "execution_count": 115,
   "outputs": [
    {
     "data": {
      "text/plain": "False"
     },
     "execution_count": 115,
     "metadata": {},
     "output_type": "execute_result"
    }
   ],
   "source": [
    "test['oktmo'].isnull().any().any()"
   ],
   "metadata": {
    "collapsed": false,
    "pycharm": {
     "name": "#%%\n"
    }
   }
  },
  {
   "cell_type": "code",
   "execution_count": 21,
   "outputs": [],
   "source": [
    "test.to_csv('data/submission_final.csv', index=False)"
   ],
   "metadata": {
    "collapsed": false,
    "pycharm": {
     "name": "#%%\n"
    }
   }
  }
 ],
 "metadata": {
  "kernelspec": {
   "display_name": "Python 3",
   "language": "python",
   "name": "python3"
  },
  "language_info": {
   "codemirror_mode": {
    "name": "ipython",
    "version": 2
   },
   "file_extension": ".py",
   "mimetype": "text/x-python",
   "name": "python",
   "nbconvert_exporter": "python",
   "pygments_lexer": "ipython2",
   "version": "2.7.6"
  }
 },
 "nbformat": 4,
 "nbformat_minor": 0
}
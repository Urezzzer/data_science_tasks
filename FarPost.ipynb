{
  "nbformat": 4,
  "nbformat_minor": 0,
  "metadata": {
    "kernelspec": {
      "display_name": "Python 3",
      "language": "python",
      "name": "python3"
    },
    "language_info": {
      "codemirror_mode": {
        "name": "ipython",
        "version": 3
      },
      "file_extension": ".py",
      "mimetype": "text/x-python",
      "name": "python",
      "nbconvert_exporter": "python",
      "pygments_lexer": "ipython3",
      "version": "3.7.9"
    },
    "colab": {
      "name": "FarPost",
      "provenance": [],
      "collapsed_sections": [
        "Jmao9K_J6_Vr"
      ]
    },
    "widgets": {
      "application/vnd.jupyter.widget-state+json": {
        "c3e0aae951c74beb87d7bb91bc8b8614": {
          "model_module": "@jupyter-widgets/controls",
          "model_name": "HBoxModel",
          "model_module_version": "1.5.0",
          "state": {
            "_view_name": "HBoxView",
            "_dom_classes": [],
            "_model_name": "HBoxModel",
            "_view_module": "@jupyter-widgets/controls",
            "_model_module_version": "1.5.0",
            "_view_count": null,
            "_view_module_version": "1.5.0",
            "box_style": "",
            "layout": "IPY_MODEL_5689029350834468b983990a88dd4fce",
            "_model_module": "@jupyter-widgets/controls",
            "children": [
              "IPY_MODEL_f7cd05a6e4604629a89c751b3001b387",
              "IPY_MODEL_9adee3e925f540ffbcc0d72e0a52e846",
              "IPY_MODEL_de37001a13a842b8a4cf6fdc667f01b8"
            ]
          }
        },
        "5689029350834468b983990a88dd4fce": {
          "model_module": "@jupyter-widgets/base",
          "model_name": "LayoutModel",
          "model_module_version": "1.2.0",
          "state": {
            "_view_name": "LayoutView",
            "grid_template_rows": null,
            "right": null,
            "justify_content": null,
            "_view_module": "@jupyter-widgets/base",
            "overflow": null,
            "_model_module_version": "1.2.0",
            "_view_count": null,
            "flex_flow": null,
            "width": null,
            "min_width": null,
            "border": null,
            "align_items": null,
            "bottom": null,
            "_model_module": "@jupyter-widgets/base",
            "top": null,
            "grid_column": null,
            "overflow_y": null,
            "overflow_x": null,
            "grid_auto_flow": null,
            "grid_area": null,
            "grid_template_columns": null,
            "flex": null,
            "_model_name": "LayoutModel",
            "justify_items": null,
            "grid_row": null,
            "max_height": null,
            "align_content": null,
            "visibility": null,
            "align_self": null,
            "height": null,
            "min_height": null,
            "padding": null,
            "grid_auto_rows": null,
            "grid_gap": null,
            "max_width": null,
            "order": null,
            "_view_module_version": "1.2.0",
            "grid_template_areas": null,
            "object_position": null,
            "object_fit": null,
            "grid_auto_columns": null,
            "margin": null,
            "display": null,
            "left": null
          }
        },
        "f7cd05a6e4604629a89c751b3001b387": {
          "model_module": "@jupyter-widgets/controls",
          "model_name": "HTMLModel",
          "model_module_version": "1.5.0",
          "state": {
            "_view_name": "HTMLView",
            "style": "IPY_MODEL_911b64f3ca5d4d0a91205df8e53ecc8a",
            "_dom_classes": [],
            "description": "",
            "_model_name": "HTMLModel",
            "placeholder": "​",
            "_view_module": "@jupyter-widgets/controls",
            "_model_module_version": "1.5.0",
            "value": "Dask Apply: 100%",
            "_view_count": null,
            "_view_module_version": "1.5.0",
            "description_tooltip": null,
            "_model_module": "@jupyter-widgets/controls",
            "layout": "IPY_MODEL_25148e6504d8438582d87ac878daab21"
          }
        },
        "9adee3e925f540ffbcc0d72e0a52e846": {
          "model_module": "@jupyter-widgets/controls",
          "model_name": "FloatProgressModel",
          "model_module_version": "1.5.0",
          "state": {
            "_view_name": "ProgressView",
            "style": "IPY_MODEL_63442ef5202840f6a6974066de249d89",
            "_dom_classes": [],
            "description": "",
            "_model_name": "FloatProgressModel",
            "bar_style": "success",
            "max": 4,
            "_view_module": "@jupyter-widgets/controls",
            "_model_module_version": "1.5.0",
            "value": 4,
            "_view_count": null,
            "_view_module_version": "1.5.0",
            "orientation": "horizontal",
            "min": 0,
            "description_tooltip": null,
            "_model_module": "@jupyter-widgets/controls",
            "layout": "IPY_MODEL_b0448eeafce24b1cbbed8c7ee202291a"
          }
        },
        "de37001a13a842b8a4cf6fdc667f01b8": {
          "model_module": "@jupyter-widgets/controls",
          "model_name": "HTMLModel",
          "model_module_version": "1.5.0",
          "state": {
            "_view_name": "HTMLView",
            "style": "IPY_MODEL_5221134b39b048f9ae858cbc9625df4a",
            "_dom_classes": [],
            "description": "",
            "_model_name": "HTMLModel",
            "placeholder": "​",
            "_view_module": "@jupyter-widgets/controls",
            "_model_module_version": "1.5.0",
            "value": " 4/4 [30:29&lt;00:00, 377.11s/it]",
            "_view_count": null,
            "_view_module_version": "1.5.0",
            "description_tooltip": null,
            "_model_module": "@jupyter-widgets/controls",
            "layout": "IPY_MODEL_53bbe269d2bb4f2c8eb76c8f240b15d5"
          }
        },
        "911b64f3ca5d4d0a91205df8e53ecc8a": {
          "model_module": "@jupyter-widgets/controls",
          "model_name": "DescriptionStyleModel",
          "model_module_version": "1.5.0",
          "state": {
            "_view_name": "StyleView",
            "_model_name": "DescriptionStyleModel",
            "description_width": "",
            "_view_module": "@jupyter-widgets/base",
            "_model_module_version": "1.5.0",
            "_view_count": null,
            "_view_module_version": "1.2.0",
            "_model_module": "@jupyter-widgets/controls"
          }
        },
        "25148e6504d8438582d87ac878daab21": {
          "model_module": "@jupyter-widgets/base",
          "model_name": "LayoutModel",
          "model_module_version": "1.2.0",
          "state": {
            "_view_name": "LayoutView",
            "grid_template_rows": null,
            "right": null,
            "justify_content": null,
            "_view_module": "@jupyter-widgets/base",
            "overflow": null,
            "_model_module_version": "1.2.0",
            "_view_count": null,
            "flex_flow": null,
            "width": null,
            "min_width": null,
            "border": null,
            "align_items": null,
            "bottom": null,
            "_model_module": "@jupyter-widgets/base",
            "top": null,
            "grid_column": null,
            "overflow_y": null,
            "overflow_x": null,
            "grid_auto_flow": null,
            "grid_area": null,
            "grid_template_columns": null,
            "flex": null,
            "_model_name": "LayoutModel",
            "justify_items": null,
            "grid_row": null,
            "max_height": null,
            "align_content": null,
            "visibility": null,
            "align_self": null,
            "height": null,
            "min_height": null,
            "padding": null,
            "grid_auto_rows": null,
            "grid_gap": null,
            "max_width": null,
            "order": null,
            "_view_module_version": "1.2.0",
            "grid_template_areas": null,
            "object_position": null,
            "object_fit": null,
            "grid_auto_columns": null,
            "margin": null,
            "display": null,
            "left": null
          }
        },
        "63442ef5202840f6a6974066de249d89": {
          "model_module": "@jupyter-widgets/controls",
          "model_name": "ProgressStyleModel",
          "model_module_version": "1.5.0",
          "state": {
            "_view_name": "StyleView",
            "_model_name": "ProgressStyleModel",
            "description_width": "",
            "_view_module": "@jupyter-widgets/base",
            "_model_module_version": "1.5.0",
            "_view_count": null,
            "_view_module_version": "1.2.0",
            "bar_color": null,
            "_model_module": "@jupyter-widgets/controls"
          }
        },
        "b0448eeafce24b1cbbed8c7ee202291a": {
          "model_module": "@jupyter-widgets/base",
          "model_name": "LayoutModel",
          "model_module_version": "1.2.0",
          "state": {
            "_view_name": "LayoutView",
            "grid_template_rows": null,
            "right": null,
            "justify_content": null,
            "_view_module": "@jupyter-widgets/base",
            "overflow": null,
            "_model_module_version": "1.2.0",
            "_view_count": null,
            "flex_flow": null,
            "width": null,
            "min_width": null,
            "border": null,
            "align_items": null,
            "bottom": null,
            "_model_module": "@jupyter-widgets/base",
            "top": null,
            "grid_column": null,
            "overflow_y": null,
            "overflow_x": null,
            "grid_auto_flow": null,
            "grid_area": null,
            "grid_template_columns": null,
            "flex": null,
            "_model_name": "LayoutModel",
            "justify_items": null,
            "grid_row": null,
            "max_height": null,
            "align_content": null,
            "visibility": null,
            "align_self": null,
            "height": null,
            "min_height": null,
            "padding": null,
            "grid_auto_rows": null,
            "grid_gap": null,
            "max_width": null,
            "order": null,
            "_view_module_version": "1.2.0",
            "grid_template_areas": null,
            "object_position": null,
            "object_fit": null,
            "grid_auto_columns": null,
            "margin": null,
            "display": null,
            "left": null
          }
        },
        "5221134b39b048f9ae858cbc9625df4a": {
          "model_module": "@jupyter-widgets/controls",
          "model_name": "DescriptionStyleModel",
          "model_module_version": "1.5.0",
          "state": {
            "_view_name": "StyleView",
            "_model_name": "DescriptionStyleModel",
            "description_width": "",
            "_view_module": "@jupyter-widgets/base",
            "_model_module_version": "1.5.0",
            "_view_count": null,
            "_view_module_version": "1.2.0",
            "_model_module": "@jupyter-widgets/controls"
          }
        },
        "53bbe269d2bb4f2c8eb76c8f240b15d5": {
          "model_module": "@jupyter-widgets/base",
          "model_name": "LayoutModel",
          "model_module_version": "1.2.0",
          "state": {
            "_view_name": "LayoutView",
            "grid_template_rows": null,
            "right": null,
            "justify_content": null,
            "_view_module": "@jupyter-widgets/base",
            "overflow": null,
            "_model_module_version": "1.2.0",
            "_view_count": null,
            "flex_flow": null,
            "width": null,
            "min_width": null,
            "border": null,
            "align_items": null,
            "bottom": null,
            "_model_module": "@jupyter-widgets/base",
            "top": null,
            "grid_column": null,
            "overflow_y": null,
            "overflow_x": null,
            "grid_auto_flow": null,
            "grid_area": null,
            "grid_template_columns": null,
            "flex": null,
            "_model_name": "LayoutModel",
            "justify_items": null,
            "grid_row": null,
            "max_height": null,
            "align_content": null,
            "visibility": null,
            "align_self": null,
            "height": null,
            "min_height": null,
            "padding": null,
            "grid_auto_rows": null,
            "grid_gap": null,
            "max_width": null,
            "order": null,
            "_view_module_version": "1.2.0",
            "grid_template_areas": null,
            "object_position": null,
            "object_fit": null,
            "grid_auto_columns": null,
            "margin": null,
            "display": null,
            "left": null
          }
        },
        "b5fcb1609a5741bdbdd8039ea4c27c85": {
          "model_module": "@jupyter-widgets/controls",
          "model_name": "HBoxModel",
          "model_module_version": "1.5.0",
          "state": {
            "_view_name": "HBoxView",
            "_dom_classes": [],
            "_model_name": "HBoxModel",
            "_view_module": "@jupyter-widgets/controls",
            "_model_module_version": "1.5.0",
            "_view_count": null,
            "_view_module_version": "1.5.0",
            "box_style": "",
            "layout": "IPY_MODEL_d4d0e32a043e46a3a68dd77a9c6d101f",
            "_model_module": "@jupyter-widgets/controls",
            "children": [
              "IPY_MODEL_1d212082ace841be917a020b4b330009",
              "IPY_MODEL_7625f71a4fc84df69efadebaa216ae3f",
              "IPY_MODEL_25605dcaf795448b94e61e2dd70089f8"
            ]
          }
        },
        "d4d0e32a043e46a3a68dd77a9c6d101f": {
          "model_module": "@jupyter-widgets/base",
          "model_name": "LayoutModel",
          "model_module_version": "1.2.0",
          "state": {
            "_view_name": "LayoutView",
            "grid_template_rows": null,
            "right": null,
            "justify_content": null,
            "_view_module": "@jupyter-widgets/base",
            "overflow": null,
            "_model_module_version": "1.2.0",
            "_view_count": null,
            "flex_flow": null,
            "width": null,
            "min_width": null,
            "border": null,
            "align_items": null,
            "bottom": null,
            "_model_module": "@jupyter-widgets/base",
            "top": null,
            "grid_column": null,
            "overflow_y": null,
            "overflow_x": null,
            "grid_auto_flow": null,
            "grid_area": null,
            "grid_template_columns": null,
            "flex": null,
            "_model_name": "LayoutModel",
            "justify_items": null,
            "grid_row": null,
            "max_height": null,
            "align_content": null,
            "visibility": null,
            "align_self": null,
            "height": null,
            "min_height": null,
            "padding": null,
            "grid_auto_rows": null,
            "grid_gap": null,
            "max_width": null,
            "order": null,
            "_view_module_version": "1.2.0",
            "grid_template_areas": null,
            "object_position": null,
            "object_fit": null,
            "grid_auto_columns": null,
            "margin": null,
            "display": null,
            "left": null
          }
        },
        "1d212082ace841be917a020b4b330009": {
          "model_module": "@jupyter-widgets/controls",
          "model_name": "HTMLModel",
          "model_module_version": "1.5.0",
          "state": {
            "_view_name": "HTMLView",
            "style": "IPY_MODEL_889a0bd26eaa4e378c47dd46a8c9230f",
            "_dom_classes": [],
            "description": "",
            "_model_name": "HTMLModel",
            "placeholder": "​",
            "_view_module": "@jupyter-widgets/controls",
            "_model_module_version": "1.5.0",
            "value": "Dask Apply: 100%",
            "_view_count": null,
            "_view_module_version": "1.5.0",
            "description_tooltip": null,
            "_model_module": "@jupyter-widgets/controls",
            "layout": "IPY_MODEL_5fc8c2e9586f46d694a298e39ef18857"
          }
        },
        "7625f71a4fc84df69efadebaa216ae3f": {
          "model_module": "@jupyter-widgets/controls",
          "model_name": "FloatProgressModel",
          "model_module_version": "1.5.0",
          "state": {
            "_view_name": "ProgressView",
            "style": "IPY_MODEL_91d58179bded434580639cb21c262347",
            "_dom_classes": [],
            "description": "",
            "_model_name": "FloatProgressModel",
            "bar_style": "success",
            "max": 4,
            "_view_module": "@jupyter-widgets/controls",
            "_model_module_version": "1.5.0",
            "value": 4,
            "_view_count": null,
            "_view_module_version": "1.5.0",
            "orientation": "horizontal",
            "min": 0,
            "description_tooltip": null,
            "_model_module": "@jupyter-widgets/controls",
            "layout": "IPY_MODEL_145392200d1844f8889c3608c8eda22f"
          }
        },
        "25605dcaf795448b94e61e2dd70089f8": {
          "model_module": "@jupyter-widgets/controls",
          "model_name": "HTMLModel",
          "model_module_version": "1.5.0",
          "state": {
            "_view_name": "HTMLView",
            "style": "IPY_MODEL_3289ad5e717c42388c1c06515de9e270",
            "_dom_classes": [],
            "description": "",
            "_model_name": "HTMLModel",
            "placeholder": "​",
            "_view_module": "@jupyter-widgets/controls",
            "_model_module_version": "1.5.0",
            "value": " 4/4 [01:47&lt;00:00, 22.22s/it]",
            "_view_count": null,
            "_view_module_version": "1.5.0",
            "description_tooltip": null,
            "_model_module": "@jupyter-widgets/controls",
            "layout": "IPY_MODEL_37ed3efedbd14b379201c62d6d1a85f9"
          }
        },
        "889a0bd26eaa4e378c47dd46a8c9230f": {
          "model_module": "@jupyter-widgets/controls",
          "model_name": "DescriptionStyleModel",
          "model_module_version": "1.5.0",
          "state": {
            "_view_name": "StyleView",
            "_model_name": "DescriptionStyleModel",
            "description_width": "",
            "_view_module": "@jupyter-widgets/base",
            "_model_module_version": "1.5.0",
            "_view_count": null,
            "_view_module_version": "1.2.0",
            "_model_module": "@jupyter-widgets/controls"
          }
        },
        "5fc8c2e9586f46d694a298e39ef18857": {
          "model_module": "@jupyter-widgets/base",
          "model_name": "LayoutModel",
          "model_module_version": "1.2.0",
          "state": {
            "_view_name": "LayoutView",
            "grid_template_rows": null,
            "right": null,
            "justify_content": null,
            "_view_module": "@jupyter-widgets/base",
            "overflow": null,
            "_model_module_version": "1.2.0",
            "_view_count": null,
            "flex_flow": null,
            "width": null,
            "min_width": null,
            "border": null,
            "align_items": null,
            "bottom": null,
            "_model_module": "@jupyter-widgets/base",
            "top": null,
            "grid_column": null,
            "overflow_y": null,
            "overflow_x": null,
            "grid_auto_flow": null,
            "grid_area": null,
            "grid_template_columns": null,
            "flex": null,
            "_model_name": "LayoutModel",
            "justify_items": null,
            "grid_row": null,
            "max_height": null,
            "align_content": null,
            "visibility": null,
            "align_self": null,
            "height": null,
            "min_height": null,
            "padding": null,
            "grid_auto_rows": null,
            "grid_gap": null,
            "max_width": null,
            "order": null,
            "_view_module_version": "1.2.0",
            "grid_template_areas": null,
            "object_position": null,
            "object_fit": null,
            "grid_auto_columns": null,
            "margin": null,
            "display": null,
            "left": null
          }
        },
        "91d58179bded434580639cb21c262347": {
          "model_module": "@jupyter-widgets/controls",
          "model_name": "ProgressStyleModel",
          "model_module_version": "1.5.0",
          "state": {
            "_view_name": "StyleView",
            "_model_name": "ProgressStyleModel",
            "description_width": "",
            "_view_module": "@jupyter-widgets/base",
            "_model_module_version": "1.5.0",
            "_view_count": null,
            "_view_module_version": "1.2.0",
            "bar_color": null,
            "_model_module": "@jupyter-widgets/controls"
          }
        },
        "145392200d1844f8889c3608c8eda22f": {
          "model_module": "@jupyter-widgets/base",
          "model_name": "LayoutModel",
          "model_module_version": "1.2.0",
          "state": {
            "_view_name": "LayoutView",
            "grid_template_rows": null,
            "right": null,
            "justify_content": null,
            "_view_module": "@jupyter-widgets/base",
            "overflow": null,
            "_model_module_version": "1.2.0",
            "_view_count": null,
            "flex_flow": null,
            "width": null,
            "min_width": null,
            "border": null,
            "align_items": null,
            "bottom": null,
            "_model_module": "@jupyter-widgets/base",
            "top": null,
            "grid_column": null,
            "overflow_y": null,
            "overflow_x": null,
            "grid_auto_flow": null,
            "grid_area": null,
            "grid_template_columns": null,
            "flex": null,
            "_model_name": "LayoutModel",
            "justify_items": null,
            "grid_row": null,
            "max_height": null,
            "align_content": null,
            "visibility": null,
            "align_self": null,
            "height": null,
            "min_height": null,
            "padding": null,
            "grid_auto_rows": null,
            "grid_gap": null,
            "max_width": null,
            "order": null,
            "_view_module_version": "1.2.0",
            "grid_template_areas": null,
            "object_position": null,
            "object_fit": null,
            "grid_auto_columns": null,
            "margin": null,
            "display": null,
            "left": null
          }
        },
        "3289ad5e717c42388c1c06515de9e270": {
          "model_module": "@jupyter-widgets/controls",
          "model_name": "DescriptionStyleModel",
          "model_module_version": "1.5.0",
          "state": {
            "_view_name": "StyleView",
            "_model_name": "DescriptionStyleModel",
            "description_width": "",
            "_view_module": "@jupyter-widgets/base",
            "_model_module_version": "1.5.0",
            "_view_count": null,
            "_view_module_version": "1.2.0",
            "_model_module": "@jupyter-widgets/controls"
          }
        },
        "37ed3efedbd14b379201c62d6d1a85f9": {
          "model_module": "@jupyter-widgets/base",
          "model_name": "LayoutModel",
          "model_module_version": "1.2.0",
          "state": {
            "_view_name": "LayoutView",
            "grid_template_rows": null,
            "right": null,
            "justify_content": null,
            "_view_module": "@jupyter-widgets/base",
            "overflow": null,
            "_model_module_version": "1.2.0",
            "_view_count": null,
            "flex_flow": null,
            "width": null,
            "min_width": null,
            "border": null,
            "align_items": null,
            "bottom": null,
            "_model_module": "@jupyter-widgets/base",
            "top": null,
            "grid_column": null,
            "overflow_y": null,
            "overflow_x": null,
            "grid_auto_flow": null,
            "grid_area": null,
            "grid_template_columns": null,
            "flex": null,
            "_model_name": "LayoutModel",
            "justify_items": null,
            "grid_row": null,
            "max_height": null,
            "align_content": null,
            "visibility": null,
            "align_self": null,
            "height": null,
            "min_height": null,
            "padding": null,
            "grid_auto_rows": null,
            "grid_gap": null,
            "max_width": null,
            "order": null,
            "_view_module_version": "1.2.0",
            "grid_template_areas": null,
            "object_position": null,
            "object_fit": null,
            "grid_auto_columns": null,
            "margin": null,
            "display": null,
            "left": null
          }
        },
        "c3c248c8b47c4182958613461cccea3c": {
          "model_module": "@jupyter-widgets/controls",
          "model_name": "HBoxModel",
          "model_module_version": "1.5.0",
          "state": {
            "_view_name": "HBoxView",
            "_dom_classes": [],
            "_model_name": "HBoxModel",
            "_view_module": "@jupyter-widgets/controls",
            "_model_module_version": "1.5.0",
            "_view_count": null,
            "_view_module_version": "1.5.0",
            "box_style": "",
            "layout": "IPY_MODEL_b36a08e05596496fa7e8e0bb7f61c922",
            "_model_module": "@jupyter-widgets/controls",
            "children": [
              "IPY_MODEL_7beaf3a11b544ffb8699e0ab0bab5686",
              "IPY_MODEL_014f0ced71bc40cf9bfb4aa3308b8eea",
              "IPY_MODEL_608f49ec444b44c0a116fe002d2554df"
            ]
          }
        },
        "b36a08e05596496fa7e8e0bb7f61c922": {
          "model_module": "@jupyter-widgets/base",
          "model_name": "LayoutModel",
          "model_module_version": "1.2.0",
          "state": {
            "_view_name": "LayoutView",
            "grid_template_rows": null,
            "right": null,
            "justify_content": null,
            "_view_module": "@jupyter-widgets/base",
            "overflow": null,
            "_model_module_version": "1.2.0",
            "_view_count": null,
            "flex_flow": null,
            "width": null,
            "min_width": null,
            "border": null,
            "align_items": null,
            "bottom": null,
            "_model_module": "@jupyter-widgets/base",
            "top": null,
            "grid_column": null,
            "overflow_y": null,
            "overflow_x": null,
            "grid_auto_flow": null,
            "grid_area": null,
            "grid_template_columns": null,
            "flex": null,
            "_model_name": "LayoutModel",
            "justify_items": null,
            "grid_row": null,
            "max_height": null,
            "align_content": null,
            "visibility": null,
            "align_self": null,
            "height": null,
            "min_height": null,
            "padding": null,
            "grid_auto_rows": null,
            "grid_gap": null,
            "max_width": null,
            "order": null,
            "_view_module_version": "1.2.0",
            "grid_template_areas": null,
            "object_position": null,
            "object_fit": null,
            "grid_auto_columns": null,
            "margin": null,
            "display": null,
            "left": null
          }
        },
        "7beaf3a11b544ffb8699e0ab0bab5686": {
          "model_module": "@jupyter-widgets/controls",
          "model_name": "HTMLModel",
          "model_module_version": "1.5.0",
          "state": {
            "_view_name": "HTMLView",
            "style": "IPY_MODEL_590248be95934064a792db2ded4d55ee",
            "_dom_classes": [],
            "description": "",
            "_model_name": "HTMLModel",
            "placeholder": "​",
            "_view_module": "@jupyter-widgets/controls",
            "_model_module_version": "1.5.0",
            "value": "100%",
            "_view_count": null,
            "_view_module_version": "1.5.0",
            "description_tooltip": null,
            "_model_module": "@jupyter-widgets/controls",
            "layout": "IPY_MODEL_8b53346d2f6843b58d90433278a37b49"
          }
        },
        "014f0ced71bc40cf9bfb4aa3308b8eea": {
          "model_module": "@jupyter-widgets/controls",
          "model_name": "FloatProgressModel",
          "model_module_version": "1.5.0",
          "state": {
            "_view_name": "ProgressView",
            "style": "IPY_MODEL_a21f9a9e178348698a32d1bb8030407c",
            "_dom_classes": [],
            "description": "",
            "_model_name": "FloatProgressModel",
            "bar_style": "success",
            "max": 32686,
            "_view_module": "@jupyter-widgets/controls",
            "_model_module_version": "1.5.0",
            "value": 32686,
            "_view_count": null,
            "_view_module_version": "1.5.0",
            "orientation": "horizontal",
            "min": 0,
            "description_tooltip": null,
            "_model_module": "@jupyter-widgets/controls",
            "layout": "IPY_MODEL_513a0c0617a24e5c8723345cd38ba49d"
          }
        },
        "608f49ec444b44c0a116fe002d2554df": {
          "model_module": "@jupyter-widgets/controls",
          "model_name": "HTMLModel",
          "model_module_version": "1.5.0",
          "state": {
            "_view_name": "HTMLView",
            "style": "IPY_MODEL_3c34a4a7908847eda82dd6ce02f9dddc",
            "_dom_classes": [],
            "description": "",
            "_model_name": "HTMLModel",
            "placeholder": "​",
            "_view_module": "@jupyter-widgets/controls",
            "_model_module_version": "1.5.0",
            "value": " 32686/32686 [02:00&lt;00:00, 311.68it/s]",
            "_view_count": null,
            "_view_module_version": "1.5.0",
            "description_tooltip": null,
            "_model_module": "@jupyter-widgets/controls",
            "layout": "IPY_MODEL_7af405dea13d46ea8169cbbc705b1d33"
          }
        },
        "590248be95934064a792db2ded4d55ee": {
          "model_module": "@jupyter-widgets/controls",
          "model_name": "DescriptionStyleModel",
          "model_module_version": "1.5.0",
          "state": {
            "_view_name": "StyleView",
            "_model_name": "DescriptionStyleModel",
            "description_width": "",
            "_view_module": "@jupyter-widgets/base",
            "_model_module_version": "1.5.0",
            "_view_count": null,
            "_view_module_version": "1.2.0",
            "_model_module": "@jupyter-widgets/controls"
          }
        },
        "8b53346d2f6843b58d90433278a37b49": {
          "model_module": "@jupyter-widgets/base",
          "model_name": "LayoutModel",
          "model_module_version": "1.2.0",
          "state": {
            "_view_name": "LayoutView",
            "grid_template_rows": null,
            "right": null,
            "justify_content": null,
            "_view_module": "@jupyter-widgets/base",
            "overflow": null,
            "_model_module_version": "1.2.0",
            "_view_count": null,
            "flex_flow": null,
            "width": null,
            "min_width": null,
            "border": null,
            "align_items": null,
            "bottom": null,
            "_model_module": "@jupyter-widgets/base",
            "top": null,
            "grid_column": null,
            "overflow_y": null,
            "overflow_x": null,
            "grid_auto_flow": null,
            "grid_area": null,
            "grid_template_columns": null,
            "flex": null,
            "_model_name": "LayoutModel",
            "justify_items": null,
            "grid_row": null,
            "max_height": null,
            "align_content": null,
            "visibility": null,
            "align_self": null,
            "height": null,
            "min_height": null,
            "padding": null,
            "grid_auto_rows": null,
            "grid_gap": null,
            "max_width": null,
            "order": null,
            "_view_module_version": "1.2.0",
            "grid_template_areas": null,
            "object_position": null,
            "object_fit": null,
            "grid_auto_columns": null,
            "margin": null,
            "display": null,
            "left": null
          }
        },
        "a21f9a9e178348698a32d1bb8030407c": {
          "model_module": "@jupyter-widgets/controls",
          "model_name": "ProgressStyleModel",
          "model_module_version": "1.5.0",
          "state": {
            "_view_name": "StyleView",
            "_model_name": "ProgressStyleModel",
            "description_width": "",
            "_view_module": "@jupyter-widgets/base",
            "_model_module_version": "1.5.0",
            "_view_count": null,
            "_view_module_version": "1.2.0",
            "bar_color": null,
            "_model_module": "@jupyter-widgets/controls"
          }
        },
        "513a0c0617a24e5c8723345cd38ba49d": {
          "model_module": "@jupyter-widgets/base",
          "model_name": "LayoutModel",
          "model_module_version": "1.2.0",
          "state": {
            "_view_name": "LayoutView",
            "grid_template_rows": null,
            "right": null,
            "justify_content": null,
            "_view_module": "@jupyter-widgets/base",
            "overflow": null,
            "_model_module_version": "1.2.0",
            "_view_count": null,
            "flex_flow": null,
            "width": null,
            "min_width": null,
            "border": null,
            "align_items": null,
            "bottom": null,
            "_model_module": "@jupyter-widgets/base",
            "top": null,
            "grid_column": null,
            "overflow_y": null,
            "overflow_x": null,
            "grid_auto_flow": null,
            "grid_area": null,
            "grid_template_columns": null,
            "flex": null,
            "_model_name": "LayoutModel",
            "justify_items": null,
            "grid_row": null,
            "max_height": null,
            "align_content": null,
            "visibility": null,
            "align_self": null,
            "height": null,
            "min_height": null,
            "padding": null,
            "grid_auto_rows": null,
            "grid_gap": null,
            "max_width": null,
            "order": null,
            "_view_module_version": "1.2.0",
            "grid_template_areas": null,
            "object_position": null,
            "object_fit": null,
            "grid_auto_columns": null,
            "margin": null,
            "display": null,
            "left": null
          }
        },
        "3c34a4a7908847eda82dd6ce02f9dddc": {
          "model_module": "@jupyter-widgets/controls",
          "model_name": "DescriptionStyleModel",
          "model_module_version": "1.5.0",
          "state": {
            "_view_name": "StyleView",
            "_model_name": "DescriptionStyleModel",
            "description_width": "",
            "_view_module": "@jupyter-widgets/base",
            "_model_module_version": "1.5.0",
            "_view_count": null,
            "_view_module_version": "1.2.0",
            "_model_module": "@jupyter-widgets/controls"
          }
        },
        "7af405dea13d46ea8169cbbc705b1d33": {
          "model_module": "@jupyter-widgets/base",
          "model_name": "LayoutModel",
          "model_module_version": "1.2.0",
          "state": {
            "_view_name": "LayoutView",
            "grid_template_rows": null,
            "right": null,
            "justify_content": null,
            "_view_module": "@jupyter-widgets/base",
            "overflow": null,
            "_model_module_version": "1.2.0",
            "_view_count": null,
            "flex_flow": null,
            "width": null,
            "min_width": null,
            "border": null,
            "align_items": null,
            "bottom": null,
            "_model_module": "@jupyter-widgets/base",
            "top": null,
            "grid_column": null,
            "overflow_y": null,
            "overflow_x": null,
            "grid_auto_flow": null,
            "grid_area": null,
            "grid_template_columns": null,
            "flex": null,
            "_model_name": "LayoutModel",
            "justify_items": null,
            "grid_row": null,
            "max_height": null,
            "align_content": null,
            "visibility": null,
            "align_self": null,
            "height": null,
            "min_height": null,
            "padding": null,
            "grid_auto_rows": null,
            "grid_gap": null,
            "max_width": null,
            "order": null,
            "_view_module_version": "1.2.0",
            "grid_template_areas": null,
            "object_position": null,
            "object_fit": null,
            "grid_auto_columns": null,
            "margin": null,
            "display": null,
            "left": null
          }
        }
      }
    }
  },
  "cells": [
    {
      "cell_type": "markdown",
      "metadata": {
        "id": "3lyuqEOa60N4"
      },
      "source": [
        "## Import libraries"
      ]
    },
    {
      "cell_type": "code",
      "metadata": {
        "id": "Fd7jEDOLyzwu",
        "colab": {
          "base_uri": "https://localhost:8080/"
        },
        "outputId": "642b9f0a-5d25-41e1-f7fe-d241f146e0a9"
      },
      "source": [
        "!pip install torchtext==0.9.1\n",
        "!pip install natasha\n",
        "!pip install swifter\n",
        "!wget https://storage.yandexcloud.net/natasha-navec/packs/navec_hudlit_v1_12B_500K_300d_100q.tar"
      ],
      "execution_count": null,
      "outputs": [
        {
          "output_type": "stream",
          "name": "stdout",
          "text": [
            "Collecting torchtext==0.9.1\n",
            "  Using cached torchtext-0.9.1-cp37-cp37m-manylinux1_x86_64.whl (7.1 MB)\n",
            "Collecting torch==1.8.1\n",
            "  Downloading torch-1.8.1-cp37-cp37m-manylinux1_x86_64.whl (804.1 MB)\n",
            "\u001b[K     |████████████████████████████████| 804.1 MB 3.2 kB/s \n",
            "\u001b[?25hRequirement already satisfied: requests in /usr/local/lib/python3.7/dist-packages (from torchtext==0.9.1) (2.23.0)\n",
            "Requirement already satisfied: numpy in /usr/local/lib/python3.7/dist-packages (from torchtext==0.9.1) (1.19.5)\n",
            "Requirement already satisfied: tqdm in /usr/local/lib/python3.7/dist-packages (from torchtext==0.9.1) (4.62.3)\n",
            "Requirement already satisfied: typing-extensions in /usr/local/lib/python3.7/dist-packages (from torch==1.8.1->torchtext==0.9.1) (3.10.0.2)\n",
            "Requirement already satisfied: idna<3,>=2.5 in /usr/local/lib/python3.7/dist-packages (from requests->torchtext==0.9.1) (2.10)\n",
            "Requirement already satisfied: certifi>=2017.4.17 in /usr/local/lib/python3.7/dist-packages (from requests->torchtext==0.9.1) (2021.10.8)\n",
            "Requirement already satisfied: urllib3!=1.25.0,!=1.25.1,<1.26,>=1.21.1 in /usr/local/lib/python3.7/dist-packages (from requests->torchtext==0.9.1) (1.24.3)\n",
            "Requirement already satisfied: chardet<4,>=3.0.2 in /usr/local/lib/python3.7/dist-packages (from requests->torchtext==0.9.1) (3.0.4)\n",
            "Installing collected packages: torch, torchtext\n",
            "  Attempting uninstall: torch\n",
            "    Found existing installation: torch 1.10.0+cu111\n",
            "    Uninstalling torch-1.10.0+cu111:\n",
            "      Successfully uninstalled torch-1.10.0+cu111\n",
            "  Attempting uninstall: torchtext\n",
            "    Found existing installation: torchtext 0.11.0\n",
            "    Uninstalling torchtext-0.11.0:\n",
            "      Successfully uninstalled torchtext-0.11.0\n",
            "\u001b[31mERROR: pip's dependency resolver does not currently take into account all the packages that are installed. This behaviour is the source of the following dependency conflicts.\n",
            "torchvision 0.11.1+cu111 requires torch==1.10.0, but you have torch 1.8.1 which is incompatible.\n",
            "torchaudio 0.10.0+cu111 requires torch==1.10.0, but you have torch 1.8.1 which is incompatible.\u001b[0m\n",
            "Successfully installed torch-1.8.1 torchtext-0.9.1\n",
            "Collecting natasha\n",
            "  Downloading natasha-1.4.0-py3-none-any.whl (34.4 MB)\n",
            "\u001b[K     |████████████████████████████████| 34.4 MB 1.2 MB/s \n",
            "\u001b[?25hCollecting slovnet>=0.3.0\n",
            "  Downloading slovnet-0.5.0-py3-none-any.whl (49 kB)\n",
            "\u001b[K     |████████████████████████████████| 49 kB 4.5 MB/s \n",
            "\u001b[?25hCollecting yargy>=0.14.0\n",
            "  Downloading yargy-0.15.0-py3-none-any.whl (41 kB)\n",
            "\u001b[K     |████████████████████████████████| 41 kB 97 kB/s \n",
            "\u001b[?25hCollecting ipymarkup>=0.8.0\n",
            "  Downloading ipymarkup-0.9.0-py3-none-any.whl (14 kB)\n",
            "Collecting razdel>=0.5.0\n",
            "  Downloading razdel-0.5.0-py3-none-any.whl (21 kB)\n",
            "Collecting navec>=0.9.0\n",
            "  Downloading navec-0.10.0-py3-none-any.whl (23 kB)\n",
            "Collecting pymorphy2\n",
            "  Downloading pymorphy2-0.9.1-py3-none-any.whl (55 kB)\n",
            "\u001b[K     |████████████████████████████████| 55 kB 2.4 MB/s \n",
            "\u001b[?25hCollecting intervaltree>=3\n",
            "  Downloading intervaltree-3.1.0.tar.gz (32 kB)\n",
            "Requirement already satisfied: sortedcontainers<3.0,>=2.0 in /usr/local/lib/python3.7/dist-packages (from intervaltree>=3->ipymarkup>=0.8.0->natasha) (2.4.0)\n",
            "Requirement already satisfied: numpy in /usr/local/lib/python3.7/dist-packages (from navec>=0.9.0->natasha) (1.19.5)\n",
            "Collecting pymorphy2-dicts-ru<3.0,>=2.4\n",
            "  Downloading pymorphy2_dicts_ru-2.4.417127.4579844-py2.py3-none-any.whl (8.2 MB)\n",
            "\u001b[K     |████████████████████████████████| 8.2 MB 53.9 MB/s \n",
            "\u001b[?25hRequirement already satisfied: docopt>=0.6 in /usr/local/lib/python3.7/dist-packages (from pymorphy2->natasha) (0.6.2)\n",
            "Collecting dawg-python>=0.7.1\n",
            "  Downloading DAWG_Python-0.7.2-py2.py3-none-any.whl (11 kB)\n",
            "Building wheels for collected packages: intervaltree\n",
            "  Building wheel for intervaltree (setup.py) ... \u001b[?25l\u001b[?25hdone\n",
            "  Created wheel for intervaltree: filename=intervaltree-3.1.0-py2.py3-none-any.whl size=26119 sha256=44acab1fb0816698214672db9ee3941d2de43f8a310703bd47cefc6cc6b713e8\n",
            "  Stored in directory: /root/.cache/pip/wheels/16/85/bd/1001cbb46dcfb71c2001cd7401c6fb250392f22a81ce3722f7\n",
            "Successfully built intervaltree\n",
            "Installing collected packages: pymorphy2-dicts-ru, dawg-python, razdel, pymorphy2, navec, intervaltree, yargy, slovnet, ipymarkup, natasha\n",
            "  Attempting uninstall: intervaltree\n",
            "    Found existing installation: intervaltree 2.1.0\n",
            "    Uninstalling intervaltree-2.1.0:\n",
            "      Successfully uninstalled intervaltree-2.1.0\n",
            "Successfully installed dawg-python-0.7.2 intervaltree-3.1.0 ipymarkup-0.9.0 natasha-1.4.0 navec-0.10.0 pymorphy2-0.9.1 pymorphy2-dicts-ru-2.4.417127.4579844 razdel-0.5.0 slovnet-0.5.0 yargy-0.15.0\n",
            "Collecting swifter\n",
            "  Downloading swifter-1.0.9-py3-none-any.whl (14 kB)\n",
            "Requirement already satisfied: ipywidgets>=7.0.0 in /usr/local/lib/python3.7/dist-packages (from swifter) (7.6.5)\n",
            "Requirement already satisfied: tqdm>=4.33.0 in /usr/local/lib/python3.7/dist-packages (from swifter) (4.62.3)\n",
            "Requirement already satisfied: cloudpickle>=0.2.2 in /usr/local/lib/python3.7/dist-packages (from swifter) (1.3.0)\n",
            "Collecting psutil>=5.6.6\n",
            "  Downloading psutil-5.8.0-cp37-cp37m-manylinux2010_x86_64.whl (296 kB)\n",
            "\u001b[K     |████████████████████████████████| 296 kB 14.3 MB/s \n",
            "\u001b[?25hRequirement already satisfied: bleach>=3.1.1 in /usr/local/lib/python3.7/dist-packages (from swifter) (4.1.0)\n",
            "Requirement already satisfied: dask[dataframe]>=2.10.0 in /usr/local/lib/python3.7/dist-packages (from swifter) (2.12.0)\n",
            "Requirement already satisfied: parso>0.4.0 in /usr/local/lib/python3.7/dist-packages (from swifter) (0.8.2)\n",
            "Requirement already satisfied: pandas>=1.0.0 in /usr/local/lib/python3.7/dist-packages (from swifter) (1.1.5)\n",
            "Requirement already satisfied: packaging in /usr/local/lib/python3.7/dist-packages (from bleach>=3.1.1->swifter) (21.3)\n",
            "Requirement already satisfied: six>=1.9.0 in /usr/local/lib/python3.7/dist-packages (from bleach>=3.1.1->swifter) (1.15.0)\n",
            "Requirement already satisfied: webencodings in /usr/local/lib/python3.7/dist-packages (from bleach>=3.1.1->swifter) (0.5.1)\n",
            "Requirement already satisfied: toolz>=0.7.3 in /usr/local/lib/python3.7/dist-packages (from dask[dataframe]>=2.10.0->swifter) (0.11.2)\n",
            "Collecting partd>=0.3.10\n",
            "  Downloading partd-1.2.0-py3-none-any.whl (19 kB)\n",
            "Collecting fsspec>=0.6.0\n",
            "  Downloading fsspec-2021.11.0-py3-none-any.whl (132 kB)\n",
            "\u001b[K     |████████████████████████████████| 132 kB 71.6 MB/s \n",
            "\u001b[?25hRequirement already satisfied: numpy>=1.13.0 in /usr/local/lib/python3.7/dist-packages (from dask[dataframe]>=2.10.0->swifter) (1.19.5)\n",
            "Requirement already satisfied: jupyterlab-widgets>=1.0.0 in /usr/local/lib/python3.7/dist-packages (from ipywidgets>=7.0.0->swifter) (1.0.2)\n",
            "Requirement already satisfied: widgetsnbextension~=3.5.0 in /usr/local/lib/python3.7/dist-packages (from ipywidgets>=7.0.0->swifter) (3.5.2)\n",
            "Requirement already satisfied: ipykernel>=4.5.1 in /usr/local/lib/python3.7/dist-packages (from ipywidgets>=7.0.0->swifter) (4.10.1)\n",
            "Requirement already satisfied: ipython-genutils~=0.2.0 in /usr/local/lib/python3.7/dist-packages (from ipywidgets>=7.0.0->swifter) (0.2.0)\n",
            "Requirement already satisfied: traitlets>=4.3.1 in /usr/local/lib/python3.7/dist-packages (from ipywidgets>=7.0.0->swifter) (5.1.1)\n",
            "Requirement already satisfied: ipython>=4.0.0 in /usr/local/lib/python3.7/dist-packages (from ipywidgets>=7.0.0->swifter) (5.5.0)\n",
            "Requirement already satisfied: nbformat>=4.2.0 in /usr/local/lib/python3.7/dist-packages (from ipywidgets>=7.0.0->swifter) (5.1.3)\n",
            "Requirement already satisfied: jupyter-client in /usr/local/lib/python3.7/dist-packages (from ipykernel>=4.5.1->ipywidgets>=7.0.0->swifter) (5.3.5)\n",
            "Requirement already satisfied: tornado>=4.0 in /usr/local/lib/python3.7/dist-packages (from ipykernel>=4.5.1->ipywidgets>=7.0.0->swifter) (5.1.1)\n",
            "Requirement already satisfied: pygments in /usr/local/lib/python3.7/dist-packages (from ipython>=4.0.0->ipywidgets>=7.0.0->swifter) (2.6.1)\n",
            "Requirement already satisfied: decorator in /usr/local/lib/python3.7/dist-packages (from ipython>=4.0.0->ipywidgets>=7.0.0->swifter) (4.4.2)\n",
            "Requirement already satisfied: prompt-toolkit<2.0.0,>=1.0.4 in /usr/local/lib/python3.7/dist-packages (from ipython>=4.0.0->ipywidgets>=7.0.0->swifter) (1.0.18)\n",
            "Requirement already satisfied: simplegeneric>0.8 in /usr/local/lib/python3.7/dist-packages (from ipython>=4.0.0->ipywidgets>=7.0.0->swifter) (0.8.1)\n",
            "Requirement already satisfied: setuptools>=18.5 in /usr/local/lib/python3.7/dist-packages (from ipython>=4.0.0->ipywidgets>=7.0.0->swifter) (57.4.0)\n",
            "Requirement already satisfied: pexpect in /usr/local/lib/python3.7/dist-packages (from ipython>=4.0.0->ipywidgets>=7.0.0->swifter) (4.8.0)\n",
            "Requirement already satisfied: pickleshare in /usr/local/lib/python3.7/dist-packages (from ipython>=4.0.0->ipywidgets>=7.0.0->swifter) (0.7.5)\n",
            "Requirement already satisfied: jsonschema!=2.5.0,>=2.4 in /usr/local/lib/python3.7/dist-packages (from nbformat>=4.2.0->ipywidgets>=7.0.0->swifter) (2.6.0)\n",
            "Requirement already satisfied: jupyter-core in /usr/local/lib/python3.7/dist-packages (from nbformat>=4.2.0->ipywidgets>=7.0.0->swifter) (4.9.1)\n",
            "Requirement already satisfied: pytz>=2017.2 in /usr/local/lib/python3.7/dist-packages (from pandas>=1.0.0->swifter) (2018.9)\n",
            "Requirement already satisfied: python-dateutil>=2.7.3 in /usr/local/lib/python3.7/dist-packages (from pandas>=1.0.0->swifter) (2.8.2)\n",
            "Collecting locket\n",
            "  Downloading locket-0.2.1-py2.py3-none-any.whl (4.1 kB)\n",
            "Requirement already satisfied: wcwidth in /usr/local/lib/python3.7/dist-packages (from prompt-toolkit<2.0.0,>=1.0.4->ipython>=4.0.0->ipywidgets>=7.0.0->swifter) (0.2.5)\n",
            "Requirement already satisfied: notebook>=4.4.1 in /usr/local/lib/python3.7/dist-packages (from widgetsnbextension~=3.5.0->ipywidgets>=7.0.0->swifter) (5.3.1)\n",
            "Requirement already satisfied: jinja2 in /usr/local/lib/python3.7/dist-packages (from notebook>=4.4.1->widgetsnbextension~=3.5.0->ipywidgets>=7.0.0->swifter) (2.11.3)\n",
            "Requirement already satisfied: nbconvert in /usr/local/lib/python3.7/dist-packages (from notebook>=4.4.1->widgetsnbextension~=3.5.0->ipywidgets>=7.0.0->swifter) (5.6.1)\n",
            "Requirement already satisfied: Send2Trash in /usr/local/lib/python3.7/dist-packages (from notebook>=4.4.1->widgetsnbextension~=3.5.0->ipywidgets>=7.0.0->swifter) (1.8.0)\n",
            "Requirement already satisfied: terminado>=0.8.1 in /usr/local/lib/python3.7/dist-packages (from notebook>=4.4.1->widgetsnbextension~=3.5.0->ipywidgets>=7.0.0->swifter) (0.12.1)\n",
            "Requirement already satisfied: pyzmq>=13 in /usr/local/lib/python3.7/dist-packages (from jupyter-client->ipykernel>=4.5.1->ipywidgets>=7.0.0->swifter) (22.3.0)\n",
            "Requirement already satisfied: ptyprocess in /usr/local/lib/python3.7/dist-packages (from terminado>=0.8.1->notebook>=4.4.1->widgetsnbextension~=3.5.0->ipywidgets>=7.0.0->swifter) (0.7.0)\n",
            "Requirement already satisfied: MarkupSafe>=0.23 in /usr/local/lib/python3.7/dist-packages (from jinja2->notebook>=4.4.1->widgetsnbextension~=3.5.0->ipywidgets>=7.0.0->swifter) (2.0.1)\n",
            "Requirement already satisfied: entrypoints>=0.2.2 in /usr/local/lib/python3.7/dist-packages (from nbconvert->notebook>=4.4.1->widgetsnbextension~=3.5.0->ipywidgets>=7.0.0->swifter) (0.3)\n",
            "Requirement already satisfied: defusedxml in /usr/local/lib/python3.7/dist-packages (from nbconvert->notebook>=4.4.1->widgetsnbextension~=3.5.0->ipywidgets>=7.0.0->swifter) (0.7.1)\n",
            "Requirement already satisfied: mistune<2,>=0.8.1 in /usr/local/lib/python3.7/dist-packages (from nbconvert->notebook>=4.4.1->widgetsnbextension~=3.5.0->ipywidgets>=7.0.0->swifter) (0.8.4)\n",
            "Requirement already satisfied: testpath in /usr/local/lib/python3.7/dist-packages (from nbconvert->notebook>=4.4.1->widgetsnbextension~=3.5.0->ipywidgets>=7.0.0->swifter) (0.5.0)\n",
            "Requirement already satisfied: pandocfilters>=1.4.1 in /usr/local/lib/python3.7/dist-packages (from nbconvert->notebook>=4.4.1->widgetsnbextension~=3.5.0->ipywidgets>=7.0.0->swifter) (1.5.0)\n",
            "Requirement already satisfied: pyparsing!=3.0.5,>=2.0.2 in /usr/local/lib/python3.7/dist-packages (from packaging->bleach>=3.1.1->swifter) (3.0.6)\n",
            "Installing collected packages: locket, partd, fsspec, psutil, swifter\n",
            "  Attempting uninstall: psutil\n",
            "    Found existing installation: psutil 5.4.8\n",
            "    Uninstalling psutil-5.4.8:\n",
            "      Successfully uninstalled psutil-5.4.8\n",
            "Successfully installed fsspec-2021.11.0 locket-0.2.1 partd-1.2.0 psutil-5.8.0 swifter-1.0.9\n"
          ]
        },
        {
          "output_type": "display_data",
          "data": {
            "application/vnd.colab-display-data+json": {
              "pip_warning": {
                "packages": [
                  "psutil"
                ]
              }
            }
          },
          "metadata": {}
        },
        {
          "output_type": "stream",
          "name": "stdout",
          "text": [
            "--2021-11-25 13:52:02--  https://storage.yandexcloud.net/natasha-navec/packs/navec_hudlit_v1_12B_500K_300d_100q.tar\n",
            "Resolving storage.yandexcloud.net (storage.yandexcloud.net)... 213.180.193.243, 2a02:6b8::1d9\n",
            "Connecting to storage.yandexcloud.net (storage.yandexcloud.net)|213.180.193.243|:443... connected.\n",
            "HTTP request sent, awaiting response... 200 OK\n",
            "Length: 53012480 (51M) [application/x-tar]\n",
            "Saving to: ‘navec_hudlit_v1_12B_500K_300d_100q.tar’\n",
            "\n",
            "navec_hudlit_v1_12B 100%[===================>]  50.56M  41.6MB/s    in 1.2s    \n",
            "\n",
            "2021-11-25 13:52:04 (41.6 MB/s) - ‘navec_hudlit_v1_12B_500K_300d_100q.tar’ saved [53012480/53012480]\n",
            "\n"
          ]
        }
      ]
    },
    {
      "cell_type": "code",
      "metadata": {
        "id": "ukwuIAdfmkyH"
      },
      "source": [
        "import numpy as np\n",
        "import pandas as pd\n",
        "import sklearn.metrics as sm\n",
        "import matplotlib.pyplot as plt\n",
        "\n",
        "import nltk\n",
        "from nltk.corpus import stopwords\n",
        "from string import punctuation\n",
        "\n",
        "import os\n",
        "import random\n",
        "\n",
        "import torch\n",
        "\n",
        "import torch.nn as nn\n",
        "import torch.optim\n",
        "\n",
        "from tqdm.notebook import tqdm_notebook as tqdm\n",
        "from tqdm.notebook import trange\n",
        "from torch.utils.data import DataLoader\n",
        "import torch.nn.functional as F\n",
        "from navec import Navec\n",
        "import razdel\n",
        "import copy\n",
        "import pymorphy2\n",
        "\n",
        "import swifter"
      ],
      "execution_count": null,
      "outputs": []
    },
    {
      "cell_type": "code",
      "metadata": {
        "id": "f1ikkioSrTXl"
      },
      "source": [
        "SEED = 1234\n",
        "\n",
        "\n",
        "def enable_reproducibility(\n",
        "        seed=SEED, raise_if_no_deterministic=True,\n",
        "        cudnn_deterministic=True, disable_cudnn_benchmarking=True):\n",
        "    # https://pytorch.org/docs/stable/notes/randomness.html#avoiding-nondeterministic-algorithms\n",
        "    torch.use_deterministic_algorithms(raise_if_no_deterministic)\n",
        "\n",
        "    # https://docs.nvidia.com/cuda/cublas/index.html#cublasApi_reproducibility\n",
        "    os.environ['CUBLAS_WORKSPACE_CONFIG'] = \":4096:8\"\n",
        "    \n",
        "    torch.backends.cudnn.benchmark = not disable_cudnn_benchmarking\n",
        "    torch.backends.cudnn.deterministic = cudnn_deterministic\n",
        "\n",
        "    torch.manual_seed(seed)\n",
        "    np.random.seed(seed)\n",
        "    random.seed(seed)\n",
        "    os.environ['PYTHONHASHSEED'] = str(seed)"
      ],
      "execution_count": null,
      "outputs": []
    },
    {
      "cell_type": "code",
      "metadata": {
        "id": "jSS12fohrVmR"
      },
      "source": [
        "enable_reproducibility()"
      ],
      "execution_count": null,
      "outputs": []
    },
    {
      "cell_type": "markdown",
      "metadata": {
        "id": "VDgVj_D364qM"
      },
      "source": [
        "## Upload Data"
      ]
    },
    {
      "cell_type": "code",
      "metadata": {
        "colab": {
          "base_uri": "https://localhost:8080/"
        },
        "id": "8W-8sdXEnfeZ",
        "outputId": "ac31bcc0-5d0f-46c0-e94a-da1f0691f087"
      },
      "source": [
        "from google.colab import drive\n",
        "drive.mount('/content/drive')"
      ],
      "execution_count": null,
      "outputs": [
        {
          "output_type": "stream",
          "name": "stdout",
          "text": [
            "Mounted at /content/drive\n"
          ]
        }
      ]
    },
    {
      "cell_type": "code",
      "metadata": {
        "id": "z2V8DKHAmkyM"
      },
      "source": [
        "train = pd.read_json(r'/content/drive/MyDrive/ColabNotebooks/FarPost/dataset-hackaton.json', lines=True)\n",
        "train = train.sample(frac=1).reset_index(drop=True)\n",
        "\n",
        "test = pd.read_json(r'/content/drive/MyDrive/ColabNotebooks/FarPost/hideout-public.json', lines=True)"
      ],
      "execution_count": null,
      "outputs": []
    },
    {
      "cell_type": "code",
      "metadata": {
        "id": "Jx1DcRcPpwgu"
      },
      "source": [
        "print(train.shape)\n",
        "train.head()"
      ],
      "execution_count": null,
      "outputs": []
    },
    {
      "cell_type": "code",
      "metadata": {
        "id": "ohFDknzRoHJK",
        "colab": {
          "base_uri": "https://localhost:8080/",
          "height": 221
        },
        "outputId": "f4b837eb-2b37-41f4-ebe6-a39c5d21121c"
      },
      "source": [
        "print(test.shape)\n",
        "test.head()"
      ],
      "execution_count": null,
      "outputs": [
        {
          "output_type": "stream",
          "name": "stdout",
          "text": [
            "(42255, 1)\n"
          ]
        },
        {
          "output_type": "execute_result",
          "data": {
            "text/html": [
              "<div>\n",
              "<style scoped>\n",
              "    .dataframe tbody tr th:only-of-type {\n",
              "        vertical-align: middle;\n",
              "    }\n",
              "\n",
              "    .dataframe tbody tr th {\n",
              "        vertical-align: top;\n",
              "    }\n",
              "\n",
              "    .dataframe thead th {\n",
              "        text-align: right;\n",
              "    }\n",
              "</style>\n",
              "<table border=\"1\" class=\"dataframe\">\n",
              "  <thead>\n",
              "    <tr style=\"text-align: right;\">\n",
              "      <th></th>\n",
              "      <th>title</th>\n",
              "    </tr>\n",
              "  </thead>\n",
              "  <tbody>\n",
              "    <tr>\n",
              "      <th>0</th>\n",
              "      <td>Шланг GRINDA \"CLASSIC\" 1/2\" х 50 м 8-429001-1/...</td>\n",
              "    </tr>\n",
              "    <tr>\n",
              "      <th>1</th>\n",
              "      <td>Триммер электрический DDE ET1600RV</td>\n",
              "    </tr>\n",
              "    <tr>\n",
              "      <th>2</th>\n",
              "      <td>Лестница 3-секционная алюминиевая TOR VL3-17</td>\n",
              "    </tr>\n",
              "    <tr>\n",
              "      <th>3</th>\n",
              "      <td>Полотенцесушитель Лесенка (полка) 40*80 электр...</td>\n",
              "    </tr>\n",
              "    <tr>\n",
              "      <th>4</th>\n",
              "      <td>Газонокосилка аккумуляторная HONDA HRG416XBPEE...</td>\n",
              "    </tr>\n",
              "  </tbody>\n",
              "</table>\n",
              "</div>"
            ],
            "text/plain": [
              "                                               title\n",
              "0  Шланг GRINDA \"CLASSIC\" 1/2\" х 50 м 8-429001-1/...\n",
              "1                 Триммер электрический DDE ET1600RV\n",
              "2       Лестница 3-секционная алюминиевая TOR VL3-17\n",
              "3  Полотенцесушитель Лесенка (полка) 40*80 электр...\n",
              "4  Газонокосилка аккумуляторная HONDA HRG416XBPEE..."
            ]
          },
          "metadata": {},
          "execution_count": 7
        }
      ]
    },
    {
      "cell_type": "markdown",
      "metadata": {
        "id": "bWrupVAc7BZp"
      },
      "source": [
        "Class Distribution. They are not balanced, gonna use weights"
      ]
    },
    {
      "cell_type": "code",
      "metadata": {
        "colab": {
          "base_uri": "https://localhost:8080/",
          "height": 294
        },
        "id": "APjTEoDsmkyN",
        "outputId": "20340238-623f-4471-97e6-e1098b537aaa"
      },
      "source": [
        "plt.figure(figsize=(22, 4))\n",
        "train.dir.hist()"
      ],
      "execution_count": null,
      "outputs": [
        {
          "output_type": "execute_result",
          "data": {
            "text/plain": [
              "<matplotlib.axes._subplots.AxesSubplot at 0x7fb843b1ead0>"
            ]
          },
          "metadata": {},
          "execution_count": 8
        },
        {
          "output_type": "display_data",
          "data": {
            "image/png": "[encoded data removed]",
            "text/plain": [
              "<Figure size 1584x288 with 1 Axes>"
            ]
          },
          "metadata": {
            "needs_background": "light"
          }
        }
      ]
    },
    {
      "cell_type": "markdown",
      "metadata": {
        "id": "Jmao9K_J6_Vr"
      },
      "source": [
        "## Preprocessing data"
      ]
    },
    {
      "cell_type": "code",
      "metadata": {
        "colab": {
          "base_uri": "https://localhost:8080/"
        },
        "id": "--KLzqa2zsks",
        "outputId": "22ebbb07-97ff-45a8-cb54-e74640cf2c06"
      },
      "source": [
        "nltk.download('stopwords')\n",
        "ru_stopwords = nltk.corpus.stopwords.words('russian')\n",
        "morph = pymorphy2.MorphAnalyzer()"
      ],
      "execution_count": null,
      "outputs": [
        {
          "output_type": "stream",
          "name": "stdout",
          "text": [
            "[nltk_data] Downloading package stopwords to /root/nltk_data...\n",
            "[nltk_data]   Package stopwords is already up-to-date!\n"
          ]
        }
      ]
    },
    {
      "cell_type": "code",
      "metadata": {
        "id": "lYyR80_xykrf"
      },
      "source": [
        "def preproc(sentence):\n",
        "  tokens = [_.text.lower() for _ in list(razdel.tokenize(str(sentence)))]\n",
        "\n",
        "  final_sentence = []\n",
        "  drop_tokens = ['a', 'd', 'e', 'l', 'н', 'p', 'п', 'w', 'g', 'r', 'b', 'ip', '«', '»', 'ф', 'ду', 'б']\n",
        "\n",
        "  for token  in tokens:\n",
        "    if (token not in ru_stopwords and token not in punctuation and token not in drop_tokens):\n",
        "      if token == 'х':\n",
        "          token = 'x'\n",
        "      parsed_token = morph.parse(token)[0]\n",
        "      if 'NUMB' not in parsed_token.tag:\n",
        "        final_sentence.append(str(parsed_token.normal_form))\n",
        "\n",
        "  return final_sentence"
      ],
      "execution_count": null,
      "outputs": []
    },
    {
      "cell_type": "code",
      "metadata": {
        "colab": {
          "base_uri": "https://localhost:8080/",
          "height": 151,
          "referenced_widgets": [
            "c3e0aae951c74beb87d7bb91bc8b8614",
            "5689029350834468b983990a88dd4fce",
            "f7cd05a6e4604629a89c751b3001b387",
            "9adee3e925f540ffbcc0d72e0a52e846",
            "de37001a13a842b8a4cf6fdc667f01b8",
            "911b64f3ca5d4d0a91205df8e53ecc8a",
            "25148e6504d8438582d87ac878daab21",
            "63442ef5202840f6a6974066de249d89",
            "b0448eeafce24b1cbbed8c7ee202291a",
            "5221134b39b048f9ae858cbc9625df4a",
            "53bbe269d2bb4f2c8eb76c8f240b15d5",
            "b5fcb1609a5741bdbdd8039ea4c27c85",
            "d4d0e32a043e46a3a68dd77a9c6d101f",
            "1d212082ace841be917a020b4b330009",
            "7625f71a4fc84df69efadebaa216ae3f",
            "25605dcaf795448b94e61e2dd70089f8",
            "889a0bd26eaa4e378c47dd46a8c9230f",
            "5fc8c2e9586f46d694a298e39ef18857",
            "91d58179bded434580639cb21c262347",
            "145392200d1844f8889c3608c8eda22f",
            "3289ad5e717c42388c1c06515de9e270",
            "37ed3efedbd14b379201c62d6d1a85f9"
          ]
        },
        "id": "kK0k__QF1So_",
        "outputId": "325c5c11-f5fd-4dd7-ea03-d305e06871cd"
      },
      "source": [
        "%time train['title'] = train['title'].swifter.allow_dask_on_strings(True).apply(preproc)\n",
        "%time test['title'] = test['title'].swifter.allow_dask_on_strings(True).apply(preproc)"
      ],
      "execution_count": null,
      "outputs": [
        {
          "output_type": "display_data",
          "data": {
            "application/vnd.jupyter.widget-view+json": {
              "model_id": "c3e0aae951c74beb87d7bb91bc8b8614",
              "version_minor": 0,
              "version_major": 2
            },
            "text/plain": [
              "Dask Apply:   0%|          | 0/4 [00:00<?, ?it/s]"
            ]
          },
          "metadata": {}
        },
        {
          "output_type": "stream",
          "name": "stdout",
          "text": [
            "CPU times: user 29.7 s, sys: 4.85 s, total: 34.5 s\n",
            "Wall time: 30min 38s\n"
          ]
        },
        {
          "output_type": "display_data",
          "data": {
            "application/vnd.jupyter.widget-view+json": {
              "model_id": "b5fcb1609a5741bdbdd8039ea4c27c85",
              "version_minor": 0,
              "version_major": 2
            },
            "text/plain": [
              "Dask Apply:   0%|          | 0/4 [00:00<?, ?it/s]"
            ]
          },
          "metadata": {}
        },
        {
          "output_type": "stream",
          "name": "stdout",
          "text": [
            "CPU times: user 9.79 s, sys: 665 ms, total: 10.5 s\n",
            "Wall time: 1min 57s\n"
          ]
        }
      ]
    },
    {
      "cell_type": "markdown",
      "metadata": {
        "id": "RaHIsY0nuQjP"
      },
      "source": [
        "Text augmentation"
      ]
    },
    {
      "cell_type": "code",
      "metadata": {
        "id": "LV9tvoDhoI07"
      },
      "source": [
        "augment_data = pd.DataFrame(columns=['title', 'dir'])\n",
        "\n",
        "for column in ['domokomplekt', 'module', 'curbstones', 'concrete', 'tiles', 'wood', 'isolation', 'flowers', 'dry-mix']:\n",
        "    augment_data = pd.concat([augment_data, train[train['dir'] == column].apply(lambda x: x.reverse() if type(x) == list else x)], axis=0)\n",
        "    \n",
        "train = pd.concat([train, augment_data.reset_index(drop=True)], axis=0).reset_index(drop=True)"
      ],
      "execution_count": null,
      "outputs": []
    },
    {
      "cell_type": "markdown",
      "metadata": {
        "id": "ipAgDry-bh0f"
      },
      "source": [
        "## Формирование словаря"
      ]
    },
    {
      "cell_type": "code",
      "metadata": {
        "colab": {
          "base_uri": "https://localhost:8080/"
        },
        "id": "-kck28ntZI-e",
        "outputId": "312d543f-a577-4d45-f0cc-74657c5d9312"
      },
      "source": [
        "n_classes = len(train['dir'].unique())\n",
        "print(n_classes)"
      ],
      "execution_count": null,
      "outputs": [
        {
          "output_type": "stream",
          "name": "stdout",
          "text": [
            "23\n"
          ]
        }
      ]
    },
    {
      "cell_type": "code",
      "metadata": {
        "id": "IdCHpSJU6XDq",
        "colab": {
          "base_uri": "https://localhost:8080/"
        },
        "outputId": "162701ba-856e-4744-91f1-662a06e97ccb"
      },
      "source": [
        "from collections import Counter\n",
        "from itertools import chain\n",
        "\n",
        "from torchtext.vocab import Vocab\n",
        "\n",
        "PAD_TOKEN = '<pad>'  # default special padding token in Vocab\n",
        "UNK_TOKEN = '<unk>'  # default special token for unknown tokens in Vocab\n",
        "\n",
        "words_counter = Counter(chain.from_iterable(map(lambda w: w.lower(), words) for words in \n",
        "                                            pd.concat([train['title']], axis=0)))\n",
        "words_vocab = Vocab(words_counter, min_freq=10,  specials=(PAD_TOKEN, UNK_TOKEN))\n",
        "\n",
        "PAD_IDX = words_vocab.stoi[PAD_TOKEN]\n",
        "\n",
        "print(f\"Unique tokens in words vocabulary: {len(words_vocab)}\")\n",
        "print(words_vocab.itos[:200])"
      ],
      "execution_count": null,
      "outputs": [
        {
          "output_type": "stream",
          "name": "stdout",
          "text": [
            "Unique tokens in words vocabulary: 5637\n",
            "['<pad>', '<unk>', 'numb', 'мм', 'х', 'x', 'м', 'шт', 'кабель', 'гост', 'a', 'смотреть', 'сверло', 'труба', 'electric', 'schneider', 'светодиодный', 'd', 'e', 'светильник', 'зубр', 'лампа', 'белый', 'л', 'так', 'l', 'н', 'p', 'г', 'кг', 's', 'вт', 'c', 'm', 'нержавеющий', 'f', 'выключатель', 'набор', 'п', 'круг', 'артикул', 'w', 'g', 'розетка', 'ст', 'мл', 'самореза', 'v', 'р', 'стальной', 'чёрный', 'r', 'b', 'ip', 'abb', 'n', 'сталь', 'ключ', 'quot', 'лист', 't', 'металл', '«', '»', 'цвет', 'далее', 'насос', 'комплект', 'din', 'лента', '1/2', 'универсальный', 'подвесной', 'диск', 'phoenix', 'contact', 'ручка', 'stayer', 'h', 'смеситель', 'люстра', 'алюминиевый', 'дерево', 'головка', 'k', 'автоматический', 'рамка', 'сибртех', 'россия', 'matrix', 'полоса', 'legrand', 'болт', 'bosch', 'led', 'шкаф', 'тройник', 'ф', 'aisi', 'ду', 'стать', 'угол', 'уп', 'мастер', 'горячекатаный', 'camozzi', 'обои', 'пильный', 'серый', '№', 'mm', 'хром', 'б', 'тип', 'панель', 'пвх', 'арт', 'плата', 'аккумуляторный', 'крышка', 'потолочный', 'дуб', 'отвёртка', 'u', 'конструкционный', 'ph', 'оцинковать', 'гр', 'проволока', 'комбинированный', 'настенный', 'нерж', 'гайка', 'дверь', 'дтс', 'плоский', 'гаечный', '3/4', 'муфта', 'tor', 'блок', 'рукоятка', 'винт', 'шлифовальный', 'свеча', 'прямой', 'ac', 'кран', 'стекло', 'алмазный', 'эра', 'уголок', 'профиль', 'монтаж', 'батарея', 'бур', 'шпилька', 'строп', 'ванна', 'корпус', 'резьба', 'угловой', 'iek', 'спиральный', 'клапан', 'электрический', 'быть', 'пластиковый', 'леска', 'бетон', 'битый', 'разъём', 'вертикальный', 'шар', 'выклый', 'печатный', 'красный', 'прозрачный', 'бронзовый', 'средство', 'плита', 'пруток', 'autonics', 'ру', 'ммх', 'эксперт', 'реле', 'коробка', 'пластик', 'секция', '1/4', 'нож', 'внутренний', 'хомут', 'клемма', 'раковина', 'металлический', 'датчик', 'круглый', 'цинк']\n"
          ]
        }
      ]
    },
    {
      "cell_type": "markdown",
      "metadata": {
        "id": "f5mC2dpTcQF3"
      },
      "source": [
        "## Инициализация эмбеддингов"
      ]
    },
    {
      "cell_type": "code",
      "metadata": {
        "id": "B6HXR58U6e4B"
      },
      "source": [
        "navec = Navec.load('navec_hudlit_v1_12B_500K_300d_100q.tar')"
      ],
      "execution_count": null,
      "outputs": []
    },
    {
      "cell_type": "code",
      "metadata": {
        "id": "UTo5DDnl6jWF"
      },
      "source": [
        "embed_weights = [[]] * len(words_vocab)\n",
        "navec_indices = []\n",
        "\n",
        "for i in range(len(words_vocab)):\n",
        "  token = words_vocab.itos[i]\n",
        "  try:\n",
        "    embed_weights[i] = navec[token]\n",
        "    navec_indices.append(i)\n",
        "  except:\n",
        "    embed_weights[i] = np.random.uniform(-1,1,300)\n",
        "\n",
        "navec_indices = torch.LongTensor(navec_indices)\n",
        "embed_weights = torch.tensor(embed_weights, requires_grad=True, dtype=torch.float32)"
      ],
      "execution_count": null,
      "outputs": []
    },
    {
      "cell_type": "code",
      "metadata": {
        "id": "Hj4dgpt86lDP",
        "colab": {
          "base_uri": "https://localhost:8080/"
        },
        "outputId": "c48f16b2-1dab-43d9-f65c-c8bf870e3fca"
      },
      "source": [
        "print(embed_weights.shape)\n",
        "print(navec_indices.shape)"
      ],
      "execution_count": null,
      "outputs": [
        {
          "output_type": "stream",
          "name": "stdout",
          "text": [
            "torch.Size([5637, 300])\n",
            "torch.Size([3423])\n"
          ]
        }
      ]
    },
    {
      "cell_type": "markdown",
      "metadata": {
        "id": "uT2DY_RS6tjZ"
      },
      "source": [
        "Посмотрим с насколько большими предложениями мы имеем дело"
      ]
    },
    {
      "cell_type": "code",
      "metadata": {
        "colab": {
          "base_uri": "https://localhost:8080/",
          "height": 607
        },
        "id": "8MRXNvfu6q71",
        "outputId": "b8502b3d-2b52-4683-a176-0fa8474a6ce3"
      },
      "source": [
        "lengths = map(lambda words_tags: len(words_tags), train['title'])\n",
        "\n",
        "plt.figure(figsize=[20, 10])\n",
        "plt.title(\"Length distribution in Train data\")\n",
        "plt.hist(list(lengths), bins=100);"
      ],
      "execution_count": null,
      "outputs": [
        {
          "output_type": "display_data",
          "data": {
            "image/png": "[encoded data removed]",
            "text/plain": [
              "<Figure size 1440x720 with 1 Axes>"
            ]
          },
          "metadata": {
            "needs_background": "light"
          }
        }
      ]
    },
    {
      "cell_type": "markdown",
      "metadata": {
        "id": "6L4nK26w7qsl"
      },
      "source": [
        "Label encoding"
      ]
    },
    {
      "cell_type": "code",
      "metadata": {
        "colab": {
          "base_uri": "https://localhost:8080/"
        },
        "id": "fOO1-OFO7dCW",
        "outputId": "e7bbb1fd-3d10-4d1b-c790-b2c5017791a8"
      },
      "source": [
        "device = torch.device('cuda' if torch.cuda.is_available() else 'cpu')\n",
        "device"
      ],
      "execution_count": null,
      "outputs": [
        {
          "output_type": "execute_result",
          "data": {
            "text/plain": [
              "device(type='cpu')"
            ]
          },
          "metadata": {},
          "execution_count": 44
        }
      ]
    },
    {
      "cell_type": "code",
      "metadata": {
        "colab": {
          "base_uri": "https://localhost:8080/"
        },
        "id": "N-5UZ1L97hMx",
        "outputId": "a3b694de-3aa2-4bf1-fd0b-b21af7ecfa1d"
      },
      "source": [
        "from sklearn.preprocessing import LabelEncoder\n",
        "le = LabelEncoder()\n",
        "le.fit(train['dir'])"
      ],
      "execution_count": null,
      "outputs": [
        {
          "output_type": "execute_result",
          "data": {
            "text/plain": [
              "LabelEncoder()"
            ]
          },
          "metadata": {},
          "execution_count": 45
        }
      ]
    },
    {
      "cell_type": "code",
      "metadata": {
        "id": "A6OHT4A07hkM"
      },
      "source": [
        "train['dir'] = le.transform(train['dir'])"
      ],
      "execution_count": null,
      "outputs": []
    },
    {
      "cell_type": "markdown",
      "metadata": {
        "id": "4mRtgO8Ucbu3"
      },
      "source": [
        "## Функции, необходимые для составления DataLoader'ов, обучения и валидации нейросети"
      ]
    },
    {
      "cell_type": "code",
      "metadata": {
        "id": "7P0Ktl2k8isO"
      },
      "source": [
        "from torch.utils.data import DataLoader\n",
        "from torch.nn.utils.rnn import pad_sequence\n",
        "\n",
        "def tokens_transform(tokens):\n",
        "    return [words_vocab.stoi[token] for token in tokens]\n",
        "\n",
        "def tokens_inverse_transform(indexes):\n",
        "    return [words_vocab.itos[idx] for idx in indexes]\n",
        "\n",
        "def collate_batch(batch):\n",
        "    labels_list, title_t_list = [], []\n",
        "    for title, label in batch:\n",
        "        labels_list.append(torch.tensor(label))\n",
        "        title_t_indices = tokens_transform(title)\n",
        "\n",
        "        title_t_list.append(torch.tensor(title_t_indices))\n",
        "    return {\n",
        "        \"title\": pad_sequence(title_t_list, batch_first=True, padding_value=PAD_IDX).int(),\n",
        "        \"dir\": torch.tensor(labels_list)\n",
        "    }\n",
        "\n",
        "def test_collate_batch(batch):\n",
        "    title_t_list = []\n",
        "    for title in batch:\n",
        "        title_t_indices = tokens_transform(title[0])\n",
        "        title_t_list.append(torch.tensor(title_t_indices))\n",
        "\n",
        "    return {\n",
        "        \"title\": pad_sequence(title_t_list, batch_first=True, padding_value=PAD_IDX).int()\n",
        "    }"
      ],
      "execution_count": null,
      "outputs": []
    },
    {
      "cell_type": "code",
      "metadata": {
        "id": "EKGN7WeJ85Ml"
      },
      "source": [
        "BATCH_SIZE = 160\n",
        "\n",
        "train_loader = DataLoader(train.values, batch_size=BATCH_SIZE, collate_fn=collate_batch, shuffle=True, drop_last=True)\n",
        "test_loader = DataLoader(test.values, batch_size=BATCH_SIZE, collate_fn=test_collate_batch, shuffle=False)"
      ],
      "execution_count": null,
      "outputs": []
    },
    {
      "cell_type": "code",
      "metadata": {
        "id": "jer-_SRQ_wOw"
      },
      "source": [
        "def training(model, criterion, optimizer, num_epochs, train_loader, valid_loader=None, sheduler=None, max_grad_norm=2, freezing_epochs=0):\n",
        "    for e in trange(num_epochs, leave=False):\n",
        "\n",
        "        model.train()\n",
        "        \n",
        "        clf_report = None\n",
        "        target_names = [str(label) for label in le.inverse_transform(train['dir'].unique())]\n",
        "        \n",
        "        valid_acc = 0\n",
        "        num_iter = 0\n",
        "        train_loss = 0\n",
        "        correct = 0\n",
        "        num_objs = 0\n",
        "\n",
        "        pbar = tqdm(train_loader, leave=False)\n",
        "        for batch in pbar:\n",
        "            optimizer.zero_grad()\n",
        "            labels = batch[\"dir\"].to(device)\n",
        "            prediction = model(batch[\"title\"].to(device))\n",
        "            loss = criterion(prediction, labels)\n",
        "            loss.backward()\n",
        "            if e < freezing_epochs:\n",
        "                model.embedding.weight.grad[navec_indices] = 0\n",
        "\n",
        "            if max_grad_norm is not None:\n",
        "                torch.nn.utils.clip_grad_norm_(model.parameters(), max_grad_norm)\n",
        "\n",
        "            optimizer.step()\n",
        "            train_loss += loss\n",
        "            correct += (labels == prediction.argmax(-1)).float().sum()\n",
        "            num_objs += len(labels)\n",
        "            num_iter += 1\n",
        "\n",
        "        if sheduler is not None:\n",
        "            sheduler.step()\n",
        "        \n",
        "        train_acc = correct/num_objs\n",
        "        print(f\"Epoch: {e}\")\n",
        "        print(f\"Train Loss: {train_loss / num_iter}, accuracy: {train_acc}\")\n",
        "\n",
        "        if valid_loader:\n",
        "          valid_loss = 0\n",
        "          num_iter = 0\n",
        "          model.eval()\n",
        "          with torch.no_grad():\n",
        "              correct = 0\n",
        "              num_objs = 0\n",
        "\n",
        "              y_true = torch.tensor([])\n",
        "              y_pred = torch.tensor([])\n",
        "              for batch in valid_loader:\n",
        "                  labels = batch[\"dir\"].to(device)\n",
        "                  prediction = model(batch[\"title\"].to(device))\n",
        "                  valid_loss += criterion(prediction, labels)\n",
        "                  correct += (labels == prediction.argmax(-1)).float().sum()\n",
        "                  num_objs += len(labels)\n",
        "                  num_iter += 1\n",
        "\n",
        "                  y_true = torch.cat((y_true, labels.cpu()), dim=0)\n",
        "                  y_pred = torch.cat((y_pred, prediction.argmax(-1).cpu()), dim=0)\n",
        "          \n",
        "          clf_report = sm.classification_report(y_true, y_pred, target_names=target_names, zero_division=0)\n",
        "          valid_acc = correct/num_objs\n",
        "          print(f\"Valid Loss: {valid_loss / num_iter}, accuracy: {valid_acc}\")\n",
        "\n",
        "    return train_acc, valid_acc, clf_report"
      ],
      "execution_count": null,
      "outputs": []
    },
    {
      "cell_type": "code",
      "metadata": {
        "id": "Ts-ynh2w_0y1"
      },
      "source": [
        "class Subset():\n",
        "    \"\"\"\n",
        "    Subset of a dataset at specified indices.\n",
        "    Arguments:\n",
        "        dataset: The whole Dataset\n",
        "        indices (sequence): Indices in the whole set selected for subset\n",
        "    \"\"\"\n",
        "    def __init__(self, dataset, indices):\n",
        "        self.dataset = dataset\n",
        "        self.indices = indices\n",
        "\n",
        "    def __len__(self):\n",
        "        if self.indices.shape == ():\n",
        "            print('this happens: Subset')\n",
        "            return 1\n",
        "        else:\n",
        "            return len(self.indices)\n",
        "\n",
        "    def __getitem__(self, idx):\n",
        "        return self.dataset[self.indices[idx]]\n",
        "\n",
        "\n",
        "def KFold_validation(model, criterion, num_epochs, dataset, freezing_epochs=0, k=5):\n",
        "\n",
        "  num_val_samples = len(dataset) // k\n",
        "  train_acc = np.array([])\n",
        "  val_acc = np.array([])\n",
        "\n",
        "  initial_state = copy.deepcopy(model.state_dict())\n",
        "\n",
        "  for i in range(k):\n",
        "      print('Processing fold: ', i + 1)\n",
        "\n",
        "      \"\"\"%%%% Initiate new model %%%%\"\"\" #in every fold\n",
        "      model.load_state_dict(initial_state)\n",
        "      optimizer = torch.optim.AdamW(model.parameters(), lr=1e-3)\n",
        "      sheduler = torch.optim.lr_scheduler.StepLR(optimizer, step_size=5, gamma=0.1)\n",
        "\n",
        "      if i < k - 1:\n",
        "        valid_idx = np.arange(len(dataset))[i * num_val_samples:(i + 1) * num_val_samples]\n",
        "        train_idx = np.concatenate([np.arange(len(dataset))[:i * num_val_samples], np.arange(len(dataset))[(i + 1) * num_val_samples:]], axis=0)\n",
        "      else:\n",
        "        valid_idx = np.arange(len(dataset))[i * num_val_samples:]\n",
        "        train_idx = np.arange(len(dataset))[:i * num_val_samples]\n",
        "\n",
        "      train_dataset = Subset(dataset, train_idx)\n",
        "      valid_dataset = Subset(dataset, valid_idx)\n",
        "      train_loader = DataLoader(train_dataset, batch_size=BATCH_SIZE, collate_fn=collate_batch, shuffle=True, drop_last=True)\n",
        "      valid_loader = DataLoader(valid_dataset, batch_size=BATCH_SIZE, collate_fn=collate_batch, shuffle=False)\n",
        "\n",
        "      t_acc, v_acc, clf_report = training(model, criterion, optimizer, num_epochs, train_loader, valid_loader, sheduler=sheduler, freezing_epochs=2)\n",
        "      train_acc = np.append(train_acc, t_acc.cpu())\n",
        "      val_acc = np.append(val_acc, v_acc.cpu())\n",
        "\n",
        "      print(clf_report)\n",
        "\n",
        "  model.load_state_dict(initial_state)\n",
        "\n",
        "  return train_acc, val_acc, clf_report"
      ],
      "execution_count": null,
      "outputs": []
    },
    {
      "cell_type": "markdown",
      "metadata": {
        "id": "VAuIZ7MF_5tu"
      },
      "source": [
        "## CNN5"
      ]
    },
    {
      "cell_type": "code",
      "metadata": {
        "id": "a_suU85P_3Xi"
      },
      "source": [
        "class CNN_5(nn.Module):\n",
        "    def __init__(\n",
        "        self,\n",
        "        vocab_size,\n",
        "        emb_dim,\n",
        "        out_channels,\n",
        "        kernel_sizes,\n",
        "        n_classes = 2,\n",
        "        dropout=0.2,\n",
        "        embed_weight=None\n",
        "    ):\n",
        "        super().__init__()\n",
        "        if embed_weight == None:\n",
        "          self.embedding = nn.Embedding(vocab_size, emb_dim, padding_idx = PAD_IDX)\n",
        "        else:\n",
        "          self.embedding = nn.Embedding.from_pretrained(embed_weight, freeze=False, padding_idx=0)\n",
        "\n",
        "        self.conv_0 = nn.Conv1d(in_channels=emb_dim, out_channels=out_channels, kernel_size=kernel_sizes[0])\n",
        "        self.conv_1 = nn.Conv1d(in_channels=emb_dim, out_channels=out_channels, kernel_size=kernel_sizes[1])\n",
        "        self.conv_2 = nn.Conv1d(in_channels=emb_dim, out_channels=out_channels, kernel_size=kernel_sizes[2])\n",
        "        self.conv_3 = nn.Conv1d(in_channels=emb_dim, out_channels=out_channels, kernel_size=kernel_sizes[3])\n",
        "        self.conv_4 = nn.Conv1d(in_channels=emb_dim, out_channels=out_channels, kernel_size=kernel_sizes[4])\n",
        "\n",
        "        self.fc = nn.Linear(len(kernel_sizes) * out_channels, len(kernel_sizes) * out_channels)\n",
        "\n",
        "        self.dropout = nn.Dropout(dropout)\n",
        "\n",
        "        self.classifier = nn.Sequential(\n",
        "            nn.Linear(len(kernel_sizes) * out_channels, \n",
        "                      len(kernel_sizes) * out_channels),\n",
        "            nn.LeakyReLU(inplace=True),\n",
        "            nn.BatchNorm1d(len(kernel_sizes) * out_channels),\n",
        "            nn.Linear(len(kernel_sizes) * out_channels, n_classes)\n",
        "        )\n",
        "        \n",
        "    def forward(self, text):\n",
        "        embedded = self.embedding(text)\n",
        "        embedded = embedded.permute(0, 2, 1)\n",
        "        \n",
        "        conved_0 = F.leaky_relu(self.conv_0(embedded))\n",
        "        conved_1 = F.leaky_relu(self.conv_1(embedded))\n",
        "        conved_2 = F.leaky_relu(self.conv_2(embedded))\n",
        "        conved_3 = F.leaky_relu(self.conv_3(embedded))\n",
        "        conved_4 = F.leaky_relu(self.conv_4(embedded))\n",
        "\n",
        "        pooled_0 = F.max_pool1d(conved_0, conved_0.shape[2]).squeeze(2)\n",
        "        pooled_1 = F.max_pool1d(conved_1, conved_1.shape[2]).squeeze(2)\n",
        "        pooled_2 = F.max_pool1d(conved_2, conved_2.shape[2]).squeeze(2)\n",
        "        pooled_3 = F.max_pool1d(conved_3, conved_3.shape[2]).squeeze(2)\n",
        "        pooled_4 = F.max_pool1d(conved_4, conved_4.shape[2]).squeeze(2)\n",
        "\n",
        "        cat = self.dropout(F.leaky_relu(self.fc(torch.cat((pooled_0, pooled_1, pooled_2, pooled_3, pooled_4), dim=1))))\n",
        "        \n",
        "        return self.classifier(cat)"
      ],
      "execution_count": null,
      "outputs": []
    },
    {
      "cell_type": "markdown",
      "metadata": {
        "id": "960Ch4hXA8GT"
      },
      "source": [
        "## Training"
      ]
    },
    {
      "cell_type": "code",
      "metadata": {
        "id": "63taEpgaAevg"
      },
      "source": [
        "enable_reproducibility()\n",
        "\n",
        "kernel_sizes = [1, 2, 3, 4, 5]\n",
        "vocab_size = len(words_vocab)\n",
        "out_channels = 64\n",
        "dropout = 0.2\n",
        "dim = 300\n",
        "\n",
        "model = CNN_5(vocab_size=vocab_size, emb_dim=dim, out_channels=out_channels,\n",
        "            kernel_sizes=kernel_sizes, n_classes=n_classes, dropout=dropout, embed_weight=embed_weights)"
      ],
      "execution_count": null,
      "outputs": []
    },
    {
      "cell_type": "code",
      "metadata": {
        "colab": {
          "base_uri": "https://localhost:8080/"
        },
        "id": "f1mdquYTA7DT",
        "outputId": "6c77339b-55f6-4a5d-858b-5dc61d46a6f1"
      },
      "source": [
        "def count_parameters(model):\n",
        "    return sum(map(lambda x: x.numel(), model.parameters()))\n",
        "\n",
        "print(f'The model has {count_parameters(model):,} trainable parameters')"
      ],
      "execution_count": null,
      "outputs": [
        {
          "output_type": "stream",
          "name": "stdout",
          "text": [
            "The model has 2,192,883 trainable parameters\n"
          ]
        }
      ]
    },
    {
      "cell_type": "code",
      "metadata": {
        "colab": {
          "base_uri": "https://localhost:8080/"
        },
        "id": "2vQ_bW5-BD8p",
        "outputId": "24ea3db7-5881-4274-9ed5-76a38bae67d5"
      },
      "source": [
        "model.to(device)"
      ],
      "execution_count": null,
      "outputs": [
        {
          "output_type": "execute_result",
          "data": {
            "text/plain": [
              "CNN_5(\n",
              "  (embedding): Embedding(5637, 300, padding_idx=0)\n",
              "  (conv_0): Conv1d(300, 64, kernel_size=(1,), stride=(1,))\n",
              "  (conv_1): Conv1d(300, 64, kernel_size=(2,), stride=(1,))\n",
              "  (conv_2): Conv1d(300, 64, kernel_size=(3,), stride=(1,))\n",
              "  (conv_3): Conv1d(300, 64, kernel_size=(4,), stride=(1,))\n",
              "  (conv_4): Conv1d(300, 64, kernel_size=(5,), stride=(1,))\n",
              "  (fc): Linear(in_features=320, out_features=320, bias=True)\n",
              "  (dropout): Dropout(p=0.2, inplace=False)\n",
              "  (classifier): Sequential(\n",
              "    (0): Linear(in_features=320, out_features=320, bias=True)\n",
              "    (1): LeakyReLU(negative_slope=0.01, inplace=True)\n",
              "    (2): BatchNorm1d(320, eps=1e-05, momentum=0.1, affine=True, track_running_stats=True)\n",
              "    (3): Linear(in_features=320, out_features=23, bias=True)\n",
              "  )\n",
              ")"
            ]
          },
          "metadata": {},
          "execution_count": 54
        }
      ]
    },
    {
      "cell_type": "markdown",
      "metadata": {
        "id": "mi1ES2tRcqQM"
      },
      "source": [
        "Веса для каждого из классов"
      ]
    },
    {
      "cell_type": "code",
      "metadata": {
        "id": "TgXNBU5TCd-7",
        "colab": {
          "base_uri": "https://localhost:8080/",
          "height": 49,
          "referenced_widgets": [
            "c3c248c8b47c4182958613461cccea3c",
            "b36a08e05596496fa7e8e0bb7f61c922",
            "7beaf3a11b544ffb8699e0ab0bab5686",
            "014f0ced71bc40cf9bfb4aa3308b8eea",
            "608f49ec444b44c0a116fe002d2554df",
            "590248be95934064a792db2ded4d55ee",
            "8b53346d2f6843b58d90433278a37b49",
            "a21f9a9e178348698a32d1bb8030407c",
            "513a0c0617a24e5c8723345cd38ba49d",
            "3c34a4a7908847eda82dd6ce02f9dddc",
            "7af405dea13d46ea8169cbbc705b1d33"
          ]
        },
        "outputId": "5968b627-74e5-4e13-8e38-8b4df859d87f"
      },
      "source": [
        "weights = [0]* n_classes\n",
        "for batch in tqdm(train_loader):\n",
        "  for i in range(n_classes):\n",
        "    weights[i] += (batch['dir'].cpu() == i).sum().numpy()\n",
        "\n",
        "weights = sum(weights) / torch.tensor(weights, dtype=torch.float32).to(device)\n",
        "weights = weights / weights.min()"
      ],
      "execution_count": null,
      "outputs": [
        {
          "output_type": "display_data",
          "data": {
            "application/vnd.jupyter.widget-view+json": {
              "model_id": "c3c248c8b47c4182958613461cccea3c",
              "version_minor": 0,
              "version_major": 2
            },
            "text/plain": [
              "  0%|          | 0/32686 [00:00<?, ?it/s]"
            ]
          },
          "metadata": {}
        }
      ]
    },
    {
      "cell_type": "code",
      "metadata": {
        "id": "5HXar3v6BIb3"
      },
      "source": [
        "criterion = nn.CrossEntropyLoss(weight=weights)\n",
        "optimizer = torch.optim.AdamW(model.parameters(), lr=1e-3)\n",
        "sheduler = torch.optim.lr_scheduler.StepLR(optimizer, step_size=7, gamma=0.1)\n",
        "\n",
        "num_epochs = 15"
      ],
      "execution_count": null,
      "outputs": []
    },
    {
      "cell_type": "code",
      "metadata": {
        "id": "mQQe5f_yBKDM"
      },
      "source": [
        "enable_reproducibility(raise_if_no_deterministic=False)\n",
        "train_acc, val_acc, _ = KFold_validation(model, criterion, num_epochs, train.values, freezing_epochs=2, k=4)\n",
        "enable_reproducibility()\n",
        "\n",
        "print()\n",
        "print('valid_mean - {}, train_mean - {}'.format(np.mean(val_acc), np.mean(train_acc)))"
      ],
      "execution_count": null,
      "outputs": []
    },
    {
      "cell_type": "markdown",
      "metadata": {
        "id": "ecY7hXtg6wtx"
      },
      "source": [
        "## Submit"
      ]
    },
    {
      "cell_type": "code",
      "metadata": {
        "id": "9YDv4qfTSuVz"
      },
      "source": [
        "enable_reproducibility(raise_if_no_deterministic=False)\n",
        "training(model, criterion, optimizer, num_epochs, train_loader, sheduler=sheduler, freezing_epochs=2)\n",
        "enable_reproducibility()"
      ],
      "execution_count": null,
      "outputs": []
    },
    {
      "cell_type": "code",
      "metadata": {
        "id": "VJ1Uj90yS0MS"
      },
      "source": [
        "preds = []\n",
        "with torch.no_grad():\n",
        "    for batch in test_loader:\n",
        "        prediction = model(batch[\"title\"].to(device))\n",
        "        for p in prediction.argmax(-1):\n",
        "          preds.append(int(p))"
      ],
      "execution_count": null,
      "outputs": []
    },
    {
      "cell_type": "code",
      "metadata": {
        "id": "aV3ICWfymkyW"
      },
      "source": [
        "submit = pd.DataFrame(le.inverse_transform(np.array(preds)), columns=['dir'])"
      ],
      "execution_count": null,
      "outputs": []
    },
    {
      "cell_type": "code",
      "metadata": {
        "id": "YtOGMVijTUP2"
      },
      "source": [
        "submit.head()"
      ],
      "execution_count": null,
      "outputs": []
    },
    {
      "cell_type": "code",
      "metadata": {
        "id": "zWVOou8_mkyW"
      },
      "source": [
        "submit.to_json('submission.json', orient='records', lines=True)"
      ],
      "execution_count": null,
      "outputs": []
    }
  ]
}
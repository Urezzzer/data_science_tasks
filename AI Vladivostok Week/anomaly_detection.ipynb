{
  "nbformat": 4,
  "nbformat_minor": 0,
  "metadata": {
    "kernelspec": {
      "language": "python",
      "display_name": "Python 3",
      "name": "python3"
    },
    "language_info": {
      "name": "python",
      "version": "3.7.10",
      "mimetype": "text/x-python",
      "codemirror_mode": {
        "name": "ipython",
        "version": 3
      },
      "pygments_lexer": "ipython3",
      "nbconvert_exporter": "python",
      "file_extension": ".py"
    },
    "colab": {
      "name": "notebookff734c9406 (1).ipynb",
      "provenance": []
    }
  },
  "cells": [
    {
      "cell_type": "code",
      "metadata": {
        "id": "dOr1HFxN1lF7",
        "execution": {
          "iopub.status.busy": "2021-11-25T16:30:04.244072Z",
          "iopub.execute_input": "2021-11-25T16:30:04.244969Z",
          "iopub.status.idle": "2021-11-25T16:30:07.079791Z",
          "shell.execute_reply.started": "2021-11-25T16:30:04.244842Z",
          "shell.execute_reply": "2021-11-25T16:30:07.078804Z"
        },
        "trusted": true
      },
      "source": [
        "import pandas as pd\n",
        "import numpy as np\n",
        "import os\n",
        "import torch, torchvision\n",
        "import gc\n",
        "import sklearn\n",
        "import time\n",
        "import torch.nn as nn\n",
        "import torch.nn.functional as F\n",
        "import matplotlib.pyplot as plt\n",
        "import IPython.display as display\n",
        "import glob\n",
        "from skimage.io import imread \n",
        "from skimage.transform import resize \n",
        "from tqdm import tqdm_notebook \n",
        "from torchvision import transforms\n",
        "from torchvision import datasets\n",
        "from torch.utils.data import DataLoader\n",
        "import shutil\n",
        "from torchvision import models\n",
        "from torch import optim\n",
        "from sklearn.metrics import accuracy_score"
      ],
      "execution_count": null,
      "outputs": []
    },
    {
      "cell_type": "code",
      "metadata": {
        "id": "NGFicdDUBBKJ",
        "execution": {
          "iopub.status.busy": "2021-11-25T16:30:07.081650Z",
          "iopub.execute_input": "2021-11-25T16:30:07.081906Z",
          "iopub.status.idle": "2021-11-25T16:30:26.937317Z",
          "shell.execute_reply.started": "2021-11-25T16:30:07.081872Z",
          "shell.execute_reply": "2021-11-25T16:30:26.936436Z"
        },
        "trusted": true
      },
      "source": [
        "!pip install gdown"
      ],
      "execution_count": null,
      "outputs": []
    },
    {
      "cell_type": "code",
      "metadata": {
        "id": "9ArWcAEVCzeo",
        "execution": {
          "iopub.status.busy": "2021-11-25T16:30:26.939415Z",
          "iopub.execute_input": "2021-11-25T16:30:26.939796Z",
          "iopub.status.idle": "2021-11-25T16:30:50.730313Z",
          "shell.execute_reply.started": "2021-11-25T16:30:26.939753Z",
          "shell.execute_reply": "2021-11-25T16:30:50.729474Z"
        },
        "trusted": true
      },
      "source": [
        "!gdown --id 1LQ48tW5iffY1qfV0Ej_IBUsjt-oBCuuo \n",
        "!gdown --id 1dVoI5c51SOybpuDqdNEvL509kqlFofFa\n",
        "!gdown --id 1B9X5iD4elDYFlWv0cYdBrFSU4xsaliuT\n",
        "!gdown --id 1xgYMO3BLwjHOReKZ8jLgIvViqklPrSvl"
      ],
      "execution_count": null,
      "outputs": []
    },
    {
      "cell_type": "code",
      "metadata": {
        "id": "aUVEFa2vEvvw",
        "execution": {
          "iopub.status.busy": "2021-11-25T16:30:50.733721Z",
          "iopub.execute_input": "2021-11-25T16:30:50.734394Z",
          "iopub.status.idle": "2021-11-25T16:31:18.784586Z",
          "shell.execute_reply.started": "2021-11-25T16:30:50.734356Z",
          "shell.execute_reply": "2021-11-25T16:31:18.783321Z"
        },
        "collapsed": true,
        "jupyter": {
          "outputs_hidden": true
        },
        "trusted": true
      },
      "source": [
        "!unzip test_dataset.zip\n",
        "!unzip train_dataset.zip\n",
        "!rm -f test_dataset.zip\n",
        "!rm -f train_dataset.zip\n",
        "!rm -f adc.json"
      ],
      "execution_count": null,
      "outputs": []
    },
    {
      "cell_type": "code",
      "metadata": {
        "id": "QgDjvkV89cTX",
        "execution": {
          "iopub.status.busy": "2021-11-25T17:18:05.602201Z",
          "iopub.execute_input": "2021-11-25T17:18:05.602474Z",
          "iopub.status.idle": "2021-11-25T17:18:05.608661Z",
          "shell.execute_reply.started": "2021-11-25T17:18:05.602444Z",
          "shell.execute_reply": "2021-11-25T17:18:05.607948Z"
        },
        "trusted": true
      },
      "source": [
        "SEED = 123\n",
        "BATCH_SIZE = 64"
      ],
      "execution_count": null,
      "outputs": []
    },
    {
      "cell_type": "code",
      "metadata": {
        "id": "QBEek_zLIPqz",
        "execution": {
          "iopub.status.busy": "2021-11-25T16:31:18.793809Z",
          "iopub.execute_input": "2021-11-25T16:31:18.794316Z",
          "iopub.status.idle": "2021-11-25T16:31:23.198739Z",
          "shell.execute_reply.started": "2021-11-25T16:31:18.794279Z",
          "shell.execute_reply": "2021-11-25T16:31:23.197967Z"
        },
        "trusted": true
      },
      "source": [
        "device = 'cuda' if torch.cuda.is_available() else torch.device('cpu')\n",
        "print(device)"
      ],
      "execution_count": null,
      "outputs": []
    },
    {
      "cell_type": "code",
      "metadata": {
        "id": "MadM6P7UIhDf",
        "execution": {
          "iopub.status.busy": "2021-11-25T16:31:23.201036Z",
          "iopub.execute_input": "2021-11-25T16:31:23.201608Z",
          "iopub.status.idle": "2021-11-25T16:31:27.259400Z",
          "shell.execute_reply.started": "2021-11-25T16:31:23.201570Z",
          "shell.execute_reply": "2021-11-25T16:31:27.258523Z"
        },
        "trusted": true
      },
      "source": [
        "train_dataset = pd.read_csv('train.csv')\n",
        "test_dataset = pd.read_csv('test.csv')"
      ],
      "execution_count": null,
      "outputs": []
    },
    {
      "cell_type": "code",
      "metadata": {
        "id": "sTN1feEXIryG",
        "execution": {
          "iopub.status.busy": "2021-11-25T16:31:27.265651Z",
          "iopub.execute_input": "2021-11-25T16:31:27.267892Z",
          "iopub.status.idle": "2021-11-25T16:31:29.608886Z",
          "shell.execute_reply.started": "2021-11-25T16:31:27.267852Z",
          "shell.execute_reply": "2021-11-25T16:31:29.608176Z"
        },
        "trusted": true
      },
      "source": [
        "train_dataset.info()"
      ],
      "execution_count": null,
      "outputs": []
    },
    {
      "cell_type": "code",
      "metadata": {
        "id": "ot-dtbNp9RA1",
        "execution": {
          "iopub.status.busy": "2021-11-25T16:31:29.613126Z",
          "iopub.execute_input": "2021-11-25T16:31:29.615124Z",
          "iopub.status.idle": "2021-11-25T16:31:32.511033Z",
          "shell.execute_reply.started": "2021-11-25T16:31:29.615085Z",
          "shell.execute_reply": "2021-11-25T16:31:32.510307Z"
        },
        "trusted": true
      },
      "source": [
        "train_dataset = train_dataset.sample(frac=1, random_state=SEED)\n",
        "train_dataset = train_dataset.sample(frac=1, random_state=42)"
      ],
      "execution_count": null,
      "outputs": []
    },
    {
      "cell_type": "code",
      "metadata": {
        "id": "kG0OUFoN-oH5",
        "execution": {
          "iopub.status.busy": "2021-11-25T16:31:32.514051Z",
          "iopub.execute_input": "2021-11-25T16:31:32.514486Z",
          "iopub.status.idle": "2021-11-25T16:31:34.626334Z",
          "shell.execute_reply.started": "2021-11-25T16:31:32.514448Z",
          "shell.execute_reply": "2021-11-25T16:31:34.625311Z"
        },
        "trusted": true
      },
      "source": [
        "train_dataset.index = list(i for i in range(train_dataset.shape[0]))"
      ],
      "execution_count": null,
      "outputs": []
    },
    {
      "cell_type": "code",
      "metadata": {
        "id": "Kc9yZDGi_C0w",
        "execution": {
          "iopub.status.busy": "2021-11-25T16:31:46.172700Z",
          "iopub.execute_input": "2021-11-25T16:31:46.173003Z",
          "iopub.status.idle": "2021-11-25T16:31:46.181101Z",
          "shell.execute_reply.started": "2021-11-25T16:31:46.172970Z",
          "shell.execute_reply": "2021-11-25T16:31:46.180221Z"
        },
        "trusted": true
      },
      "source": [
        "train = train_dataset.iloc[0:train_dataset.shape[0]- train_dataset.shape[0]//10, ].copy()\n",
        "valid = train_dataset.iloc[train_dataset.shape[0]- train_dataset.shape[0]//10:train_dataset.shape[0], ].copy()"
      ],
      "execution_count": null,
      "outputs": []
    },
    {
      "cell_type": "code",
      "metadata": {
        "id": "OmdBPVwL9mld",
        "execution": {
          "iopub.status.busy": "2021-11-25T16:31:47.878400Z",
          "iopub.execute_input": "2021-11-25T16:31:47.879114Z",
          "iopub.status.idle": "2021-11-25T16:31:47.886303Z",
          "shell.execute_reply.started": "2021-11-25T16:31:47.879074Z",
          "shell.execute_reply": "2021-11-25T16:31:47.885553Z"
        },
        "trusted": true
      },
      "source": [
        "os.makedirs('train_dataset/1', exist_ok=True)\n",
        "os.makedirs('train_dataset/0', exist_ok=True)\n",
        "os.makedirs('valid_dataset/1', exist_ok=True)\n",
        "os.makedirs('valid_dataset/0', exist_ok=True)\n",
        "os.makedirs('test_dataset/0', exist_ok=True)"
      ],
      "execution_count": null,
      "outputs": []
    },
    {
      "cell_type": "code",
      "metadata": {
        "id": "HmsrGGRV-gxx",
        "execution": {
          "iopub.status.busy": "2021-11-25T16:31:48.141161Z",
          "iopub.execute_input": "2021-11-25T16:31:48.142023Z",
          "iopub.status.idle": "2021-11-25T16:31:49.710619Z",
          "shell.execute_reply.started": "2021-11-25T16:31:48.141962Z",
          "shell.execute_reply": "2021-11-25T16:31:49.709857Z"
        },
        "trusted": true
      },
      "source": [
        "for index, item in train.iterrows():\n",
        "    if item[1] == 1:\n",
        "        shutil.move('train_dataset/'+item[0], 'train_dataset/1')\n",
        "    else:\n",
        "        shutil.move('train_dataset/'+item[0], 'train_dataset/0')\n"
      ],
      "execution_count": null,
      "outputs": []
    },
    {
      "cell_type": "code",
      "metadata": {
        "id": "6MEc9uD5BE-6",
        "execution": {
          "iopub.status.busy": "2021-11-25T16:31:49.712345Z",
          "iopub.execute_input": "2021-11-25T16:31:49.712594Z",
          "iopub.status.idle": "2021-11-25T16:31:49.896041Z",
          "shell.execute_reply.started": "2021-11-25T16:31:49.712557Z",
          "shell.execute_reply": "2021-11-25T16:31:49.895204Z"
        },
        "trusted": true
      },
      "source": [
        "for index, item in valid.iterrows():\n",
        "    if item[1] == 1:\n",
        "        shutil.move('train_dataset/'+item[0], 'valid_dataset/1')\n",
        "    else:\n",
        "        shutil.move('train_dataset/'+item[0], 'valid_dataset/0')"
      ],
      "execution_count": null,
      "outputs": []
    },
    {
      "cell_type": "code",
      "metadata": {
        "execution": {
          "iopub.status.busy": "2021-11-25T16:31:49.897318Z",
          "iopub.execute_input": "2021-11-25T16:31:49.897590Z",
          "iopub.status.idle": "2021-11-25T16:31:50.450347Z",
          "shell.execute_reply.started": "2021-11-25T16:31:49.897556Z",
          "shell.execute_reply": "2021-11-25T16:31:50.418543Z"
        },
        "trusted": true,
        "id": "pimszV6AxQVH"
      },
      "source": [
        "for index, item in test_dataset.iterrows():\n",
        "    shutil.move('test_dataset/'+item[0], 'test_dataset/0')"
      ],
      "execution_count": null,
      "outputs": []
    },
    {
      "cell_type": "code",
      "metadata": {
        "id": "IxfRweMj7udG",
        "execution": {
          "iopub.status.busy": "2021-11-25T16:31:50.460523Z",
          "iopub.execute_input": "2021-11-25T16:31:50.460865Z",
          "iopub.status.idle": "2021-11-25T16:31:50.479819Z",
          "shell.execute_reply.started": "2021-11-25T16:31:50.460818Z",
          "shell.execute_reply": "2021-11-25T16:31:50.477616Z"
        },
        "trusted": true
      },
      "source": [
        "# Image transformations\n",
        "image_transforms = {\n",
        "    # Train uses data augmentation\n",
        "    'train':\n",
        "    transforms.Compose([\n",
        "        transforms.Resize(size=224),\n",
        "        transforms.RandomHorizontalFlip(),\n",
        "        transforms.ToTensor(),\n",
        "        transforms.Normalize([0.485, 0.456, 0.406],\n",
        "                             [0.229, 0.224, 0.225])  # Imagenet standards\n",
        "    ]),\n",
        "    # Validation does not use augmentation\n",
        "    'valid':\n",
        "    transforms.Compose([\n",
        "        transforms.Resize(size=224),\n",
        "        transforms.ToTensor(),\n",
        "        transforms.Normalize([0.485, 0.456, 0.406], [0.229, 0.224, 0.225])\n",
        "    ]),\n",
        "}\n"
      ],
      "execution_count": null,
      "outputs": []
    },
    {
      "cell_type": "code",
      "metadata": {
        "execution": {
          "iopub.status.busy": "2021-11-25T18:37:57.458330Z",
          "iopub.execute_input": "2021-11-25T18:37:57.458590Z",
          "iopub.status.idle": "2021-11-25T18:37:57.464475Z",
          "shell.execute_reply.started": "2021-11-25T18:37:57.458563Z",
          "shell.execute_reply": "2021-11-25T18:37:57.463586Z"
        },
        "trusted": true,
        "id": "1SX_ouuRxQVI"
      },
      "source": [
        "class ImageFolderWithPaths(datasets.ImageFolder):\n",
        "    \"\"\"Custom dataset that includes image file paths. Extends\n",
        "    torchvision.datasets.ImageFolder\n",
        "    \"\"\"\n",
        "\n",
        "    # override the __getitem__ method. this is the method that dataloader calls\n",
        "    def __getitem__(self, index):\n",
        "        # this is what ImageFolder normally returns \n",
        "        original_tuple = super(ImageFolderWithPaths, self).__getitem__(index)\n",
        "        # the image file path\n",
        "        path = self.imgs[index][0][15:]\n",
        "        # make a new tuple that includes original and the path\n",
        "        tuple_with_path = (original_tuple + (path,))\n",
        "        return tuple_with_path"
      ],
      "execution_count": null,
      "outputs": []
    },
    {
      "cell_type": "code",
      "metadata": {
        "id": "cnN7ZqmM794o",
        "execution": {
          "iopub.status.busy": "2021-11-25T18:37:59.281734Z",
          "iopub.execute_input": "2021-11-25T18:37:59.282027Z",
          "iopub.status.idle": "2021-11-25T18:37:59.399582Z",
          "shell.execute_reply.started": "2021-11-25T18:37:59.281996Z",
          "shell.execute_reply": "2021-11-25T18:37:59.398822Z"
        },
        "trusted": true
      },
      "source": [
        "data = {\n",
        "    'train':\n",
        "    datasets.ImageFolder(root='train_dataset', transform=image_transforms['train']),\n",
        "    'valid':\n",
        "    datasets.ImageFolder(root='valid_dataset', transform=image_transforms['valid']),\n",
        "    'test':\n",
        "    ImageFolderWithPaths(root='test_dataset', transform=image_transforms['valid'])\n",
        "}\n",
        "\n",
        "# Dataloader iterators, make sure to shuffle\n",
        "dataloaders = {\n",
        "    'train': DataLoader(data['train'], batch_size=BATCH_SIZE, shuffle=True),\n",
        "    'valid': DataLoader(data['valid'], batch_size=BATCH_SIZE, shuffle=True),\n",
        "    'test':DataLoader(data['test'], batch_size=BATCH_SIZE, shuffle=False, drop_last=False)\n",
        "}"
      ],
      "execution_count": null,
      "outputs": []
    },
    {
      "cell_type": "code",
      "metadata": {
        "id": "cH2FapPk9AA0",
        "execution": {
          "iopub.status.busy": "2021-11-25T16:31:52.210074Z",
          "iopub.execute_input": "2021-11-25T16:31:52.211005Z",
          "iopub.status.idle": "2021-11-25T16:31:52.426019Z",
          "shell.execute_reply.started": "2021-11-25T16:31:52.210956Z",
          "shell.execute_reply": "2021-11-25T16:31:52.425169Z"
        },
        "trusted": true
      },
      "source": [
        "# Iterate through the dataloader once\n",
        "trainiter = iter(dataloaders['train'])\n",
        "features, labels = next(trainiter)\n",
        "features.shape, labels.shape"
      ],
      "execution_count": null,
      "outputs": []
    },
    {
      "cell_type": "code",
      "metadata": {
        "execution": {
          "iopub.status.busy": "2021-11-25T16:31:54.476753Z",
          "iopub.execute_input": "2021-11-25T16:31:54.477458Z",
          "iopub.status.idle": "2021-11-25T16:32:06.539517Z",
          "shell.execute_reply.started": "2021-11-25T16:31:54.477409Z",
          "shell.execute_reply": "2021-11-25T16:32:06.538577Z"
        },
        "trusted": true,
        "id": "8kP9EPaYxQVJ"
      },
      "source": [
        "!pip install --upgrade efficientnet-pytorch"
      ],
      "execution_count": null,
      "outputs": []
    },
    {
      "cell_type": "code",
      "metadata": {
        "execution": {
          "iopub.status.busy": "2021-11-25T16:32:06.542569Z",
          "iopub.execute_input": "2021-11-25T16:32:06.543311Z",
          "iopub.status.idle": "2021-11-25T16:32:06.553515Z",
          "shell.execute_reply.started": "2021-11-25T16:32:06.543273Z",
          "shell.execute_reply": "2021-11-25T16:32:06.552677Z"
        },
        "trusted": true,
        "id": "yCc3MTQhxQVJ"
      },
      "source": [
        "from efficientnet_pytorch import EfficientNet"
      ],
      "execution_count": null,
      "outputs": []
    },
    {
      "cell_type": "code",
      "metadata": {
        "id": "Zo103xuMBrGX",
        "execution": {
          "iopub.status.busy": "2021-11-25T17:18:42.426602Z",
          "iopub.execute_input": "2021-11-25T17:18:42.426872Z",
          "iopub.status.idle": "2021-11-25T17:18:42.526267Z",
          "shell.execute_reply.started": "2021-11-25T17:18:42.426844Z",
          "shell.execute_reply": "2021-11-25T17:18:42.525381Z"
        },
        "trusted": true
      },
      "source": [
        "model = EfficientNet.from_pretrained('efficientnet-b0', num_classes=2)"
      ],
      "execution_count": null,
      "outputs": []
    },
    {
      "cell_type": "code",
      "metadata": {
        "id": "QPEsvDuiCof2",
        "execution": {
          "iopub.status.busy": "2021-11-25T17:18:43.565735Z",
          "iopub.execute_input": "2021-11-25T17:18:43.566586Z",
          "iopub.status.idle": "2021-11-25T17:18:43.572648Z",
          "shell.execute_reply.started": "2021-11-25T17:18:43.566537Z",
          "shell.execute_reply": "2021-11-25T17:18:43.571749Z"
        },
        "trusted": true
      },
      "source": [
        "j = 0\n",
        "for param in model.parameters():\n",
        "    j+=1\n",
        "    if j > 185:\n",
        "        param.requires_grad = False"
      ],
      "execution_count": null,
      "outputs": []
    },
    {
      "cell_type": "code",
      "metadata": {
        "id": "RWMeGYd-DEKc",
        "execution": {
          "iopub.status.busy": "2021-11-25T17:18:44.617959Z",
          "iopub.execute_input": "2021-11-25T17:18:44.618653Z",
          "iopub.status.idle": "2021-11-25T17:18:44.622289Z",
          "shell.execute_reply.started": "2021-11-25T17:18:44.618617Z",
          "shell.execute_reply": "2021-11-25T17:18:44.621500Z"
        },
        "trusted": true
      },
      "source": [
        "# model.classifier = nn.Sequential(\n",
        "#                     nn.Dropout(p=0.2, inplace=True),\n",
        "#                     nn.Linear(in_features=1280, out_features=2, bias=True)\n",
        "#                     )"
      ],
      "execution_count": null,
      "outputs": []
    },
    {
      "cell_type": "code",
      "metadata": {
        "id": "98DcPy39J611",
        "execution": {
          "iopub.status.busy": "2021-11-25T17:18:44.813842Z",
          "iopub.execute_input": "2021-11-25T17:18:44.814515Z",
          "iopub.status.idle": "2021-11-25T17:18:44.840048Z",
          "shell.execute_reply.started": "2021-11-25T17:18:44.814483Z",
          "shell.execute_reply": "2021-11-25T17:18:44.839327Z"
        },
        "trusted": true
      },
      "source": [
        "# Move to gpu\n",
        "model = model.to(device)"
      ],
      "execution_count": null,
      "outputs": []
    },
    {
      "cell_type": "code",
      "metadata": {
        "id": "DhPSr5goD9Pg",
        "execution": {
          "iopub.status.busy": "2021-11-25T17:18:45.026408Z",
          "iopub.execute_input": "2021-11-25T17:18:45.027108Z",
          "iopub.status.idle": "2021-11-25T17:18:45.035351Z",
          "shell.execute_reply.started": "2021-11-25T17:18:45.027071Z",
          "shell.execute_reply": "2021-11-25T17:18:45.034577Z"
        },
        "trusted": true
      },
      "source": [
        "total_params = sum(p.numel() for p in model.parameters())\n",
        "print(f'{total_params:,} total parameters.')\n",
        "total_trainable_params = sum(\n",
        "    p.numel() for p in model.parameters() if p.requires_grad)\n",
        "print(f'{total_trainable_params:,} training parameters.')"
      ],
      "execution_count": null,
      "outputs": []
    },
    {
      "cell_type": "code",
      "metadata": {
        "id": "Aov80Fl9EZSs",
        "execution": {
          "iopub.status.busy": "2021-11-25T17:18:45.207938Z",
          "iopub.execute_input": "2021-11-25T17:18:45.208384Z",
          "iopub.status.idle": "2021-11-25T17:18:45.216330Z",
          "shell.execute_reply.started": "2021-11-25T17:18:45.208350Z",
          "shell.execute_reply": "2021-11-25T17:18:45.215542Z"
        },
        "trusted": true
      },
      "source": [
        "criterion = nn.CrossEntropyLoss()\n",
        "optimizer = optim.Adam(model.parameters())"
      ],
      "execution_count": null,
      "outputs": []
    },
    {
      "cell_type": "code",
      "metadata": {
        "id": "SnX_V7aRUY4I",
        "execution": {
          "iopub.status.busy": "2021-11-25T17:18:46.562182Z",
          "iopub.execute_input": "2021-11-25T17:18:46.562886Z",
          "iopub.status.idle": "2021-11-25T17:18:46.569701Z",
          "shell.execute_reply.started": "2021-11-25T17:18:46.562852Z",
          "shell.execute_reply": "2021-11-25T17:18:46.568748Z"
        },
        "trusted": true
      },
      "source": [
        "def plot_without_attention(tr_err, ts_err, tr_acc, ts_acc):\n",
        "    plt.clf()\n",
        "    fig, axs = plt.subplots(1, 4, figsize=(20, 5))\n",
        "    axs[0].plot(tr_err, label='tr_err')\n",
        "    axs[0].plot(ts_err, label='ts_err')\n",
        "    axs[0].legend()\n",
        "    axs[1].plot(tr_acc, label='tr_acc')\n",
        "    axs[1].plot(ts_acc, label='ts_acc')\n",
        "    axs[1].legend()\n",
        "    axs[2].axis('off')\n",
        "    axs[3].axis('off')\n",
        "    display.clear_output(wait=True)\n",
        "    display.display(plt.gcf())"
      ],
      "execution_count": null,
      "outputs": []
    },
    {
      "cell_type": "code",
      "metadata": {
        "id": "xal-Pw-aEiNq",
        "execution": {
          "iopub.status.busy": "2021-11-25T17:39:02.769806Z",
          "iopub.execute_input": "2021-11-25T17:39:02.770148Z",
          "iopub.status.idle": "2021-11-25T17:43:04.608291Z",
          "shell.execute_reply.started": "2021-11-25T17:39:02.770113Z",
          "shell.execute_reply": "2021-11-25T17:43:04.606967Z"
        },
        "collapsed": true,
        "jupyter": {
          "outputs_hidden": true
        },
        "trusted": true
      },
      "source": [
        "n_epochs_stop = 5\n",
        "min_val_loss = np.Inf\n",
        "epochs_no_improve = 0\n",
        "i = 0\n",
        "for epoch in range(6, 10):\n",
        "    i = 0\n",
        "    errs, accs = [], []\n",
        "    val_loss = 0\n",
        "    if epoch == 1:\n",
        "        j = 0\n",
        "        for param in model.parameters():\n",
        "            j+=1\n",
        "            if j > 190:\n",
        "                param.requires_grad = False\n",
        "            else:\n",
        "                param.requires_grad = True\n",
        "    \n",
        "    if epoch == 2:\n",
        "        j = 0\n",
        "        for param in model.parameters():\n",
        "            j+=1\n",
        "            if j > 195:\n",
        "                param.requires_grad = False\n",
        "            else:\n",
        "                param.requires_grad = True\n",
        "    if epoch == 3:\n",
        "        j = 0\n",
        "        for param in model.parameters():\n",
        "            j+=1\n",
        "            if j > 200:\n",
        "                param.requires_grad = False\n",
        "            else:\n",
        "                param.requires_grad = True\n",
        "    if epoch == 6:\n",
        "        j = 0\n",
        "        for param in model.parameters():\n",
        "            j+=1\n",
        "            if j > 205:\n",
        "                param.requires_grad = False\n",
        "            else:\n",
        "                param.requires_grad = True\n",
        "    for data, targets in tqdm_notebook(dataloaders['train']):\n",
        "        \n",
        "        data = data.to(device)\n",
        "        targets = targets.to(device)\n",
        "        out = model(data)\n",
        "        loss = criterion(out, targets)\n",
        "        loss.backward()\n",
        "        optimizer.step()\n",
        "        pred = torch.argmax(out, dim = 1)\n",
        "        accs.append(accuracy_score(pred.cpu().detach(), targets.cpu().detach()))\n",
        "        if i % 15 == 0:\n",
        "            print(np.mean(accs))\n",
        "        i+=1\n",
        "        torch.cuda.empty_cache()\n",
        "\n",
        "    errs, accs = [], []\n",
        "    with torch.no_grad():\n",
        "        for data, targets in tqdm_notebook(dataloaders['valid']):\n",
        "\n",
        "            data = data.to(device)\n",
        "            targets = targets.to(device)\n",
        "            out = model(data)\n",
        "            loss = criterion(out, targets)\n",
        "            pred = torch.argmax(out, dim = 1)\n",
        "            accs.append(accuracy_score(pred.cpu().detach(), targets.cpu().detach()))\n",
        "            if i % 5 == 0:\n",
        "                print(np.mean(accs))\n",
        "            i+=1\n",
        "            val_loss += loss\n",
        "            torch.cuda.empty_cache()\n",
        "        \n",
        "    val_loss = val_loss / len(dataloaders['valid'])\n",
        "    if val_loss < min_val_loss:\n",
        "        # Save the model\n",
        "        torch.save(model, 'effb0')\n",
        "        epochs_no_improve = 0\n",
        "        min_val_loss = val_loss\n",
        "    else:\n",
        "        epochs_no_improve += 1\n",
        "        # Check early stopping condition\n",
        "        if epochs_no_improve == n_epochs_stop:\n",
        "            print('Early stopping!')\n",
        "            model = torch.load(checkpoint_path)"
      ],
      "execution_count": null,
      "outputs": []
    },
    {
      "cell_type": "code",
      "metadata": {
        "execution": {
          "iopub.status.busy": "2021-11-25T17:43:08.179721Z",
          "iopub.execute_input": "2021-11-25T17:43:08.180005Z",
          "iopub.status.idle": "2021-11-25T17:47:45.353509Z",
          "shell.execute_reply.started": "2021-11-25T17:43:08.179973Z",
          "shell.execute_reply": "2021-11-25T17:47:45.352826Z"
        },
        "trusted": true,
        "id": "7W5Nxqv5xQVL"
      },
      "source": [
        "\n",
        "i = 0\n",
        "accs = []\n",
        "for data, targets in tqdm_notebook(dataloaders['valid']):\n",
        "\n",
        "    data = data.to(device)\n",
        "    targets = targets.to(device)\n",
        "    out = model(data)\n",
        "    loss = criterion(out, targets)\n",
        "    loss.backward()\n",
        "    optimizer.step()\n",
        "    pred = torch.argmax(out, dim = 1)\n",
        "    accs.append(accuracy_score(pred.cpu().detach(), targets.cpu().detach()))\n",
        "    if i % 5 == 0:\n",
        "        print(np.mean(accs))\n",
        "    i+=1\n",
        "    torch.cuda.empty_cache()\n",
        "i = 0\n",
        "accs = []\n",
        "for data, targets in tqdm_notebook(dataloaders['train']):\n",
        "\n",
        "    data = data.to(device)\n",
        "    targets = targets.to(device)\n",
        "    out = model(data)\n",
        "    loss = criterion(out, targets)\n",
        "    loss.backward()\n",
        "    optimizer.step()\n",
        "    pred = torch.argmax(out, dim = 1)\n",
        "    accs.append(accuracy_score(pred.cpu().detach(), targets.cpu().detach()))\n",
        "    if i % 5 == 0:\n",
        "        print(np.mean(accs))\n",
        "    i+=1\n",
        "    torch.cuda.empty_cache()\n",
        "i = 0\n",
        "accs = []\n",
        "for data, targets in tqdm_notebook(dataloaders['valid']):\n",
        "\n",
        "    data = data.to(device)\n",
        "    targets = targets.to(device)\n",
        "    out = model(data)\n",
        "    loss = criterion(out, targets)\n",
        "    loss.backward()\n",
        "    optimizer.step()\n",
        "    pred = torch.argmax(out, dim = 1)\n",
        "    accs.append(accuracy_score(pred.cpu().detach(), targets.cpu().detach()))\n",
        "    if i % 5 == 0:\n",
        "        print(np.mean(accs))\n",
        "    i+=1\n",
        "    torch.cuda.empty_cache()"
      ],
      "execution_count": null,
      "outputs": []
    },
    {
      "cell_type": "code",
      "metadata": {
        "execution": {
          "iopub.status.busy": "2021-11-25T18:38:07.045873Z",
          "iopub.execute_input": "2021-11-25T18:38:07.046440Z",
          "iopub.status.idle": "2021-11-25T18:38:07.052113Z",
          "shell.execute_reply.started": "2021-11-25T18:38:07.046404Z",
          "shell.execute_reply": "2021-11-25T18:38:07.049502Z"
        },
        "trusted": true,
        "id": "wKv4TKj3xQVL"
      },
      "source": [
        "predict = []\n",
        "pathes = []"
      ],
      "execution_count": null,
      "outputs": []
    },
    {
      "cell_type": "code",
      "metadata": {
        "execution": {
          "iopub.status.busy": "2021-11-25T18:38:07.961502Z",
          "iopub.execute_input": "2021-11-25T18:38:07.962306Z",
          "iopub.status.idle": "2021-11-25T18:38:15.614897Z",
          "shell.execute_reply.started": "2021-11-25T18:38:07.962253Z",
          "shell.execute_reply": "2021-11-25T18:38:15.613876Z"
        },
        "trusted": true,
        "id": "wMro5hDOxQVL"
      },
      "source": [
        "with torch.no_grad():\n",
        "    predict = []\n",
        "    pathes = []\n",
        "    for data, targets,path  in tqdm_notebook(dataloaders['test']):\n",
        "        pathes+=path\n",
        "        data = data.to(device)\n",
        "        targets = targets.to(device)\n",
        "        out = model(data)\n",
        "        pred = torch.argmax(out, dim = 1)\n",
        "        pred = np.array(pred.cpu().detach())\n",
        "        predict+= list(pred)\n",
        "        torch.cuda.empty_cache()"
      ],
      "execution_count": null,
      "outputs": []
    },
    {
      "cell_type": "code",
      "metadata": {
        "execution": {
          "iopub.status.busy": "2021-11-25T19:04:45.034468Z",
          "iopub.execute_input": "2021-11-25T19:04:45.034736Z",
          "iopub.status.idle": "2021-11-25T19:04:45.040654Z",
          "shell.execute_reply.started": "2021-11-25T19:04:45.034707Z",
          "shell.execute_reply": "2021-11-25T19:04:45.039860Z"
        },
        "trusted": true,
        "id": "H25ktdIpxQVL"
      },
      "source": [
        "np.mean(predict)"
      ],
      "execution_count": null,
      "outputs": []
    },
    {
      "cell_type": "code",
      "metadata": {
        "execution": {
          "iopub.status.busy": "2021-11-25T19:04:45.265570Z",
          "iopub.execute_input": "2021-11-25T19:04:45.266084Z",
          "iopub.status.idle": "2021-11-25T19:04:45.285394Z",
          "shell.execute_reply.started": "2021-11-25T19:04:45.266047Z",
          "shell.execute_reply": "2021-11-25T19:04:45.284779Z"
        },
        "trusted": true,
        "id": "QqpOU1E2xQVL"
      },
      "source": [
        "res = test_dataset.copy()\n",
        "res['name'] = pathes\n",
        "res['is_corrupted'] = predict\n",
        "res = res.sort_values('name')\n",
        "res"
      ],
      "execution_count": null,
      "outputs": []
    },
    {
      "cell_type": "code",
      "metadata": {
        "execution": {
          "iopub.status.busy": "2021-11-25T19:04:45.885352Z",
          "iopub.execute_input": "2021-11-25T19:04:45.886202Z",
          "iopub.status.idle": "2021-11-25T19:04:45.902942Z",
          "shell.execute_reply.started": "2021-11-25T19:04:45.886155Z",
          "shell.execute_reply": "2021-11-25T19:04:45.901822Z"
        },
        "trusted": true,
        "id": "zgUO29GdxQVL"
      },
      "source": [
        "real_res = test_dataset.copy()\n",
        "real_res = real_res.sort_values('name')\n",
        "real_res['is_corrupted'] = list(res['is_corrupted'])\n",
        "real_res= real_res.sort_index()\n",
        "real_res"
      ],
      "execution_count": null,
      "outputs": []
    },
    {
      "cell_type": "markdown",
      "metadata": {
        "id": "33yeDCT1xQVM"
      },
      "source": [
        ""
      ]
    },
    {
      "cell_type": "code",
      "metadata": {
        "execution": {
          "iopub.status.busy": "2021-11-25T19:05:22.867664Z",
          "iopub.execute_input": "2021-11-25T19:05:22.867959Z",
          "iopub.status.idle": "2021-11-25T19:05:22.883372Z",
          "shell.execute_reply.started": "2021-11-25T19:05:22.867921Z",
          "shell.execute_reply": "2021-11-25T19:05:22.882665Z"
        },
        "trusted": true,
        "id": "moGguEbzxQVM"
      },
      "source": [
        "import pandas as pd\n",
        "from PIL import Image\n",
        "from os.path import join as pj\n",
        "\n",
        "NOISE_MANHATTAN = 200\n",
        "SEQUENCE_MAX_NORMAL = 0.5\n",
        "\n",
        "\n",
        "def manhattan(a, b):\n",
        "    return abs(a[0] - b[0]) + abs(a[1] - b[1]) + abs(a[2] - b[2])\n",
        "\n",
        "\n",
        "def check_rows_for_equal(rgb_image):\n",
        "    width, height = rgb_image.size\n",
        "    for j in range(height):\n",
        "        start_pixel = rgb_image.getpixel((0, j))\n",
        "        is_equal = True\n",
        "        for i in range(1, width):\n",
        "            pixel = rgb_image.getpixel((i, j))\n",
        "            if start_pixel != pixel:\n",
        "                is_equal = False\n",
        "                break\n",
        "        if is_equal:\n",
        "            return 1\n",
        "\n",
        "    return 0\n",
        "\n",
        "\n",
        "def check_rows_for_noise(rgb_image):\n",
        "    width, height = rgb_image.size\n",
        "    for j in range(1, height):\n",
        "        cnt = 0\n",
        "        for i in range(width):\n",
        "            a = rgb_image.getpixel((i, j - 1))\n",
        "            b = rgb_image.getpixel((i, j))\n",
        "            cnt += manhattan(a, b) >= NOISE_MANHATTAN\n",
        "        if cnt > width * SEQUENCE_MAX_NORMAL:\n",
        "            return 1\n",
        "\n",
        "    return 0\n",
        "\n",
        "\n",
        "def check_cols_for_equal(rgb_image):\n",
        "    width, height = rgb_image.size\n",
        "    for i in range(width):\n",
        "        start_pixel = rgb_image.getpixel((i, 0))\n",
        "        is_equal = True\n",
        "        for j in range(1, height):\n",
        "            pixel = rgb_image.getpixel((i, j))\n",
        "            if start_pixel != pixel:\n",
        "                is_equal = False\n",
        "                break\n",
        "        if is_equal:\n",
        "            return 1\n",
        "\n",
        "    return 0\n",
        "\n",
        "\n",
        "def check_cols_for_noise(rgb_image):\n",
        "    width, height = rgb_image.size\n",
        "    for i in range(1, width):\n",
        "        cnt = 0\n",
        "        for j in range(height):\n",
        "            a = rgb_image.getpixel((i - 1, j))\n",
        "            b = rgb_image.getpixel((i, j))\n",
        "            cnt += manhattan(a, b) >= NOISE_MANHATTAN\n",
        "        if cnt > height * SEQUENCE_MAX_NORMAL:\n",
        "            return 1\n",
        "\n",
        "    return 0\n",
        "\n",
        "\n",
        "def is_noisy(image_path):\n",
        "    with Image.open(image_path) as image:\n",
        "        rgb_image = image.convert('RGB')\n",
        "        checks = [\n",
        "            check_rows_for_equal,\n",
        "#             check_rows_for_noise,\n",
        "            check_cols_for_equal,\n",
        "#             check_cols_for_noise,\n",
        "        ]\n",
        "\n",
        "        for check in checks:\n",
        "            if check(rgb_image):\n",
        "                return 1\n",
        "\n",
        "    return 0\n"
      ],
      "execution_count": null,
      "outputs": []
    },
    {
      "cell_type": "code",
      "metadata": {
        "id": "P2Q5-kfOXKbF",
        "execution": {
          "iopub.status.busy": "2021-11-25T19:05:25.657324Z",
          "iopub.execute_input": "2021-11-25T19:05:25.657936Z",
          "iopub.status.idle": "2021-11-25T19:05:31.698554Z",
          "shell.execute_reply.started": "2021-11-25T19:05:25.657874Z",
          "shell.execute_reply": "2021-11-25T19:05:31.697814Z"
        },
        "trusted": true
      },
      "source": [
        "data = pd.read_csv('train.csv')\n",
        "\n",
        "for i in range(real_res.shape[0]):\n",
        "    image_path = pj('test_dataset/0', real_res.at[i, 'name'])\n",
        "    pe = real_res.at[i, 'is_corrupted']\n",
        "    to_check = is_noisy(image_path)\n",
        "    if to_check != pe and to_check == 1:\n",
        "        print(image_path)\n",
        "        real_res.at[i, 'is_corrupted'] = 1"
      ],
      "execution_count": null,
      "outputs": []
    },
    {
      "cell_type": "code",
      "metadata": {
        "execution": {
          "iopub.status.busy": "2021-11-25T19:05:34.811670Z",
          "iopub.execute_input": "2021-11-25T19:05:34.812185Z",
          "iopub.status.idle": "2021-11-25T19:05:34.817441Z",
          "shell.execute_reply.started": "2021-11-25T19:05:34.812148Z",
          "shell.execute_reply": "2021-11-25T19:05:34.816439Z"
        },
        "trusted": true,
        "id": "iMRc92jYxQVN"
      },
      "source": [
        "real_res['is_corrupted'].mean()"
      ],
      "execution_count": null,
      "outputs": []
    },
    {
      "cell_type": "code",
      "metadata": {
        "execution": {
          "iopub.status.busy": "2021-11-25T19:05:36.123856Z",
          "iopub.execute_input": "2021-11-25T19:05:36.124432Z",
          "iopub.status.idle": "2021-11-25T19:05:36.134872Z",
          "shell.execute_reply.started": "2021-11-25T19:05:36.124395Z",
          "shell.execute_reply": "2021-11-25T19:05:36.134108Z"
        },
        "trusted": true,
        "id": "LVAXCe1vxQVN"
      },
      "source": [
        "#submit №7\n",
        "\n",
        "real_res.to_csv('submit.csv')"
      ],
      "execution_count": null,
      "outputs": []
    },
    {
      "cell_type": "code",
      "metadata": {
        "id": "6Fqd57WqxQVO"
      },
      "source": [
        ""
      ],
      "execution_count": null,
      "outputs": []
    }
  ]
}